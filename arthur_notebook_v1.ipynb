{
 "cells": [
  {
   "cell_type": "markdown",
   "id": "5705d15e-ca3e-45ee-8a3b-a3d9ae32446f",
   "metadata": {
    "jp-MarkdownHeadingCollapsed": true,
    "tags": []
   },
   "source": [
    "## Import"
   ]
  },
  {
   "cell_type": "code",
   "execution_count": 1,
   "id": "fc566905-3e2c-4e1c-b24a-fb7e5df5b2b3",
   "metadata": {},
   "outputs": [],
   "source": [
    "import pandas as pd\n",
    "import numpy as np\n",
    "import matplotlib.pyplot as plt\n",
    "\n",
    "#vectorizers\n",
    "from sklearn.feature_extraction.text import CountVectorizer, TfidfVectorizer\n",
    "\n",
    "#modeling\n",
    "from sklearn.linear_model import LinearRegression\n",
    "from sklearn.model_selection import train_test_split, GridSearchCV\n",
    "from sklearn.preprocessing import StandardScaler, OneHotEncoder\n",
    "from sklearn.compose import ColumnTransformer\n",
    "from sklearn.metrics import accuracy_score, recall_score, plot_confusion_matrix\n",
    "from sklearn.decomposition import PCA\n",
    "from sklearn.dummy import DummyClassifier\n",
    "from sklearn.linear_model import LogisticRegression\n",
    "from sklearn.naive_bayes import GaussianNB\n",
    "from sklearn.ensemble import RandomForestClassifier, GradientBoostingClassifier, VotingClassifier\n",
    "from sklearn.neighbors import KNeighborsClassifier\n",
    "from sklearn.tree import DecisionTreeClassifier\n",
    "#import xgboost as xg\n",
    "from sklearn.pipeline import Pipeline \n",
    "from imblearn.over_sampling import SMOTE\n",
    "from imblearn.pipeline import Pipeline as imbpipeline\n",
    "from sklearn.utils import class_weight"
   ]
  },
  {
   "cell_type": "code",
   "execution_count": 2,
   "id": "b0c524c1-ef16-4f90-9c50-d0075678f30b",
   "metadata": {},
   "outputs": [],
   "source": [
    "import pandas as pd\n",
    "import numpy as np\n",
    "import matplotlib.pyplot as plt\n",
    "import seaborn as sns\n",
    "from sklearn.model_selection import train_test_split, ShuffleSplit, cross_validate\n",
    "from sklearn.preprocessing import PolynomialFeatures, StandardScaler, OneHotEncoder\n",
    "from sklearn.dummy import DummyRegressor\n",
    "from sklearn.metrics import mean_squared_error\n",
    "from sklearn.linear_model import LinearRegression\n",
    "from statsmodels.formula.api import ols\n",
    "import statsmodels.stats.api as sms\n",
    "import statsmodels.api as sm\n",
    "import scipy.stats as stats\n",
    "from sklearn.feature_selection import RFE\n",
    "from statsmodels.stats.outliers_influence import OLSInfluence as influence"
   ]
  },
  {
   "cell_type": "code",
   "execution_count": 3,
   "id": "677621f9-225a-491e-a53a-1ee0246305bd",
   "metadata": {},
   "outputs": [],
   "source": [
    "def scores(model, X, y, set_type, return_conf=False):\n",
    "    '''\n",
    "    This function takes in an already fitted model, X, y, and\n",
    "    the type of data (train, validation, or test) in str format,\n",
    "    and prints out the accuracy and recall scores. The function\n",
    "    also prints out the confusion matrix\n",
    "    '''\n",
    "    pred = model.predict(X)\n",
    "    acc_score = accuracy_score(y, pred)\n",
    "    rec_score = recall_score(y, pred)\n",
    "    \n",
    "    print(\"{} Scores\".format(set_type))\n",
    "    print(\"accuracy: \", acc_score)\n",
    "    print(\"recall:   \", rec_score)\n",
    "    fig, ax = plt.subplots(figsize=(6,6))\n",
    "    #set background color to white\n",
    "    fig.patch.set_facecolor('white')\n",
    "    ax.set_title(set_type)\n",
    "    plot_confusion_matrix(model, X, y, ax=ax)\n",
    "    if return_conf == True:\n",
    "        return fig, round(acc_score*100,1), round(rec_score*100,1)\n",
    "    if return_conf == False:\n",
    "        return round(acc_score*100,1), round(rec_score*100,1)"
   ]
  },
  {
   "cell_type": "code",
   "execution_count": 4,
   "id": "3d381517-6c6a-43e2-a468-7e96fd7b1815",
   "metadata": {},
   "outputs": [],
   "source": [
    "def cross_val(estimator,X,y,n_splits=10,test_size=0.25, random_state=None):\n",
    "    \"\"\"\n",
    "    This formula performs cross validation using shuffled splits. Output is a tuple,\n",
    "    The 0th element is the median R2 score for the train sets, the 1st element\n",
    "    is the median R2 score for the test sets.\n",
    "    \n",
    "    \"\"\"\n",
    "    splitter = ShuffleSplit(n_splits=n_splits, test_size=test_size, random_state=random_state)\n",
    "\n",
    "    output = cross_validate(estimator, X=X, y=y, cv=splitter, return_train_score=True)\n",
    "    return np.median(output['train_score']), np.median(output['test_score'])"
   ]
  },
  {
   "cell_type": "code",
   "execution_count": 5,
   "id": "78892961-4104-41a0-9f80-d84c823a9b07",
   "metadata": {},
   "outputs": [],
   "source": [
    "#returns a summary of the median train R-squared, median test R-squared, and differential score based\n",
    "#on the cross validation\n",
    "def cval_summary(train,test,diff):\n",
    "    return f\"The median R-squared values for the train sets were {round(train,3)}, the median R-squared values for the test sets were {round(test,3)}. These values resulted in a differential of {round(diff,5)}\""
   ]
  },
  {
   "cell_type": "code",
   "execution_count": 6,
   "id": "a1de134f-5d15-4eaa-9db9-3e327755babf",
   "metadata": {},
   "outputs": [],
   "source": [
    "def score_model(model, Xtrain, Xtest, ytrain, ytest, log=False):\n",
    "    '''\n",
    "    This function takes in a model and the train and test samples and returns\n",
    "    the train R-squared, test R-squared, and the RMSE\n",
    "    '''\n",
    "    if log == False:\n",
    "        rmse = mean_squared_error(ytest, model.predict(Xtest), squared=False)\n",
    "    else:\n",
    "        rmse = mean_squared_error(np.exp(ytest), np.exp(model.predict(Xtest)), squared=False)\n",
    "    return model.score(Xtrain, ytrain),  model.score(Xtest, ytest), rmse"
   ]
  },
  {
   "cell_type": "code",
   "execution_count": 7,
   "id": "88c01fea-1df2-4d4a-b680-8d38af6d7043",
   "metadata": {},
   "outputs": [],
   "source": [
    "#returns a summary of the train R-squared, test R-squared, differential between R-squared, and RMSE\n",
    "def model_summary(train,test,diff,rmse):\n",
    "    return f\"The R-squared value for the train set was {round(train,3)}, and the R-squared value for the test set was {round(test,3)}. These values resulted in a differential of {round(diff,5)}. The RMSE of our model predicitons was {round(rmse,2)}\""
   ]
  },
  {
   "cell_type": "code",
   "execution_count": 8,
   "id": "b54240e3-f5d3-4677-b029-5fa38d4fd7b7",
   "metadata": {},
   "outputs": [],
   "source": [
    "def actual_vs_predicted(model,X_test,y_test):\n",
    "    \"\"\"\n",
    "    Plots the actual y vs the predicted y\n",
    "    \"\"\"\n",
    "    y_predicted = model.predict(X_test)\n",
    "    fig, ax = plt.subplots(figsize=(10,10))\n",
    "    ax.scatter(x=y_test, y=y_predicted)\n",
    "    ax.set_xlabel(\"Actual Price Values\")\n",
    "    ax.set_ylabel(\"Predicted Price Values\")\n",
    "    ax.set_title(\"Actual vs Predicted\")\n",
    "    \n",
    "    p1 = max(max(y_test), max(y_predicted))\n",
    "    p2 = min(min(y_test), min(y_predicted))\n",
    "    plt.plot([p1, p2], [p1, p2], 'b-')"
   ]
  },
  {
   "cell_type": "markdown",
   "id": "6b534e23-3c77-46d1-8b45-8e9d4de29898",
   "metadata": {
    "tags": []
   },
   "source": [
    "## Reading In and Reviewing Data Files"
   ]
  },
  {
   "cell_type": "code",
   "execution_count": 9,
   "id": "d6d6c8e2-4909-4851-a0a4-5e736002ffd9",
   "metadata": {},
   "outputs": [],
   "source": [
    "df_tsc_price_change = pd.read_csv('data/TSC_Price_Changes.csv')"
   ]
  },
  {
   "cell_type": "code",
   "execution_count": 10,
   "id": "3b722ebf-3ac2-4c90-96ee-07a382dceeaa",
   "metadata": {},
   "outputs": [
    {
     "name": "stdout",
     "output_type": "stream",
     "text": [
      "<class 'pandas.core.frame.DataFrame'>\n",
      "RangeIndex: 3886 entries, 0 to 3885\n",
      "Data columns (total 4 columns):\n",
      " #   Column            Non-Null Count  Dtype  \n",
      "---  ------            --------------  -----  \n",
      " 0   SCRUB_ITEM        3886 non-null   int64  \n",
      " 1   PRICE_START_DATE  3886 non-null   object \n",
      " 2   PRICE_END_DATE    3886 non-null   object \n",
      " 3   TSC_PRICE         3886 non-null   float64\n",
      "dtypes: float64(1), int64(1), object(2)\n",
      "memory usage: 121.6+ KB\n"
     ]
    }
   ],
   "source": [
    "df_tsc_price_change.info()"
   ]
  },
  {
   "cell_type": "code",
   "execution_count": 11,
   "id": "a28f8b5b-c6a1-4ee8-87f7-e47990b31973",
   "metadata": {},
   "outputs": [
    {
     "data": {
      "text/html": [
       "<div>\n",
       "<style scoped>\n",
       "    .dataframe tbody tr th:only-of-type {\n",
       "        vertical-align: middle;\n",
       "    }\n",
       "\n",
       "    .dataframe tbody tr th {\n",
       "        vertical-align: top;\n",
       "    }\n",
       "\n",
       "    .dataframe thead th {\n",
       "        text-align: right;\n",
       "    }\n",
       "</style>\n",
       "<table border=\"1\" class=\"dataframe\">\n",
       "  <thead>\n",
       "    <tr style=\"text-align: right;\">\n",
       "      <th></th>\n",
       "      <th>SCRUB_ITEM</th>\n",
       "      <th>PRICE_START_DATE</th>\n",
       "      <th>PRICE_END_DATE</th>\n",
       "      <th>TSC_PRICE</th>\n",
       "    </tr>\n",
       "  </thead>\n",
       "  <tbody>\n",
       "    <tr>\n",
       "      <th>0</th>\n",
       "      <td>1</td>\n",
       "      <td>2019-08-26</td>\n",
       "      <td>2019-10-03</td>\n",
       "      <td>199.99</td>\n",
       "    </tr>\n",
       "    <tr>\n",
       "      <th>1</th>\n",
       "      <td>1</td>\n",
       "      <td>2019-10-04</td>\n",
       "      <td>2019-10-08</td>\n",
       "      <td>179.99</td>\n",
       "    </tr>\n",
       "    <tr>\n",
       "      <th>2</th>\n",
       "      <td>1</td>\n",
       "      <td>2019-10-09</td>\n",
       "      <td>2019-10-27</td>\n",
       "      <td>199.99</td>\n",
       "    </tr>\n",
       "    <tr>\n",
       "      <th>3</th>\n",
       "      <td>1</td>\n",
       "      <td>2019-10-28</td>\n",
       "      <td>2019-10-29</td>\n",
       "      <td>179.99</td>\n",
       "    </tr>\n",
       "    <tr>\n",
       "      <th>4</th>\n",
       "      <td>1</td>\n",
       "      <td>2019-10-30</td>\n",
       "      <td>2019-11-05</td>\n",
       "      <td>199.99</td>\n",
       "    </tr>\n",
       "  </tbody>\n",
       "</table>\n",
       "</div>"
      ],
      "text/plain": [
       "   SCRUB_ITEM PRICE_START_DATE PRICE_END_DATE  TSC_PRICE\n",
       "0           1       2019-08-26     2019-10-03     199.99\n",
       "1           1       2019-10-04     2019-10-08     179.99\n",
       "2           1       2019-10-09     2019-10-27     199.99\n",
       "3           1       2019-10-28     2019-10-29     179.99\n",
       "4           1       2019-10-30     2019-11-05     199.99"
      ]
     },
     "execution_count": 11,
     "metadata": {},
     "output_type": "execute_result"
    }
   ],
   "source": [
    "df_tsc_price_change.head()"
   ]
  },
  {
   "cell_type": "code",
   "execution_count": 12,
   "id": "133656a3-85ef-4c74-aab6-8c20baf3e311",
   "metadata": {},
   "outputs": [],
   "source": [
    "df_comp_price_change = pd.read_csv('data/Competitors_Price_Changes.csv')"
   ]
  },
  {
   "cell_type": "code",
   "execution_count": 13,
   "id": "0f465e8c-c3b3-4364-b3ae-578aa3bdd06a",
   "metadata": {},
   "outputs": [
    {
     "name": "stdout",
     "output_type": "stream",
     "text": [
      "<class 'pandas.core.frame.DataFrame'>\n",
      "RangeIndex: 90953 entries, 0 to 90952\n",
      "Data columns (total 8 columns):\n",
      " #   Column                       Non-Null Count  Dtype  \n",
      "---  ------                       --------------  -----  \n",
      " 0   SCAN_DATE_TIME               90953 non-null  object \n",
      " 1   SCRUB_ITEM                   90953 non-null  int64  \n",
      " 2   SCRUB_COMPETITOR             90953 non-null  int64  \n",
      " 3   TSC_PRICE                    90953 non-null  float64\n",
      " 4   COMPETITOR_PRICE             90953 non-null  float64\n",
      " 5   CPI_COMPETITIVE_PRICE_INDEX  90953 non-null  float64\n",
      " 6   COMPETITOR_SHIPPING          51396 non-null  float64\n",
      " 7   COMPETITOR_REG_PRICE         90953 non-null  float64\n",
      "dtypes: float64(5), int64(2), object(1)\n",
      "memory usage: 5.6+ MB\n"
     ]
    }
   ],
   "source": [
    "df_comp_price_change.info()"
   ]
  },
  {
   "cell_type": "code",
   "execution_count": 14,
   "id": "6040081f-c3ac-4297-b74e-a2e58fb8d043",
   "metadata": {
    "tags": []
   },
   "outputs": [
    {
     "data": {
      "text/html": [
       "<div>\n",
       "<style scoped>\n",
       "    .dataframe tbody tr th:only-of-type {\n",
       "        vertical-align: middle;\n",
       "    }\n",
       "\n",
       "    .dataframe tbody tr th {\n",
       "        vertical-align: top;\n",
       "    }\n",
       "\n",
       "    .dataframe thead th {\n",
       "        text-align: right;\n",
       "    }\n",
       "</style>\n",
       "<table border=\"1\" class=\"dataframe\">\n",
       "  <thead>\n",
       "    <tr style=\"text-align: right;\">\n",
       "      <th></th>\n",
       "      <th>SCAN_DATE_TIME</th>\n",
       "      <th>SCRUB_ITEM</th>\n",
       "      <th>SCRUB_COMPETITOR</th>\n",
       "      <th>TSC_PRICE</th>\n",
       "      <th>COMPETITOR_PRICE</th>\n",
       "      <th>CPI_COMPETITIVE_PRICE_INDEX</th>\n",
       "      <th>COMPETITOR_SHIPPING</th>\n",
       "      <th>COMPETITOR_REG_PRICE</th>\n",
       "    </tr>\n",
       "  </thead>\n",
       "  <tbody>\n",
       "    <tr>\n",
       "      <th>0</th>\n",
       "      <td>2020-08-06 04:20:00.000</td>\n",
       "      <td>1</td>\n",
       "      <td>1</td>\n",
       "      <td>199.99</td>\n",
       "      <td>205.58</td>\n",
       "      <td>102.7951</td>\n",
       "      <td>0.0</td>\n",
       "      <td>205.58</td>\n",
       "    </tr>\n",
       "    <tr>\n",
       "      <th>1</th>\n",
       "      <td>2020-08-06 04:21:00.000</td>\n",
       "      <td>1</td>\n",
       "      <td>2</td>\n",
       "      <td>199.99</td>\n",
       "      <td>205.58</td>\n",
       "      <td>102.7951</td>\n",
       "      <td>0.0</td>\n",
       "      <td>205.58</td>\n",
       "    </tr>\n",
       "    <tr>\n",
       "      <th>2</th>\n",
       "      <td>2020-08-07 04:24:00.000</td>\n",
       "      <td>1</td>\n",
       "      <td>1</td>\n",
       "      <td>199.99</td>\n",
       "      <td>205.58</td>\n",
       "      <td>102.7951</td>\n",
       "      <td>0.0</td>\n",
       "      <td>205.58</td>\n",
       "    </tr>\n",
       "    <tr>\n",
       "      <th>3</th>\n",
       "      <td>2020-08-07 04:24:00.000</td>\n",
       "      <td>1</td>\n",
       "      <td>2</td>\n",
       "      <td>199.99</td>\n",
       "      <td>205.58</td>\n",
       "      <td>102.7951</td>\n",
       "      <td>0.0</td>\n",
       "      <td>205.58</td>\n",
       "    </tr>\n",
       "    <tr>\n",
       "      <th>4</th>\n",
       "      <td>2020-08-08 04:22:00.000</td>\n",
       "      <td>1</td>\n",
       "      <td>1</td>\n",
       "      <td>199.99</td>\n",
       "      <td>205.58</td>\n",
       "      <td>102.7951</td>\n",
       "      <td>0.0</td>\n",
       "      <td>205.58</td>\n",
       "    </tr>\n",
       "  </tbody>\n",
       "</table>\n",
       "</div>"
      ],
      "text/plain": [
       "            SCAN_DATE_TIME  SCRUB_ITEM  SCRUB_COMPETITOR  TSC_PRICE  \\\n",
       "0  2020-08-06 04:20:00.000           1                 1     199.99   \n",
       "1  2020-08-06 04:21:00.000           1                 2     199.99   \n",
       "2  2020-08-07 04:24:00.000           1                 1     199.99   \n",
       "3  2020-08-07 04:24:00.000           1                 2     199.99   \n",
       "4  2020-08-08 04:22:00.000           1                 1     199.99   \n",
       "\n",
       "   COMPETITOR_PRICE  CPI_COMPETITIVE_PRICE_INDEX  COMPETITOR_SHIPPING  \\\n",
       "0            205.58                     102.7951                  0.0   \n",
       "1            205.58                     102.7951                  0.0   \n",
       "2            205.58                     102.7951                  0.0   \n",
       "3            205.58                     102.7951                  0.0   \n",
       "4            205.58                     102.7951                  0.0   \n",
       "\n",
       "   COMPETITOR_REG_PRICE  \n",
       "0                205.58  \n",
       "1                205.58  \n",
       "2                205.58  \n",
       "3                205.58  \n",
       "4                205.58  "
      ]
     },
     "execution_count": 14,
     "metadata": {},
     "output_type": "execute_result"
    }
   ],
   "source": [
    "df_comp_price_change.head()"
   ]
  },
  {
   "cell_type": "code",
   "execution_count": 15,
   "id": "b5303cef-40d5-4b01-8c9d-033c096fc620",
   "metadata": {},
   "outputs": [],
   "source": [
    "df_tsc_sales = pd.read_csv('data/TSC_Sales_Data.csv')"
   ]
  },
  {
   "cell_type": "code",
   "execution_count": 16,
   "id": "ac450361-4e8e-4c6d-a121-d1c02c2ea51c",
   "metadata": {},
   "outputs": [
    {
     "name": "stdout",
     "output_type": "stream",
     "text": [
      "<class 'pandas.core.frame.DataFrame'>\n",
      "RangeIndex: 70829 entries, 0 to 70828\n",
      "Data columns (total 7 columns):\n",
      " #   Column          Non-Null Count  Dtype  \n",
      "---  ------          --------------  -----  \n",
      " 0   SCRUB_ITEM      70829 non-null  int64  \n",
      " 1   TIME_DIM_KEY    70829 non-null  int64  \n",
      " 2   SCRUB_TRANS_NO  70829 non-null  int64  \n",
      " 3   TRANS_SEQ_NO    70829 non-null  int64  \n",
      " 4   UNIT_QTY        70829 non-null  float64\n",
      " 5   UNIT_PRICE      70829 non-null  float64\n",
      " 6   UNIT_COST       70829 non-null  float64\n",
      "dtypes: float64(3), int64(4)\n",
      "memory usage: 3.8 MB\n"
     ]
    }
   ],
   "source": [
    "df_tsc_sales.info()"
   ]
  },
  {
   "cell_type": "code",
   "execution_count": 17,
   "id": "b642f75b-4307-4175-9c3b-721f47846046",
   "metadata": {
    "tags": []
   },
   "outputs": [
    {
     "data": {
      "text/html": [
       "<div>\n",
       "<style scoped>\n",
       "    .dataframe tbody tr th:only-of-type {\n",
       "        vertical-align: middle;\n",
       "    }\n",
       "\n",
       "    .dataframe tbody tr th {\n",
       "        vertical-align: top;\n",
       "    }\n",
       "\n",
       "    .dataframe thead th {\n",
       "        text-align: right;\n",
       "    }\n",
       "</style>\n",
       "<table border=\"1\" class=\"dataframe\">\n",
       "  <thead>\n",
       "    <tr style=\"text-align: right;\">\n",
       "      <th></th>\n",
       "      <th>SCRUB_ITEM</th>\n",
       "      <th>TIME_DIM_KEY</th>\n",
       "      <th>SCRUB_TRANS_NO</th>\n",
       "      <th>TRANS_SEQ_NO</th>\n",
       "      <th>UNIT_QTY</th>\n",
       "      <th>UNIT_PRICE</th>\n",
       "      <th>UNIT_COST</th>\n",
       "    </tr>\n",
       "  </thead>\n",
       "  <tbody>\n",
       "    <tr>\n",
       "      <th>0</th>\n",
       "      <td>1</td>\n",
       "      <td>20180402</td>\n",
       "      <td>1296</td>\n",
       "      <td>2</td>\n",
       "      <td>2.0</td>\n",
       "      <td>322.99</td>\n",
       "      <td>132.97</td>\n",
       "    </tr>\n",
       "    <tr>\n",
       "      <th>1</th>\n",
       "      <td>1</td>\n",
       "      <td>20181206</td>\n",
       "      <td>6878</td>\n",
       "      <td>1</td>\n",
       "      <td>1.0</td>\n",
       "      <td>322.99</td>\n",
       "      <td>132.97</td>\n",
       "    </tr>\n",
       "    <tr>\n",
       "      <th>2</th>\n",
       "      <td>1</td>\n",
       "      <td>20181210</td>\n",
       "      <td>7010</td>\n",
       "      <td>2</td>\n",
       "      <td>2.0</td>\n",
       "      <td>322.99</td>\n",
       "      <td>132.97</td>\n",
       "    </tr>\n",
       "    <tr>\n",
       "      <th>3</th>\n",
       "      <td>1</td>\n",
       "      <td>20190214</td>\n",
       "      <td>8380</td>\n",
       "      <td>2</td>\n",
       "      <td>1.0</td>\n",
       "      <td>322.99</td>\n",
       "      <td>132.97</td>\n",
       "    </tr>\n",
       "    <tr>\n",
       "      <th>4</th>\n",
       "      <td>1</td>\n",
       "      <td>20190502</td>\n",
       "      <td>10639</td>\n",
       "      <td>1</td>\n",
       "      <td>2.0</td>\n",
       "      <td>219.99</td>\n",
       "      <td>132.97</td>\n",
       "    </tr>\n",
       "    <tr>\n",
       "      <th>5</th>\n",
       "      <td>1</td>\n",
       "      <td>20190515</td>\n",
       "      <td>10987</td>\n",
       "      <td>1</td>\n",
       "      <td>1.0</td>\n",
       "      <td>187.12</td>\n",
       "      <td>132.97</td>\n",
       "    </tr>\n",
       "    <tr>\n",
       "      <th>6</th>\n",
       "      <td>1</td>\n",
       "      <td>20190529</td>\n",
       "      <td>11343</td>\n",
       "      <td>1</td>\n",
       "      <td>1.0</td>\n",
       "      <td>187.12</td>\n",
       "      <td>132.97</td>\n",
       "    </tr>\n",
       "    <tr>\n",
       "      <th>7</th>\n",
       "      <td>1</td>\n",
       "      <td>20190607</td>\n",
       "      <td>11708</td>\n",
       "      <td>1</td>\n",
       "      <td>1.0</td>\n",
       "      <td>186.75</td>\n",
       "      <td>132.97</td>\n",
       "    </tr>\n",
       "    <tr>\n",
       "      <th>8</th>\n",
       "      <td>1</td>\n",
       "      <td>20190610</td>\n",
       "      <td>11788</td>\n",
       "      <td>2</td>\n",
       "      <td>2.0</td>\n",
       "      <td>186.75</td>\n",
       "      <td>132.97</td>\n",
       "    </tr>\n",
       "    <tr>\n",
       "      <th>9</th>\n",
       "      <td>1</td>\n",
       "      <td>20190611</td>\n",
       "      <td>11846</td>\n",
       "      <td>1</td>\n",
       "      <td>1.0</td>\n",
       "      <td>186.75</td>\n",
       "      <td>132.97</td>\n",
       "    </tr>\n",
       "    <tr>\n",
       "      <th>10</th>\n",
       "      <td>1</td>\n",
       "      <td>20190617</td>\n",
       "      <td>12019</td>\n",
       "      <td>1</td>\n",
       "      <td>1.0</td>\n",
       "      <td>186.75</td>\n",
       "      <td>132.97</td>\n",
       "    </tr>\n",
       "    <tr>\n",
       "      <th>11</th>\n",
       "      <td>1</td>\n",
       "      <td>20190617</td>\n",
       "      <td>12020</td>\n",
       "      <td>1</td>\n",
       "      <td>1.0</td>\n",
       "      <td>186.75</td>\n",
       "      <td>132.97</td>\n",
       "    </tr>\n",
       "    <tr>\n",
       "      <th>12</th>\n",
       "      <td>1</td>\n",
       "      <td>20190624</td>\n",
       "      <td>12174</td>\n",
       "      <td>1</td>\n",
       "      <td>1.0</td>\n",
       "      <td>186.75</td>\n",
       "      <td>132.97</td>\n",
       "    </tr>\n",
       "    <tr>\n",
       "      <th>13</th>\n",
       "      <td>1</td>\n",
       "      <td>20190626</td>\n",
       "      <td>12235</td>\n",
       "      <td>1</td>\n",
       "      <td>2.0</td>\n",
       "      <td>186.75</td>\n",
       "      <td>132.97</td>\n",
       "    </tr>\n",
       "    <tr>\n",
       "      <th>14</th>\n",
       "      <td>1</td>\n",
       "      <td>20190702</td>\n",
       "      <td>12380</td>\n",
       "      <td>1</td>\n",
       "      <td>1.0</td>\n",
       "      <td>186.38</td>\n",
       "      <td>132.97</td>\n",
       "    </tr>\n",
       "  </tbody>\n",
       "</table>\n",
       "</div>"
      ],
      "text/plain": [
       "    SCRUB_ITEM  TIME_DIM_KEY  SCRUB_TRANS_NO  TRANS_SEQ_NO  UNIT_QTY  \\\n",
       "0            1      20180402            1296             2       2.0   \n",
       "1            1      20181206            6878             1       1.0   \n",
       "2            1      20181210            7010             2       2.0   \n",
       "3            1      20190214            8380             2       1.0   \n",
       "4            1      20190502           10639             1       2.0   \n",
       "5            1      20190515           10987             1       1.0   \n",
       "6            1      20190529           11343             1       1.0   \n",
       "7            1      20190607           11708             1       1.0   \n",
       "8            1      20190610           11788             2       2.0   \n",
       "9            1      20190611           11846             1       1.0   \n",
       "10           1      20190617           12019             1       1.0   \n",
       "11           1      20190617           12020             1       1.0   \n",
       "12           1      20190624           12174             1       1.0   \n",
       "13           1      20190626           12235             1       2.0   \n",
       "14           1      20190702           12380             1       1.0   \n",
       "\n",
       "    UNIT_PRICE  UNIT_COST  \n",
       "0       322.99     132.97  \n",
       "1       322.99     132.97  \n",
       "2       322.99     132.97  \n",
       "3       322.99     132.97  \n",
       "4       219.99     132.97  \n",
       "5       187.12     132.97  \n",
       "6       187.12     132.97  \n",
       "7       186.75     132.97  \n",
       "8       186.75     132.97  \n",
       "9       186.75     132.97  \n",
       "10      186.75     132.97  \n",
       "11      186.75     132.97  \n",
       "12      186.75     132.97  \n",
       "13      186.75     132.97  \n",
       "14      186.38     132.97  "
      ]
     },
     "execution_count": 17,
     "metadata": {},
     "output_type": "execute_result"
    }
   ],
   "source": [
    "df_tsc_sales.head(15)"
   ]
  },
  {
   "cell_type": "markdown",
   "id": "08f23d6f-92ae-4cbd-89fb-22e59a778484",
   "metadata": {
    "jp-MarkdownHeadingCollapsed": true,
    "tags": []
   },
   "source": [
    "## Isolating Unique Combinations"
   ]
  },
  {
   "cell_type": "code",
   "execution_count": 18,
   "id": "83175672-e7d4-4206-92b5-1a70a1f1c246",
   "metadata": {},
   "outputs": [
    {
     "data": {
      "text/plain": [
       "'2021-08-06 11:48:00.000'"
      ]
     },
     "execution_count": 18,
     "metadata": {},
     "output_type": "execute_result"
    }
   ],
   "source": [
    "df_comp_price_change['SCAN_DATE_TIME'].max()"
   ]
  },
  {
   "cell_type": "code",
   "execution_count": 19,
   "id": "ca6ce9fd-c984-41d7-b078-9c363360d527",
   "metadata": {},
   "outputs": [
    {
     "data": {
      "text/plain": [
       "20210806"
      ]
     },
     "execution_count": 19,
     "metadata": {},
     "output_type": "execute_result"
    }
   ],
   "source": [
    "df_tsc_sales['TIME_DIM_KEY'].max()"
   ]
  },
  {
   "cell_type": "code",
   "execution_count": 20,
   "id": "0d8520d1-cc6c-40e1-8216-4b8edfe521a9",
   "metadata": {},
   "outputs": [],
   "source": [
    "df1 = df_comp_price_change[['SCRUB_ITEM', 'SCRUB_COMPETITOR']]\n",
    "df2 = pd.DataFrame(df_tsc_sales['SCRUB_ITEM'])"
   ]
  },
  {
   "cell_type": "code",
   "execution_count": 21,
   "id": "c4aa77d6-a38b-4de3-a8cd-a5f762f85fd6",
   "metadata": {},
   "outputs": [
    {
     "name": "stderr",
     "output_type": "stream",
     "text": [
      "/Users/arthur/opt/anaconda3/envs/main_env/lib/python3.8/site-packages/pandas/util/_decorators.py:311: SettingWithCopyWarning: \n",
      "A value is trying to be set on a copy of a slice from a DataFrame\n",
      "\n",
      "See the caveats in the documentation: https://pandas.pydata.org/pandas-docs/stable/user_guide/indexing.html#returning-a-view-versus-a-copy\n",
      "  return func(*args, **kwargs)\n"
     ]
    }
   ],
   "source": [
    "df1.drop_duplicates(inplace=True)\n",
    "df2.drop_duplicates(inplace=True)"
   ]
  },
  {
   "cell_type": "code",
   "execution_count": 22,
   "id": "8ca5a9e7-1b6d-4797-b55a-cc51c2547368",
   "metadata": {},
   "outputs": [],
   "source": [
    "year_month = pd.DataFrame([[2022,1],\n",
    "              [2022,2],\n",
    "              [2022,3],\n",
    "              [2022,4],\n",
    "              [2022,5],\n",
    "              [2022,6],\n",
    "              [2022,7],\n",
    "              [2022,8],\n",
    "              [2022,9],\n",
    "              [2022,10],\n",
    "              [2022,11],\n",
    "              [2022,12]])\n",
    "year_month.rename(columns={0:'YEAR',1:'MONTH'},inplace=True)"
   ]
  },
  {
   "cell_type": "code",
   "execution_count": 23,
   "id": "32a5b58a-0155-4257-a2f4-d428ee848088",
   "metadata": {},
   "outputs": [
    {
     "name": "stdout",
     "output_type": "stream",
     "text": [
      "<class 'pandas.core.frame.DataFrame'>\n",
      "Int64Index: 229 entries, 0 to 90740\n",
      "Data columns (total 2 columns):\n",
      " #   Column            Non-Null Count  Dtype\n",
      "---  ------            --------------  -----\n",
      " 0   SCRUB_ITEM        229 non-null    int64\n",
      " 1   SCRUB_COMPETITOR  229 non-null    int64\n",
      "dtypes: int64(2)\n",
      "memory usage: 5.4 KB\n"
     ]
    }
   ],
   "source": [
    "df1.info()"
   ]
  },
  {
   "cell_type": "code",
   "execution_count": 24,
   "id": "18075e3e-22a1-47b7-9d62-3e487f5ec4df",
   "metadata": {},
   "outputs": [],
   "source": [
    "year_month1 = year_month.copy()\n",
    "i=0\n",
    "while i < 228:\n",
    "    year_month1 = pd.concat([year_month1,year_month])\n",
    "    i+=1\n",
    "year_month1.reset_index(inplace=True, drop=True)"
   ]
  },
  {
   "cell_type": "code",
   "execution_count": 25,
   "id": "ce4e1dcd-1a9c-41b5-a788-4fcfab0bb8c3",
   "metadata": {},
   "outputs": [
    {
     "name": "stdout",
     "output_type": "stream",
     "text": [
      "<class 'pandas.core.frame.DataFrame'>\n",
      "Int64Index: 97 entries, 0 to 68804\n",
      "Data columns (total 1 columns):\n",
      " #   Column      Non-Null Count  Dtype\n",
      "---  ------      --------------  -----\n",
      " 0   SCRUB_ITEM  97 non-null     int64\n",
      "dtypes: int64(1)\n",
      "memory usage: 1.5 KB\n"
     ]
    }
   ],
   "source": [
    "df2.info()"
   ]
  },
  {
   "cell_type": "code",
   "execution_count": 26,
   "id": "4fc9e814-adf9-4110-86c9-e6bae05f4526",
   "metadata": {},
   "outputs": [],
   "source": [
    "year_month2 = year_month.copy()\n",
    "i=0\n",
    "while i < 96:\n",
    "    year_month2 = pd.concat([year_month2,year_month])\n",
    "    i+=1\n",
    "year_month2.reset_index(inplace=True, drop=True)"
   ]
  },
  {
   "cell_type": "code",
   "execution_count": 27,
   "id": "163e755c-429e-4feb-8b31-32aaa22d49b4",
   "metadata": {},
   "outputs": [
    {
     "data": {
      "text/html": [
       "<div>\n",
       "<style scoped>\n",
       "    .dataframe tbody tr th:only-of-type {\n",
       "        vertical-align: middle;\n",
       "    }\n",
       "\n",
       "    .dataframe tbody tr th {\n",
       "        vertical-align: top;\n",
       "    }\n",
       "\n",
       "    .dataframe thead th {\n",
       "        text-align: right;\n",
       "    }\n",
       "</style>\n",
       "<table border=\"1\" class=\"dataframe\">\n",
       "  <thead>\n",
       "    <tr style=\"text-align: right;\">\n",
       "      <th></th>\n",
       "      <th>SCRUB_ITEM</th>\n",
       "      <th>SCRUB_COMPETITOR</th>\n",
       "    </tr>\n",
       "  </thead>\n",
       "  <tbody>\n",
       "    <tr>\n",
       "      <th>0</th>\n",
       "      <td>1</td>\n",
       "      <td>1</td>\n",
       "    </tr>\n",
       "    <tr>\n",
       "      <th>1</th>\n",
       "      <td>1</td>\n",
       "      <td>1</td>\n",
       "    </tr>\n",
       "    <tr>\n",
       "      <th>2</th>\n",
       "      <td>1</td>\n",
       "      <td>1</td>\n",
       "    </tr>\n",
       "    <tr>\n",
       "      <th>3</th>\n",
       "      <td>1</td>\n",
       "      <td>1</td>\n",
       "    </tr>\n",
       "    <tr>\n",
       "      <th>4</th>\n",
       "      <td>1</td>\n",
       "      <td>1</td>\n",
       "    </tr>\n",
       "    <tr>\n",
       "      <th>...</th>\n",
       "      <td>...</td>\n",
       "      <td>...</td>\n",
       "    </tr>\n",
       "    <tr>\n",
       "      <th>2743</th>\n",
       "      <td>97</td>\n",
       "      <td>3</td>\n",
       "    </tr>\n",
       "    <tr>\n",
       "      <th>2744</th>\n",
       "      <td>97</td>\n",
       "      <td>3</td>\n",
       "    </tr>\n",
       "    <tr>\n",
       "      <th>2745</th>\n",
       "      <td>97</td>\n",
       "      <td>3</td>\n",
       "    </tr>\n",
       "    <tr>\n",
       "      <th>2746</th>\n",
       "      <td>97</td>\n",
       "      <td>3</td>\n",
       "    </tr>\n",
       "    <tr>\n",
       "      <th>2747</th>\n",
       "      <td>97</td>\n",
       "      <td>3</td>\n",
       "    </tr>\n",
       "  </tbody>\n",
       "</table>\n",
       "<p>2748 rows × 2 columns</p>\n",
       "</div>"
      ],
      "text/plain": [
       "      SCRUB_ITEM  SCRUB_COMPETITOR\n",
       "0              1                 1\n",
       "1              1                 1\n",
       "2              1                 1\n",
       "3              1                 1\n",
       "4              1                 1\n",
       "...          ...               ...\n",
       "2743          97                 3\n",
       "2744          97                 3\n",
       "2745          97                 3\n",
       "2746          97                 3\n",
       "2747          97                 3\n",
       "\n",
       "[2748 rows x 2 columns]"
      ]
     },
     "execution_count": 27,
     "metadata": {},
     "output_type": "execute_result"
    }
   ],
   "source": [
    "newdf1 = pd.DataFrame(np.repeat(df1.values,12,axis=0))\n",
    "newdf1.columns = df1.columns\n",
    "newdf1.reset_index(inplace=True,drop=True)\n",
    "newdf1"
   ]
  },
  {
   "cell_type": "code",
   "execution_count": 28,
   "id": "35d357b8-968e-4403-a7a8-fbe7362900a8",
   "metadata": {},
   "outputs": [],
   "source": [
    "newdf1 = newdf1.merge(year_month1,left_index=True,right_index=True)"
   ]
  },
  {
   "cell_type": "code",
   "execution_count": 29,
   "id": "cd3ba72a-0e79-4d57-9d32-06e44e7812f2",
   "metadata": {},
   "outputs": [
    {
     "data": {
      "text/html": [
       "<div>\n",
       "<style scoped>\n",
       "    .dataframe tbody tr th:only-of-type {\n",
       "        vertical-align: middle;\n",
       "    }\n",
       "\n",
       "    .dataframe tbody tr th {\n",
       "        vertical-align: top;\n",
       "    }\n",
       "\n",
       "    .dataframe thead th {\n",
       "        text-align: right;\n",
       "    }\n",
       "</style>\n",
       "<table border=\"1\" class=\"dataframe\">\n",
       "  <thead>\n",
       "    <tr style=\"text-align: right;\">\n",
       "      <th></th>\n",
       "      <th>SCRUB_ITEM</th>\n",
       "    </tr>\n",
       "  </thead>\n",
       "  <tbody>\n",
       "    <tr>\n",
       "      <th>0</th>\n",
       "      <td>1</td>\n",
       "    </tr>\n",
       "    <tr>\n",
       "      <th>1</th>\n",
       "      <td>1</td>\n",
       "    </tr>\n",
       "    <tr>\n",
       "      <th>2</th>\n",
       "      <td>1</td>\n",
       "    </tr>\n",
       "    <tr>\n",
       "      <th>3</th>\n",
       "      <td>1</td>\n",
       "    </tr>\n",
       "    <tr>\n",
       "      <th>4</th>\n",
       "      <td>1</td>\n",
       "    </tr>\n",
       "    <tr>\n",
       "      <th>...</th>\n",
       "      <td>...</td>\n",
       "    </tr>\n",
       "    <tr>\n",
       "      <th>1159</th>\n",
       "      <td>97</td>\n",
       "    </tr>\n",
       "    <tr>\n",
       "      <th>1160</th>\n",
       "      <td>97</td>\n",
       "    </tr>\n",
       "    <tr>\n",
       "      <th>1161</th>\n",
       "      <td>97</td>\n",
       "    </tr>\n",
       "    <tr>\n",
       "      <th>1162</th>\n",
       "      <td>97</td>\n",
       "    </tr>\n",
       "    <tr>\n",
       "      <th>1163</th>\n",
       "      <td>97</td>\n",
       "    </tr>\n",
       "  </tbody>\n",
       "</table>\n",
       "<p>1164 rows × 1 columns</p>\n",
       "</div>"
      ],
      "text/plain": [
       "      SCRUB_ITEM\n",
       "0              1\n",
       "1              1\n",
       "2              1\n",
       "3              1\n",
       "4              1\n",
       "...          ...\n",
       "1159          97\n",
       "1160          97\n",
       "1161          97\n",
       "1162          97\n",
       "1163          97\n",
       "\n",
       "[1164 rows x 1 columns]"
      ]
     },
     "execution_count": 29,
     "metadata": {},
     "output_type": "execute_result"
    }
   ],
   "source": [
    "newdf2 = pd.DataFrame(np.repeat(df2.values,12,axis=0))\n",
    "newdf2.columns = df2.columns\n",
    "newdf2.reset_index(inplace=True, drop=True)\n",
    "newdf2"
   ]
  },
  {
   "cell_type": "code",
   "execution_count": 30,
   "id": "8d54a222-729d-429b-9f09-22491501a09c",
   "metadata": {},
   "outputs": [],
   "source": [
    "newdf2 = newdf2.merge(year_month2,left_index=True,right_index=True)"
   ]
  },
  {
   "cell_type": "code",
   "execution_count": 31,
   "id": "2e789e20-8f84-414a-92a2-0c150b80853b",
   "metadata": {},
   "outputs": [
    {
     "name": "stdout",
     "output_type": "stream",
     "text": [
      "<class 'pandas.core.frame.DataFrame'>\n",
      "RangeIndex: 2748 entries, 0 to 2747\n",
      "Data columns (total 4 columns):\n",
      " #   Column            Non-Null Count  Dtype\n",
      "---  ------            --------------  -----\n",
      " 0   SCRUB_ITEM        2748 non-null   int64\n",
      " 1   SCRUB_COMPETITOR  2748 non-null   int64\n",
      " 2   YEAR              2748 non-null   int64\n",
      " 3   MONTH             2748 non-null   int64\n",
      "dtypes: int64(4)\n",
      "memory usage: 86.0 KB\n"
     ]
    }
   ],
   "source": [
    "newdf1.info()"
   ]
  },
  {
   "cell_type": "code",
   "execution_count": 32,
   "id": "e91ce68f-02f5-422a-8304-20a6fd82137f",
   "metadata": {},
   "outputs": [
    {
     "name": "stdout",
     "output_type": "stream",
     "text": [
      "<class 'pandas.core.frame.DataFrame'>\n",
      "RangeIndex: 1164 entries, 0 to 1163\n",
      "Data columns (total 3 columns):\n",
      " #   Column      Non-Null Count  Dtype\n",
      "---  ------      --------------  -----\n",
      " 0   SCRUB_ITEM  1164 non-null   int64\n",
      " 1   YEAR        1164 non-null   int64\n",
      " 2   MONTH       1164 non-null   int64\n",
      "dtypes: int64(3)\n",
      "memory usage: 27.4 KB\n"
     ]
    }
   ],
   "source": [
    "newdf2.info()"
   ]
  },
  {
   "cell_type": "markdown",
   "id": "2323f1d7-563b-4d4a-9839-97dfd7bf3428",
   "metadata": {
    "tags": []
   },
   "source": [
    "## Predicting Comp Price"
   ]
  },
  {
   "cell_type": "code",
   "execution_count": 33,
   "id": "96caa642-79ab-4513-983e-dfce3c3744a4",
   "metadata": {},
   "outputs": [
    {
     "data": {
      "text/html": [
       "<div>\n",
       "<style scoped>\n",
       "    .dataframe tbody tr th:only-of-type {\n",
       "        vertical-align: middle;\n",
       "    }\n",
       "\n",
       "    .dataframe tbody tr th {\n",
       "        vertical-align: top;\n",
       "    }\n",
       "\n",
       "    .dataframe thead th {\n",
       "        text-align: right;\n",
       "    }\n",
       "</style>\n",
       "<table border=\"1\" class=\"dataframe\">\n",
       "  <thead>\n",
       "    <tr style=\"text-align: right;\">\n",
       "      <th></th>\n",
       "      <th>SCAN_DATE_TIME</th>\n",
       "      <th>SCRUB_ITEM</th>\n",
       "      <th>SCRUB_COMPETITOR</th>\n",
       "      <th>TSC_PRICE</th>\n",
       "      <th>COMPETITOR_PRICE</th>\n",
       "      <th>CPI_COMPETITIVE_PRICE_INDEX</th>\n",
       "      <th>COMPETITOR_SHIPPING</th>\n",
       "      <th>COMPETITOR_REG_PRICE</th>\n",
       "    </tr>\n",
       "  </thead>\n",
       "  <tbody>\n",
       "    <tr>\n",
       "      <th>0</th>\n",
       "      <td>2020-08-06 04:20:00.000</td>\n",
       "      <td>1</td>\n",
       "      <td>1</td>\n",
       "      <td>199.99</td>\n",
       "      <td>205.58</td>\n",
       "      <td>102.7951</td>\n",
       "      <td>0.0</td>\n",
       "      <td>205.58</td>\n",
       "    </tr>\n",
       "    <tr>\n",
       "      <th>1</th>\n",
       "      <td>2020-08-06 04:21:00.000</td>\n",
       "      <td>1</td>\n",
       "      <td>2</td>\n",
       "      <td>199.99</td>\n",
       "      <td>205.58</td>\n",
       "      <td>102.7951</td>\n",
       "      <td>0.0</td>\n",
       "      <td>205.58</td>\n",
       "    </tr>\n",
       "    <tr>\n",
       "      <th>2</th>\n",
       "      <td>2020-08-07 04:24:00.000</td>\n",
       "      <td>1</td>\n",
       "      <td>1</td>\n",
       "      <td>199.99</td>\n",
       "      <td>205.58</td>\n",
       "      <td>102.7951</td>\n",
       "      <td>0.0</td>\n",
       "      <td>205.58</td>\n",
       "    </tr>\n",
       "    <tr>\n",
       "      <th>3</th>\n",
       "      <td>2020-08-07 04:24:00.000</td>\n",
       "      <td>1</td>\n",
       "      <td>2</td>\n",
       "      <td>199.99</td>\n",
       "      <td>205.58</td>\n",
       "      <td>102.7951</td>\n",
       "      <td>0.0</td>\n",
       "      <td>205.58</td>\n",
       "    </tr>\n",
       "    <tr>\n",
       "      <th>4</th>\n",
       "      <td>2020-08-08 04:22:00.000</td>\n",
       "      <td>1</td>\n",
       "      <td>1</td>\n",
       "      <td>199.99</td>\n",
       "      <td>205.58</td>\n",
       "      <td>102.7951</td>\n",
       "      <td>0.0</td>\n",
       "      <td>205.58</td>\n",
       "    </tr>\n",
       "  </tbody>\n",
       "</table>\n",
       "</div>"
      ],
      "text/plain": [
       "            SCAN_DATE_TIME  SCRUB_ITEM  SCRUB_COMPETITOR  TSC_PRICE  \\\n",
       "0  2020-08-06 04:20:00.000           1                 1     199.99   \n",
       "1  2020-08-06 04:21:00.000           1                 2     199.99   \n",
       "2  2020-08-07 04:24:00.000           1                 1     199.99   \n",
       "3  2020-08-07 04:24:00.000           1                 2     199.99   \n",
       "4  2020-08-08 04:22:00.000           1                 1     199.99   \n",
       "\n",
       "   COMPETITOR_PRICE  CPI_COMPETITIVE_PRICE_INDEX  COMPETITOR_SHIPPING  \\\n",
       "0            205.58                     102.7951                  0.0   \n",
       "1            205.58                     102.7951                  0.0   \n",
       "2            205.58                     102.7951                  0.0   \n",
       "3            205.58                     102.7951                  0.0   \n",
       "4            205.58                     102.7951                  0.0   \n",
       "\n",
       "   COMPETITOR_REG_PRICE  \n",
       "0                205.58  \n",
       "1                205.58  \n",
       "2                205.58  \n",
       "3                205.58  \n",
       "4                205.58  "
      ]
     },
     "execution_count": 33,
     "metadata": {},
     "output_type": "execute_result"
    }
   ],
   "source": [
    "df_comp_price_change.head()"
   ]
  },
  {
   "cell_type": "code",
   "execution_count": 34,
   "id": "1f1449ab-1cc4-43bd-ae31-30478b883bca",
   "metadata": {},
   "outputs": [],
   "source": [
    "df_comp_price_change['COMPETITOR_SHIPPING'].fillna(0,inplace=True)"
   ]
  },
  {
   "cell_type": "code",
   "execution_count": 35,
   "id": "0e50a3c2-5bb8-4228-b07a-c8061cb1e520",
   "metadata": {},
   "outputs": [],
   "source": [
    "df_comp_price_change['YEAR'] = pd.to_numeric(df_comp_price_change['SCAN_DATE_TIME'].str[:4], errors='coerce')\n",
    "df_comp_price_change['MONTH'] = pd.to_numeric(df_comp_price_change['SCAN_DATE_TIME'].str[5:7], errors='coerce')"
   ]
  },
  {
   "cell_type": "code",
   "execution_count": 83,
   "id": "211879c9-1008-4ca1-a429-50d225b5e2c7",
   "metadata": {},
   "outputs": [],
   "source": [
    "df_comp_price_change['TOTAL_PRICE'] = df_comp_price_change['COMPETITOR_PRICE'] + df_comp_price_change['COMPETITOR_SHIPPING']"
   ]
  },
  {
   "cell_type": "code",
   "execution_count": 37,
   "id": "a3ed45df-cc39-4680-9fbd-3bf0eb3d8376",
   "metadata": {},
   "outputs": [
    {
     "name": "stdout",
     "output_type": "stream",
     "text": [
      "<class 'pandas.core.frame.DataFrame'>\n",
      "RangeIndex: 90953 entries, 0 to 90952\n",
      "Data columns (total 11 columns):\n",
      " #   Column                       Non-Null Count  Dtype  \n",
      "---  ------                       --------------  -----  \n",
      " 0   SCAN_DATE_TIME               90953 non-null  object \n",
      " 1   SCRUB_ITEM                   90953 non-null  int64  \n",
      " 2   SCRUB_COMPETITOR             90953 non-null  int64  \n",
      " 3   TSC_PRICE                    90953 non-null  float64\n",
      " 4   COMPETITOR_PRICE             90953 non-null  float64\n",
      " 5   CPI_COMPETITIVE_PRICE_INDEX  90953 non-null  float64\n",
      " 6   COMPETITOR_SHIPPING          90953 non-null  float64\n",
      " 7   COMPETITOR_REG_PRICE         90953 non-null  float64\n",
      " 8   YEAR                         90953 non-null  int64  \n",
      " 9   MONTH                        90953 non-null  int64  \n",
      " 10  TOTAL_PRICE                  90953 non-null  float64\n",
      "dtypes: float64(6), int64(4), object(1)\n",
      "memory usage: 7.6+ MB\n"
     ]
    }
   ],
   "source": [
    "df_comp_price_change.info()"
   ]
  },
  {
   "cell_type": "code",
   "execution_count": 38,
   "id": "61fbd93a-6e1f-46b1-a146-543679cd0cbe",
   "metadata": {},
   "outputs": [],
   "source": [
    "newdf = df_comp_price_change.drop(['SCAN_DATE_TIME',\n",
    "                           'COMPETITOR_PRICE',\n",
    "                           'COMPETITOR_SHIPPING',\n",
    "                           'COMPETITOR_REG_PRICE',\n",
    "                           'CPI_COMPETITIVE_PRICE_INDEX'], \n",
    "                          axis=1)"
   ]
  },
  {
   "cell_type": "code",
   "execution_count": 39,
   "id": "d1a8c8b1-d17b-4d67-8ff8-c2c3ecb65f2e",
   "metadata": {},
   "outputs": [
    {
     "name": "stdout",
     "output_type": "stream",
     "text": [
      "<class 'pandas.core.frame.DataFrame'>\n",
      "RangeIndex: 90953 entries, 0 to 90952\n",
      "Data columns (total 6 columns):\n",
      " #   Column            Non-Null Count  Dtype  \n",
      "---  ------            --------------  -----  \n",
      " 0   SCRUB_ITEM        90953 non-null  int64  \n",
      " 1   SCRUB_COMPETITOR  90953 non-null  int64  \n",
      " 2   TSC_PRICE         90953 non-null  float64\n",
      " 3   YEAR              90953 non-null  int64  \n",
      " 4   MONTH             90953 non-null  int64  \n",
      " 5   TOTAL_PRICE       90953 non-null  float64\n",
      "dtypes: float64(2), int64(4)\n",
      "memory usage: 4.2 MB\n"
     ]
    }
   ],
   "source": [
    "newdf.info()"
   ]
  },
  {
   "cell_type": "code",
   "execution_count": 40,
   "id": "01c4997c-00fc-4426-8080-2c66c3a17ced",
   "metadata": {},
   "outputs": [],
   "source": [
    "X = newdf.drop(['TOTAL_PRICE','TSC_PRICE'], axis=1)\n",
    "y = newdf['TOTAL_PRICE']"
   ]
  },
  {
   "cell_type": "code",
   "execution_count": 41,
   "id": "1a05dfa5-e664-4f85-90f7-14da64d3913a",
   "metadata": {},
   "outputs": [],
   "source": [
    "X_train, X_v_t, y_train, y_v_t = train_test_split(X, y, test_size=0.30, random_state=42)"
   ]
  },
  {
   "cell_type": "code",
   "execution_count": 42,
   "id": "6b41f753-1c74-4e6b-9149-00b88adc5720",
   "metadata": {},
   "outputs": [],
   "source": [
    "X_val, X_test, y_val, y_test = train_test_split(X_v_t, y_v_t, test_size=0.50, random_state=42)"
   ]
  },
  {
   "cell_type": "code",
   "execution_count": 43,
   "id": "90b6dade-e379-4466-bf2a-13741cbec0f4",
   "metadata": {},
   "outputs": [],
   "source": [
    "X_num = [#'TSC_PRICE',\n",
    "         'YEAR']\n",
    "X_cat = ['SCRUB_ITEM', 'SCRUB_COMPETITOR', 'MONTH']"
   ]
  },
  {
   "cell_type": "code",
   "execution_count": 44,
   "id": "78b30fc9-bd96-4c04-b161-7d6d3c792f4e",
   "metadata": {},
   "outputs": [],
   "source": [
    "#set up the column transfomer part of the pipeline\n",
    "numTrans = Pipeline(steps=[\n",
    "    ('scaler', StandardScaler())\n",
    "    ])\n",
    "catTrans = Pipeline(steps=[\n",
    "    ('ohe', OneHotEncoder(sparse=False,\n",
    "                          handle_unknown='ignore'))\n",
    "    ])\n",
    "\n",
    "c_transform = ColumnTransformer(transformers=[\n",
    "    ('num', numTrans, X_num),\n",
    "    ('cat', catTrans, X_cat)\n",
    "    ])"
   ]
  },
  {
   "cell_type": "code",
   "execution_count": 45,
   "id": "afcd727c-af22-4246-b3a8-83b5801cd0a5",
   "metadata": {},
   "outputs": [],
   "source": [
    "model1 = Pipeline(steps=[\n",
    "    ('c_trans', c_transform),\n",
    "    ('linreg', LinearRegression()) \n",
    "    ])"
   ]
  },
  {
   "cell_type": "code",
   "execution_count": 46,
   "id": "9928e7db-8cc9-444b-994b-ac412438055c",
   "metadata": {},
   "outputs": [
    {
     "data": {
      "text/plain": [
       "Pipeline(steps=[('c_trans',\n",
       "                 ColumnTransformer(transformers=[('num',\n",
       "                                                  Pipeline(steps=[('scaler',\n",
       "                                                                   StandardScaler())]),\n",
       "                                                  ['YEAR']),\n",
       "                                                 ('cat',\n",
       "                                                  Pipeline(steps=[('ohe',\n",
       "                                                                   OneHotEncoder(handle_unknown='ignore',\n",
       "                                                                                 sparse=False))]),\n",
       "                                                  ['SCRUB_ITEM',\n",
       "                                                   'SCRUB_COMPETITOR',\n",
       "                                                   'MONTH'])])),\n",
       "                ('linreg', LinearRegression())])"
      ]
     },
     "execution_count": 46,
     "metadata": {},
     "output_type": "execute_result"
    }
   ],
   "source": [
    "model1.fit(X_train, y_train)"
   ]
  },
  {
   "cell_type": "code",
   "execution_count": 47,
   "id": "82c6a54d-7c05-49a6-a722-d2335d328e36",
   "metadata": {},
   "outputs": [
    {
     "data": {
      "text/plain": [
       "'The median R-squared values for the train sets were 0.987, the median R-squared values for the test sets were 0.987. These values resulted in a differential of 0.00016'"
      ]
     },
     "execution_count": 47,
     "metadata": {},
     "output_type": "execute_result"
    }
   ],
   "source": [
    "#setting up cross validation for price in a different way \n",
    "model1_cval = cross_val(model1,\n",
    "                        X= X_train,\n",
    "                        y=y_train,\n",
    "                        random_state=0)\n",
    "\n",
    "model1_cval_summary = cval_summary(model1_cval[0],\n",
    "                                   model1_cval[1],\n",
    "                                   abs(model1_cval[0]-model1_cval[1]))\n",
    "model1_cval_summary"
   ]
  },
  {
   "cell_type": "code",
   "execution_count": 48,
   "id": "cbb0e49a-f040-44dd-a56f-1efa209c1fc3",
   "metadata": {},
   "outputs": [
    {
     "data": {
      "text/plain": [
       "'The R-squared value for the train set was 0.987, and the R-squared value for the test set was 0.987. These values resulted in a differential of 0.00016. The RMSE of our model predicitons was 70.46'"
      ]
     },
     "execution_count": 48,
     "metadata": {},
     "output_type": "execute_result"
    }
   ],
   "source": [
    "model1_scores = score_model(model1,\n",
    "                            X_train,\n",
    "                            X_test,\n",
    "                            y_train,\n",
    "                            y_test)\n",
    "\n",
    "model1_summary = model_summary(model1_scores[0],\n",
    "                               model1_scores[1],\n",
    "                               abs(model1_scores[0]-model1_scores[1]),\n",
    "                               model1_scores[2])\n",
    "model1_summary"
   ]
  },
  {
   "cell_type": "code",
   "execution_count": 49,
   "id": "e45561b8-d48f-4af9-a422-effd1c22fec5",
   "metadata": {},
   "outputs": [
    {
     "data": {
      "image/png": "[encoded data removed]",
      "text/plain": [
       "<Figure size 720x720 with 1 Axes>"
      ]
     },
     "metadata": {
      "needs_background": "light"
     },
     "output_type": "display_data"
    }
   ],
   "source": [
    "actual_vs_predicted(model1, X_test, y_test)"
   ]
  },
  {
   "cell_type": "code",
   "execution_count": 50,
   "id": "58dec6d7-2f90-4224-b39d-e4152096a53b",
   "metadata": {},
   "outputs": [],
   "source": [
    "model1.fit(X,y)\n",
    "y_preds_comp = model1.predict(newdf1)"
   ]
  },
  {
   "cell_type": "code",
   "execution_count": 51,
   "id": "b03ab90a-4ace-4c51-9a61-04d75ee9db6d",
   "metadata": {},
   "outputs": [],
   "source": [
    "df_comp = newdf1.copy()\n",
    "df_comp['COMP_PRICE'] = y_preds_comp"
   ]
  },
  {
   "cell_type": "code",
   "execution_count": 52,
   "id": "770eb8dc-f103-4861-b8ce-04fb483250e7",
   "metadata": {},
   "outputs": [
    {
     "data": {
      "text/html": [
       "<div>\n",
       "<style scoped>\n",
       "    .dataframe tbody tr th:only-of-type {\n",
       "        vertical-align: middle;\n",
       "    }\n",
       "\n",
       "    .dataframe tbody tr th {\n",
       "        vertical-align: top;\n",
       "    }\n",
       "\n",
       "    .dataframe thead th {\n",
       "        text-align: right;\n",
       "    }\n",
       "</style>\n",
       "<table border=\"1\" class=\"dataframe\">\n",
       "  <thead>\n",
       "    <tr style=\"text-align: right;\">\n",
       "      <th></th>\n",
       "      <th>SCRUB_ITEM</th>\n",
       "      <th>SCRUB_COMPETITOR</th>\n",
       "      <th>YEAR</th>\n",
       "      <th>MONTH</th>\n",
       "      <th>COMP_PRICE</th>\n",
       "    </tr>\n",
       "  </thead>\n",
       "  <tbody>\n",
       "    <tr>\n",
       "      <th>0</th>\n",
       "      <td>1</td>\n",
       "      <td>1</td>\n",
       "      <td>2022</td>\n",
       "      <td>1</td>\n",
       "      <td>211.375000</td>\n",
       "    </tr>\n",
       "    <tr>\n",
       "      <th>1</th>\n",
       "      <td>1</td>\n",
       "      <td>1</td>\n",
       "      <td>2022</td>\n",
       "      <td>2</td>\n",
       "      <td>209.968750</td>\n",
       "    </tr>\n",
       "    <tr>\n",
       "      <th>2</th>\n",
       "      <td>1</td>\n",
       "      <td>1</td>\n",
       "      <td>2022</td>\n",
       "      <td>3</td>\n",
       "      <td>212.484375</td>\n",
       "    </tr>\n",
       "    <tr>\n",
       "      <th>3</th>\n",
       "      <td>1</td>\n",
       "      <td>1</td>\n",
       "      <td>2022</td>\n",
       "      <td>4</td>\n",
       "      <td>212.953125</td>\n",
       "    </tr>\n",
       "    <tr>\n",
       "      <th>4</th>\n",
       "      <td>1</td>\n",
       "      <td>1</td>\n",
       "      <td>2022</td>\n",
       "      <td>5</td>\n",
       "      <td>218.578125</td>\n",
       "    </tr>\n",
       "    <tr>\n",
       "      <th>...</th>\n",
       "      <td>...</td>\n",
       "      <td>...</td>\n",
       "      <td>...</td>\n",
       "      <td>...</td>\n",
       "      <td>...</td>\n",
       "    </tr>\n",
       "    <tr>\n",
       "      <th>2743</th>\n",
       "      <td>97</td>\n",
       "      <td>3</td>\n",
       "      <td>2022</td>\n",
       "      <td>8</td>\n",
       "      <td>91.351562</td>\n",
       "    </tr>\n",
       "    <tr>\n",
       "      <th>2744</th>\n",
       "      <td>97</td>\n",
       "      <td>3</td>\n",
       "      <td>2022</td>\n",
       "      <td>9</td>\n",
       "      <td>93.265625</td>\n",
       "    </tr>\n",
       "    <tr>\n",
       "      <th>2745</th>\n",
       "      <td>97</td>\n",
       "      <td>3</td>\n",
       "      <td>2022</td>\n",
       "      <td>10</td>\n",
       "      <td>86.664062</td>\n",
       "    </tr>\n",
       "    <tr>\n",
       "      <th>2746</th>\n",
       "      <td>97</td>\n",
       "      <td>3</td>\n",
       "      <td>2022</td>\n",
       "      <td>11</td>\n",
       "      <td>76.312500</td>\n",
       "    </tr>\n",
       "    <tr>\n",
       "      <th>2747</th>\n",
       "      <td>97</td>\n",
       "      <td>3</td>\n",
       "      <td>2022</td>\n",
       "      <td>12</td>\n",
       "      <td>85.968750</td>\n",
       "    </tr>\n",
       "  </tbody>\n",
       "</table>\n",
       "<p>2748 rows × 5 columns</p>\n",
       "</div>"
      ],
      "text/plain": [
       "      SCRUB_ITEM  SCRUB_COMPETITOR  YEAR  MONTH  COMP_PRICE\n",
       "0              1                 1  2022      1  211.375000\n",
       "1              1                 1  2022      2  209.968750\n",
       "2              1                 1  2022      3  212.484375\n",
       "3              1                 1  2022      4  212.953125\n",
       "4              1                 1  2022      5  218.578125\n",
       "...          ...               ...   ...    ...         ...\n",
       "2743          97                 3  2022      8   91.351562\n",
       "2744          97                 3  2022      9   93.265625\n",
       "2745          97                 3  2022     10   86.664062\n",
       "2746          97                 3  2022     11   76.312500\n",
       "2747          97                 3  2022     12   85.968750\n",
       "\n",
       "[2748 rows x 5 columns]"
      ]
     },
     "execution_count": 52,
     "metadata": {},
     "output_type": "execute_result"
    }
   ],
   "source": [
    "df_comp"
   ]
  },
  {
   "cell_type": "markdown",
   "id": "3fa79d18-b957-439f-8785-30e86ccd56c6",
   "metadata": {
    "tags": []
   },
   "source": [
    "## Predicting Costs"
   ]
  },
  {
   "cell_type": "code",
   "execution_count": 53,
   "id": "63cd8b08-7b83-4fb1-a4eb-58d9175eace9",
   "metadata": {},
   "outputs": [
    {
     "data": {
      "text/html": [
       "<div>\n",
       "<style scoped>\n",
       "    .dataframe tbody tr th:only-of-type {\n",
       "        vertical-align: middle;\n",
       "    }\n",
       "\n",
       "    .dataframe tbody tr th {\n",
       "        vertical-align: top;\n",
       "    }\n",
       "\n",
       "    .dataframe thead th {\n",
       "        text-align: right;\n",
       "    }\n",
       "</style>\n",
       "<table border=\"1\" class=\"dataframe\">\n",
       "  <thead>\n",
       "    <tr style=\"text-align: right;\">\n",
       "      <th></th>\n",
       "      <th>SCRUB_ITEM</th>\n",
       "      <th>TIME_DIM_KEY</th>\n",
       "      <th>SCRUB_TRANS_NO</th>\n",
       "      <th>TRANS_SEQ_NO</th>\n",
       "      <th>UNIT_QTY</th>\n",
       "      <th>UNIT_PRICE</th>\n",
       "      <th>UNIT_COST</th>\n",
       "    </tr>\n",
       "  </thead>\n",
       "  <tbody>\n",
       "    <tr>\n",
       "      <th>0</th>\n",
       "      <td>1</td>\n",
       "      <td>20180402</td>\n",
       "      <td>1296</td>\n",
       "      <td>2</td>\n",
       "      <td>2.0</td>\n",
       "      <td>322.99</td>\n",
       "      <td>132.97</td>\n",
       "    </tr>\n",
       "    <tr>\n",
       "      <th>1</th>\n",
       "      <td>1</td>\n",
       "      <td>20181206</td>\n",
       "      <td>6878</td>\n",
       "      <td>1</td>\n",
       "      <td>1.0</td>\n",
       "      <td>322.99</td>\n",
       "      <td>132.97</td>\n",
       "    </tr>\n",
       "    <tr>\n",
       "      <th>2</th>\n",
       "      <td>1</td>\n",
       "      <td>20181210</td>\n",
       "      <td>7010</td>\n",
       "      <td>2</td>\n",
       "      <td>2.0</td>\n",
       "      <td>322.99</td>\n",
       "      <td>132.97</td>\n",
       "    </tr>\n",
       "    <tr>\n",
       "      <th>3</th>\n",
       "      <td>1</td>\n",
       "      <td>20190214</td>\n",
       "      <td>8380</td>\n",
       "      <td>2</td>\n",
       "      <td>1.0</td>\n",
       "      <td>322.99</td>\n",
       "      <td>132.97</td>\n",
       "    </tr>\n",
       "    <tr>\n",
       "      <th>4</th>\n",
       "      <td>1</td>\n",
       "      <td>20190502</td>\n",
       "      <td>10639</td>\n",
       "      <td>1</td>\n",
       "      <td>2.0</td>\n",
       "      <td>219.99</td>\n",
       "      <td>132.97</td>\n",
       "    </tr>\n",
       "  </tbody>\n",
       "</table>\n",
       "</div>"
      ],
      "text/plain": [
       "   SCRUB_ITEM  TIME_DIM_KEY  SCRUB_TRANS_NO  TRANS_SEQ_NO  UNIT_QTY  \\\n",
       "0           1      20180402            1296             2       2.0   \n",
       "1           1      20181206            6878             1       1.0   \n",
       "2           1      20181210            7010             2       2.0   \n",
       "3           1      20190214            8380             2       1.0   \n",
       "4           1      20190502           10639             1       2.0   \n",
       "\n",
       "   UNIT_PRICE  UNIT_COST  \n",
       "0      322.99     132.97  \n",
       "1      322.99     132.97  \n",
       "2      322.99     132.97  \n",
       "3      322.99     132.97  \n",
       "4      219.99     132.97  "
      ]
     },
     "execution_count": 53,
     "metadata": {},
     "output_type": "execute_result"
    }
   ],
   "source": [
    "df_tsc_sales.head()"
   ]
  },
  {
   "cell_type": "code",
   "execution_count": 54,
   "id": "8249fbab-092b-49f5-806a-c6063704051f",
   "metadata": {},
   "outputs": [
    {
     "name": "stdout",
     "output_type": "stream",
     "text": [
      "<class 'pandas.core.frame.DataFrame'>\n",
      "RangeIndex: 70829 entries, 0 to 70828\n",
      "Data columns (total 7 columns):\n",
      " #   Column          Non-Null Count  Dtype  \n",
      "---  ------          --------------  -----  \n",
      " 0   SCRUB_ITEM      70829 non-null  int64  \n",
      " 1   TIME_DIM_KEY    70829 non-null  int64  \n",
      " 2   SCRUB_TRANS_NO  70829 non-null  int64  \n",
      " 3   TRANS_SEQ_NO    70829 non-null  int64  \n",
      " 4   UNIT_QTY        70829 non-null  float64\n",
      " 5   UNIT_PRICE      70829 non-null  float64\n",
      " 6   UNIT_COST       70829 non-null  float64\n",
      "dtypes: float64(3), int64(4)\n",
      "memory usage: 3.8 MB\n"
     ]
    }
   ],
   "source": [
    "df_tsc_sales.info()"
   ]
  },
  {
   "cell_type": "code",
   "execution_count": 55,
   "id": "efe4a7a2-53d8-4c4c-a001-0a929f8b3f83",
   "metadata": {},
   "outputs": [],
   "source": [
    "df_tsc_sales['TIME_DIM_KEY'] = df_tsc_sales['TIME_DIM_KEY'].astype(str)"
   ]
  },
  {
   "cell_type": "code",
   "execution_count": 56,
   "id": "1cb80e7c-cab6-4360-927c-d172cf8561ee",
   "metadata": {},
   "outputs": [],
   "source": [
    "df_tsc_sales['YEAR'] = pd.to_numeric(df_tsc_sales['TIME_DIM_KEY'].str[:4], errors='coerce')"
   ]
  },
  {
   "cell_type": "code",
   "execution_count": 57,
   "id": "3880911c-c56b-4bad-977b-4f1d698b3316",
   "metadata": {},
   "outputs": [],
   "source": [
    "df_tsc_sales['MONTH'] = pd.to_numeric(df_tsc_sales['TIME_DIM_KEY'].str[4:6], errors='coerce')"
   ]
  },
  {
   "cell_type": "code",
   "execution_count": 58,
   "id": "8f010166-6dbc-4ef0-99ae-3f0e8bc43657",
   "metadata": {},
   "outputs": [
    {
     "data": {
      "text/html": [
       "<div>\n",
       "<style scoped>\n",
       "    .dataframe tbody tr th:only-of-type {\n",
       "        vertical-align: middle;\n",
       "    }\n",
       "\n",
       "    .dataframe tbody tr th {\n",
       "        vertical-align: top;\n",
       "    }\n",
       "\n",
       "    .dataframe thead th {\n",
       "        text-align: right;\n",
       "    }\n",
       "</style>\n",
       "<table border=\"1\" class=\"dataframe\">\n",
       "  <thead>\n",
       "    <tr style=\"text-align: right;\">\n",
       "      <th></th>\n",
       "      <th>SCRUB_ITEM</th>\n",
       "      <th>TIME_DIM_KEY</th>\n",
       "      <th>SCRUB_TRANS_NO</th>\n",
       "      <th>TRANS_SEQ_NO</th>\n",
       "      <th>UNIT_QTY</th>\n",
       "      <th>UNIT_PRICE</th>\n",
       "      <th>UNIT_COST</th>\n",
       "      <th>YEAR</th>\n",
       "      <th>MONTH</th>\n",
       "    </tr>\n",
       "  </thead>\n",
       "  <tbody>\n",
       "    <tr>\n",
       "      <th>0</th>\n",
       "      <td>1</td>\n",
       "      <td>20180402</td>\n",
       "      <td>1296</td>\n",
       "      <td>2</td>\n",
       "      <td>2.0</td>\n",
       "      <td>322.99</td>\n",
       "      <td>132.97</td>\n",
       "      <td>2018</td>\n",
       "      <td>4</td>\n",
       "    </tr>\n",
       "    <tr>\n",
       "      <th>1</th>\n",
       "      <td>1</td>\n",
       "      <td>20181206</td>\n",
       "      <td>6878</td>\n",
       "      <td>1</td>\n",
       "      <td>1.0</td>\n",
       "      <td>322.99</td>\n",
       "      <td>132.97</td>\n",
       "      <td>2018</td>\n",
       "      <td>12</td>\n",
       "    </tr>\n",
       "    <tr>\n",
       "      <th>2</th>\n",
       "      <td>1</td>\n",
       "      <td>20181210</td>\n",
       "      <td>7010</td>\n",
       "      <td>2</td>\n",
       "      <td>2.0</td>\n",
       "      <td>322.99</td>\n",
       "      <td>132.97</td>\n",
       "      <td>2018</td>\n",
       "      <td>12</td>\n",
       "    </tr>\n",
       "    <tr>\n",
       "      <th>3</th>\n",
       "      <td>1</td>\n",
       "      <td>20190214</td>\n",
       "      <td>8380</td>\n",
       "      <td>2</td>\n",
       "      <td>1.0</td>\n",
       "      <td>322.99</td>\n",
       "      <td>132.97</td>\n",
       "      <td>2019</td>\n",
       "      <td>2</td>\n",
       "    </tr>\n",
       "    <tr>\n",
       "      <th>4</th>\n",
       "      <td>1</td>\n",
       "      <td>20190502</td>\n",
       "      <td>10639</td>\n",
       "      <td>1</td>\n",
       "      <td>2.0</td>\n",
       "      <td>219.99</td>\n",
       "      <td>132.97</td>\n",
       "      <td>2019</td>\n",
       "      <td>5</td>\n",
       "    </tr>\n",
       "  </tbody>\n",
       "</table>\n",
       "</div>"
      ],
      "text/plain": [
       "   SCRUB_ITEM TIME_DIM_KEY  SCRUB_TRANS_NO  TRANS_SEQ_NO  UNIT_QTY  \\\n",
       "0           1     20180402            1296             2       2.0   \n",
       "1           1     20181206            6878             1       1.0   \n",
       "2           1     20181210            7010             2       2.0   \n",
       "3           1     20190214            8380             2       1.0   \n",
       "4           1     20190502           10639             1       2.0   \n",
       "\n",
       "   UNIT_PRICE  UNIT_COST  YEAR  MONTH  \n",
       "0      322.99     132.97  2018      4  \n",
       "1      322.99     132.97  2018     12  \n",
       "2      322.99     132.97  2018     12  \n",
       "3      322.99     132.97  2019      2  \n",
       "4      219.99     132.97  2019      5  "
      ]
     },
     "execution_count": 58,
     "metadata": {},
     "output_type": "execute_result"
    }
   ],
   "source": [
    "df_tsc_sales.head()"
   ]
  },
  {
   "cell_type": "code",
   "execution_count": 59,
   "id": "fefc55ca-ad6b-4b75-9661-ab353dd183d2",
   "metadata": {},
   "outputs": [
    {
     "name": "stdout",
     "output_type": "stream",
     "text": [
      "<class 'pandas.core.frame.DataFrame'>\n",
      "RangeIndex: 70829 entries, 0 to 70828\n",
      "Data columns (total 9 columns):\n",
      " #   Column          Non-Null Count  Dtype  \n",
      "---  ------          --------------  -----  \n",
      " 0   SCRUB_ITEM      70829 non-null  int64  \n",
      " 1   TIME_DIM_KEY    70829 non-null  object \n",
      " 2   SCRUB_TRANS_NO  70829 non-null  int64  \n",
      " 3   TRANS_SEQ_NO    70829 non-null  int64  \n",
      " 4   UNIT_QTY        70829 non-null  float64\n",
      " 5   UNIT_PRICE      70829 non-null  float64\n",
      " 6   UNIT_COST       70829 non-null  float64\n",
      " 7   YEAR            70829 non-null  int64  \n",
      " 8   MONTH           70829 non-null  int64  \n",
      "dtypes: float64(3), int64(5), object(1)\n",
      "memory usage: 4.9+ MB\n"
     ]
    }
   ],
   "source": [
    "df_tsc_sales.info()"
   ]
  },
  {
   "cell_type": "code",
   "execution_count": 60,
   "id": "48e60ceb-b935-4117-b952-93d512ae2aa8",
   "metadata": {},
   "outputs": [],
   "source": [
    "newdf = df_tsc_sales.drop(['TIME_DIM_KEY',\n",
    "                           'SCRUB_TRANS_NO',\n",
    "                           'TRANS_SEQ_NO',\n",
    "                           'UNIT_QTY',\n",
    "                           'UNIT_PRICE'], \n",
    "                          axis=1)"
   ]
  },
  {
   "cell_type": "code",
   "execution_count": 61,
   "id": "e777ae66-db5c-48fb-b22e-a18428d8ab0d",
   "metadata": {},
   "outputs": [
    {
     "name": "stdout",
     "output_type": "stream",
     "text": [
      "<class 'pandas.core.frame.DataFrame'>\n",
      "RangeIndex: 70829 entries, 0 to 70828\n",
      "Data columns (total 4 columns):\n",
      " #   Column      Non-Null Count  Dtype  \n",
      "---  ------      --------------  -----  \n",
      " 0   SCRUB_ITEM  70829 non-null  int64  \n",
      " 1   UNIT_COST   70829 non-null  float64\n",
      " 2   YEAR        70829 non-null  int64  \n",
      " 3   MONTH       70829 non-null  int64  \n",
      "dtypes: float64(1), int64(3)\n",
      "memory usage: 2.2 MB\n"
     ]
    }
   ],
   "source": [
    "newdf.info()"
   ]
  },
  {
   "cell_type": "code",
   "execution_count": 62,
   "id": "e689ef76-f034-4247-b003-8194c36e905b",
   "metadata": {},
   "outputs": [],
   "source": [
    "X = newdf.drop(['UNIT_COST'], axis=1)\n",
    "y = newdf['UNIT_COST']"
   ]
  },
  {
   "cell_type": "code",
   "execution_count": 63,
   "id": "4d597230-0465-40d9-b7c4-e4c42358d583",
   "metadata": {},
   "outputs": [],
   "source": [
    "X_train, X_v_t, y_train, y_v_t = train_test_split(X, y, test_size=0.30, random_state=42)"
   ]
  },
  {
   "cell_type": "code",
   "execution_count": 64,
   "id": "fb9e84e3-113e-4f58-aeb3-cbb6a61b2b72",
   "metadata": {},
   "outputs": [],
   "source": [
    "X_val, X_test, y_val, y_test = train_test_split(X_v_t, y_v_t, test_size=0.50, random_state=42)"
   ]
  },
  {
   "cell_type": "code",
   "execution_count": 65,
   "id": "baae81b4-db0d-4bdd-a19d-d10aac1e8cae",
   "metadata": {},
   "outputs": [],
   "source": [
    "X_num = ['YEAR']\n",
    "X_cat = ['SCRUB_ITEM', 'MONTH']"
   ]
  },
  {
   "cell_type": "code",
   "execution_count": 66,
   "id": "6b1a12ab-432a-4b7d-a9d8-5580e4ef880e",
   "metadata": {},
   "outputs": [],
   "source": [
    "#set up the column transfomer part of the pipeline\n",
    "numTrans = Pipeline(steps=[\n",
    "    ('scaler', StandardScaler())\n",
    "    ])\n",
    "catTrans = Pipeline(steps=[\n",
    "    ('ohe', OneHotEncoder(sparse=False,\n",
    "                          handle_unknown='ignore'))\n",
    "    ])\n",
    "\n",
    "c_transform = ColumnTransformer(transformers=[\n",
    "    ('num', numTrans, X_num),\n",
    "    ('cat', catTrans, X_cat)\n",
    "    ])"
   ]
  },
  {
   "cell_type": "code",
   "execution_count": 67,
   "id": "6ceec3e5-47e6-4507-bdc9-3e552e558b99",
   "metadata": {},
   "outputs": [],
   "source": [
    "model1 = Pipeline(steps=[\n",
    "    ('c_trans', c_transform),\n",
    "    ('linreg', LinearRegression()) \n",
    "    ])"
   ]
  },
  {
   "cell_type": "code",
   "execution_count": 68,
   "id": "b04c4f66-5742-4af6-bf3e-a0f8fec24606",
   "metadata": {},
   "outputs": [
    {
     "data": {
      "text/plain": [
       "Pipeline(steps=[('c_trans',\n",
       "                 ColumnTransformer(transformers=[('num',\n",
       "                                                  Pipeline(steps=[('scaler',\n",
       "                                                                   StandardScaler())]),\n",
       "                                                  ['YEAR']),\n",
       "                                                 ('cat',\n",
       "                                                  Pipeline(steps=[('ohe',\n",
       "                                                                   OneHotEncoder(handle_unknown='ignore',\n",
       "                                                                                 sparse=False))]),\n",
       "                                                  ['SCRUB_ITEM', 'MONTH'])])),\n",
       "                ('linreg', LinearRegression())])"
      ]
     },
     "execution_count": 68,
     "metadata": {},
     "output_type": "execute_result"
    }
   ],
   "source": [
    "model1.fit(X_train, y_train)"
   ]
  },
  {
   "cell_type": "code",
   "execution_count": 69,
   "id": "fa3ec788-9fdd-4393-a977-71e3a9e58244",
   "metadata": {},
   "outputs": [
    {
     "data": {
      "text/plain": [
       "'The median R-squared values for the train sets were 0.994, the median R-squared values for the test sets were 0.995. These values resulted in a differential of 4e-05'"
      ]
     },
     "execution_count": 69,
     "metadata": {},
     "output_type": "execute_result"
    }
   ],
   "source": [
    "#setting up cross validation for price in a different way \n",
    "model1_cval = cross_val(model1,\n",
    "                        X= X_train,\n",
    "                        y=y_train,\n",
    "                        random_state=0)\n",
    "\n",
    "model1_cval_summary = cval_summary(model1_cval[0],\n",
    "                                   model1_cval[1],\n",
    "                                   abs(model1_cval[0]-model1_cval[1]))\n",
    "model1_cval_summary"
   ]
  },
  {
   "cell_type": "code",
   "execution_count": 70,
   "id": "09ab21eb-515e-48d5-858d-47bb1a609aee",
   "metadata": {},
   "outputs": [
    {
     "data": {
      "text/plain": [
       "'The R-squared value for the train set was 0.995, and the R-squared value for the test set was 0.994. These values resulted in a differential of 0.0004. The RMSE of our model predicitons was 20.29'"
      ]
     },
     "execution_count": 70,
     "metadata": {},
     "output_type": "execute_result"
    }
   ],
   "source": [
    "model1_scores = score_model(model1,\n",
    "                            X_train,\n",
    "                            X_test,\n",
    "                            y_train,\n",
    "                            y_test)\n",
    "\n",
    "model1_summary = model_summary(model1_scores[0],\n",
    "                               model1_scores[1],\n",
    "                               abs(model1_scores[0]-model1_scores[1]),\n",
    "                               model1_scores[2])\n",
    "model1_summary"
   ]
  },
  {
   "cell_type": "code",
   "execution_count": 71,
   "id": "c5958690-2596-45dc-8a51-8fb4f00fdb68",
   "metadata": {},
   "outputs": [
    {
     "data": {
      "image/png": "[encoded data removed]",
      "text/plain": [
       "<Figure size 720x720 with 1 Axes>"
      ]
     },
     "metadata": {
      "needs_background": "light"
     },
     "output_type": "display_data"
    }
   ],
   "source": [
    "actual_vs_predicted(model1, X_test, y_test)"
   ]
  },
  {
   "cell_type": "code",
   "execution_count": 72,
   "id": "a259013d-208f-406c-bccc-da2ef0e8503a",
   "metadata": {},
   "outputs": [],
   "source": [
    "model1.fit(X,y)\n",
    "y_preds_cost = model1.predict(newdf2)"
   ]
  },
  {
   "cell_type": "code",
   "execution_count": 73,
   "id": "419d91f1-cbfd-418e-92b9-29c4f08aedff",
   "metadata": {},
   "outputs": [],
   "source": [
    "df_cost = newdf2.copy()\n",
    "df_cost['COST'] = y_preds_cost"
   ]
  },
  {
   "cell_type": "markdown",
   "id": "de24eaa1-c752-4958-88f9-1411d02732c6",
   "metadata": {
    "tags": []
   },
   "source": [
    "## Combining Sales and Comp"
   ]
  },
  {
   "cell_type": "markdown",
   "id": "a8c62a99-33e8-4a58-ba1b-f779dc298e10",
   "metadata": {
    "jp-MarkdownHeadingCollapsed": true,
    "tags": []
   },
   "source": [
    "### Competitor Price"
   ]
  },
  {
   "cell_type": "code",
   "execution_count": 74,
   "id": "cb59d083-bfb4-4ae0-a8c2-4b62c9e6e566",
   "metadata": {},
   "outputs": [
    {
     "name": "stdout",
     "output_type": "stream",
     "text": [
      "<class 'pandas.core.frame.DataFrame'>\n",
      "RangeIndex: 90953 entries, 0 to 90952\n",
      "Data columns (total 11 columns):\n",
      " #   Column                       Non-Null Count  Dtype  \n",
      "---  ------                       --------------  -----  \n",
      " 0   SCAN_DATE_TIME               90953 non-null  object \n",
      " 1   SCRUB_ITEM                   90953 non-null  int64  \n",
      " 2   SCRUB_COMPETITOR             90953 non-null  int64  \n",
      " 3   TSC_PRICE                    90953 non-null  float64\n",
      " 4   COMPETITOR_PRICE             90953 non-null  float64\n",
      " 5   CPI_COMPETITIVE_PRICE_INDEX  90953 non-null  float64\n",
      " 6   COMPETITOR_SHIPPING          90953 non-null  float64\n",
      " 7   COMPETITOR_REG_PRICE         90953 non-null  float64\n",
      " 8   YEAR                         90953 non-null  int64  \n",
      " 9   MONTH                        90953 non-null  int64  \n",
      " 10  TOTAL_PRICE                  90953 non-null  float64\n",
      "dtypes: float64(6), int64(4), object(1)\n",
      "memory usage: 7.6+ MB\n"
     ]
    }
   ],
   "source": [
    "df_comp_price_change.info()"
   ]
  },
  {
   "cell_type": "code",
   "execution_count": 76,
   "id": "dea65f74-ba06-431a-85d1-39e53d89ca9c",
   "metadata": {},
   "outputs": [],
   "source": [
    "#getting the first 10 characters of the date to get the Y-m-d\n",
    "df_comp_price_change['SCAN_DATE_TIME'] = df_comp_price_change['SCAN_DATE_TIME'].str[:10]"
   ]
  },
  {
   "cell_type": "code",
   "execution_count": 77,
   "id": "b4e529d7-54ee-42e3-a4d8-167eed4f039d",
   "metadata": {},
   "outputs": [],
   "source": [
    "df_comp_price_change['SCAN_DATE_TIME'] = pd.to_datetime(df_comp_price_change['SCAN_DATE_TIME'],format='%Y-%m-%d')"
   ]
  },
  {
   "cell_type": "code",
   "execution_count": 81,
   "id": "c9d86135-a3ba-4d94-8ed7-44594e1450d3",
   "metadata": {},
   "outputs": [
    {
     "name": "stdout",
     "output_type": "stream",
     "text": [
      "<class 'pandas.core.frame.DataFrame'>\n",
      "RangeIndex: 90953 entries, 0 to 90952\n",
      "Data columns (total 11 columns):\n",
      " #   Column                       Non-Null Count  Dtype         \n",
      "---  ------                       --------------  -----         \n",
      " 0   SCAN_DATE_TIME               90953 non-null  datetime64[ns]\n",
      " 1   SCRUB_ITEM                   90953 non-null  int64         \n",
      " 2   SCRUB_COMPETITOR             90953 non-null  int64         \n",
      " 3   TSC_PRICE                    90953 non-null  float64       \n",
      " 4   COMPETITOR_PRICE             90953 non-null  float64       \n",
      " 5   CPI_COMPETITIVE_PRICE_INDEX  90953 non-null  float64       \n",
      " 6   COMPETITOR_SHIPPING          90953 non-null  float64       \n",
      " 7   COMPETITOR_REG_PRICE         90953 non-null  float64       \n",
      " 8   YEAR                         90953 non-null  int64         \n",
      " 9   MONTH                        90953 non-null  int64         \n",
      " 10  TOTAL_PRICE                  90953 non-null  float64       \n",
      "dtypes: datetime64[ns](1), float64(6), int64(4)\n",
      "memory usage: 7.6 MB\n"
     ]
    }
   ],
   "source": [
    "df_comp_price_change.info()"
   ]
  },
  {
   "cell_type": "code",
   "execution_count": 98,
   "id": "e6e5d362-1f7d-42b1-983f-7e1f9c07dafe",
   "metadata": {},
   "outputs": [],
   "source": [
    "comp_df = df_comp_price_change.drop(['CPI_COMPETITIVE_PRICE_INDEX',\n",
    "                                     'COMPETITOR_REG_PRICE',\n",
    "                                     'COMPETITOR_SHIPPING',\n",
    "                                     'COMPETITOR_PRICE',\n",
    "                                     'YEAR',\n",
    "                                     'MONTH'],\n",
    "                                    axis=1)"
   ]
  },
  {
   "cell_type": "code",
   "execution_count": 99,
   "id": "348eb37f-92e3-4261-985d-de56760d0e36",
   "metadata": {},
   "outputs": [],
   "source": [
    "comp_df.set_index('SCAN_DATE_TIME', inplace=True)"
   ]
  },
  {
   "cell_type": "code",
   "execution_count": 100,
   "id": "e3c94f7c-b5e8-4f36-a6a3-e66739340811",
   "metadata": {},
   "outputs": [
    {
     "data": {
      "text/html": [
       "<div>\n",
       "<style scoped>\n",
       "    .dataframe tbody tr th:only-of-type {\n",
       "        vertical-align: middle;\n",
       "    }\n",
       "\n",
       "    .dataframe tbody tr th {\n",
       "        vertical-align: top;\n",
       "    }\n",
       "\n",
       "    .dataframe thead th {\n",
       "        text-align: right;\n",
       "    }\n",
       "</style>\n",
       "<table border=\"1\" class=\"dataframe\">\n",
       "  <thead>\n",
       "    <tr style=\"text-align: right;\">\n",
       "      <th></th>\n",
       "      <th>SCRUB_ITEM</th>\n",
       "      <th>SCRUB_COMPETITOR</th>\n",
       "      <th>TSC_PRICE</th>\n",
       "      <th>TOTAL_PRICE</th>\n",
       "    </tr>\n",
       "    <tr>\n",
       "      <th>SCAN_DATE_TIME</th>\n",
       "      <th></th>\n",
       "      <th></th>\n",
       "      <th></th>\n",
       "      <th></th>\n",
       "    </tr>\n",
       "  </thead>\n",
       "  <tbody>\n",
       "    <tr>\n",
       "      <th>2020-08-06</th>\n",
       "      <td>1</td>\n",
       "      <td>1</td>\n",
       "      <td>199.99</td>\n",
       "      <td>205.58</td>\n",
       "    </tr>\n",
       "    <tr>\n",
       "      <th>2020-08-06</th>\n",
       "      <td>1</td>\n",
       "      <td>2</td>\n",
       "      <td>199.99</td>\n",
       "      <td>205.58</td>\n",
       "    </tr>\n",
       "    <tr>\n",
       "      <th>2020-08-07</th>\n",
       "      <td>1</td>\n",
       "      <td>1</td>\n",
       "      <td>199.99</td>\n",
       "      <td>205.58</td>\n",
       "    </tr>\n",
       "    <tr>\n",
       "      <th>2020-08-07</th>\n",
       "      <td>1</td>\n",
       "      <td>2</td>\n",
       "      <td>199.99</td>\n",
       "      <td>205.58</td>\n",
       "    </tr>\n",
       "    <tr>\n",
       "      <th>2020-08-08</th>\n",
       "      <td>1</td>\n",
       "      <td>1</td>\n",
       "      <td>199.99</td>\n",
       "      <td>205.58</td>\n",
       "    </tr>\n",
       "    <tr>\n",
       "      <th>...</th>\n",
       "      <td>...</td>\n",
       "      <td>...</td>\n",
       "      <td>...</td>\n",
       "      <td>...</td>\n",
       "    </tr>\n",
       "    <tr>\n",
       "      <th>2021-08-02</th>\n",
       "      <td>97</td>\n",
       "      <td>2</td>\n",
       "      <td>19.99</td>\n",
       "      <td>27.16</td>\n",
       "    </tr>\n",
       "    <tr>\n",
       "      <th>2021-08-03</th>\n",
       "      <td>97</td>\n",
       "      <td>2</td>\n",
       "      <td>19.99</td>\n",
       "      <td>27.16</td>\n",
       "    </tr>\n",
       "    <tr>\n",
       "      <th>2021-08-04</th>\n",
       "      <td>97</td>\n",
       "      <td>2</td>\n",
       "      <td>19.99</td>\n",
       "      <td>27.16</td>\n",
       "    </tr>\n",
       "    <tr>\n",
       "      <th>2021-08-05</th>\n",
       "      <td>97</td>\n",
       "      <td>2</td>\n",
       "      <td>19.99</td>\n",
       "      <td>36.92</td>\n",
       "    </tr>\n",
       "    <tr>\n",
       "      <th>2021-08-06</th>\n",
       "      <td>97</td>\n",
       "      <td>2</td>\n",
       "      <td>19.99</td>\n",
       "      <td>36.92</td>\n",
       "    </tr>\n",
       "  </tbody>\n",
       "</table>\n",
       "<p>90953 rows × 4 columns</p>\n",
       "</div>"
      ],
      "text/plain": [
       "                SCRUB_ITEM  SCRUB_COMPETITOR  TSC_PRICE  TOTAL_PRICE\n",
       "SCAN_DATE_TIME                                                      \n",
       "2020-08-06               1                 1     199.99       205.58\n",
       "2020-08-06               1                 2     199.99       205.58\n",
       "2020-08-07               1                 1     199.99       205.58\n",
       "2020-08-07               1                 2     199.99       205.58\n",
       "2020-08-08               1                 1     199.99       205.58\n",
       "...                    ...               ...        ...          ...\n",
       "2021-08-02              97                 2      19.99        27.16\n",
       "2021-08-03              97                 2      19.99        27.16\n",
       "2021-08-04              97                 2      19.99        27.16\n",
       "2021-08-05              97                 2      19.99        36.92\n",
       "2021-08-06              97                 2      19.99        36.92\n",
       "\n",
       "[90953 rows x 4 columns]"
      ]
     },
     "execution_count": 100,
     "metadata": {},
     "output_type": "execute_result"
    }
   ],
   "source": [
    "comp_df"
   ]
  },
  {
   "cell_type": "code",
   "execution_count": 121,
   "id": "245dbd3c-3782-4511-97c0-42b9bd946a7c",
   "metadata": {},
   "outputs": [],
   "source": [
    "grouper =comp_df.groupby([pd.Grouper(freq='W'), 'SCRUB_ITEM'])"
   ]
  },
  {
   "cell_type": "code",
   "execution_count": 125,
   "id": "2f4a4666-dbb8-4ff8-9356-7b2c33d9361c",
   "metadata": {},
   "outputs": [
    {
     "data": {
      "text/plain": [
       "SCAN_DATE_TIME  SCRUB_ITEM\n",
       "2020-08-09      1             199.990000\n",
       "                2              14.990000\n",
       "                3             179.990000\n",
       "                4             309.950000\n",
       "                5             129.990000\n",
       "                                 ...    \n",
       "2021-08-08      93            229.990000\n",
       "                94            313.323333\n",
       "                95            249.990000\n",
       "                96            499.990000\n",
       "                97             19.990000\n",
       "Name: TSC_PRICE, Length: 4789, dtype: float64"
      ]
     },
     "execution_count": 125,
     "metadata": {},
     "output_type": "execute_result"
    }
   ],
   "source": [
    "grouper['TSC_PRICE'].mean()"
   ]
  },
  {
   "cell_type": "code",
   "execution_count": 138,
   "id": "9afbab8b-c7cc-48a2-91e2-e12fc9397102",
   "metadata": {},
   "outputs": [],
   "source": [
    "result_price = grouper['TSC_PRICE'].mean()"
   ]
  },
  {
   "cell_type": "code",
   "execution_count": 141,
   "id": "1994e0dd-d995-4e3f-a228-c146e701c4a9",
   "metadata": {},
   "outputs": [],
   "source": [
    "result_price = result_price.reset_index()"
   ]
  },
  {
   "cell_type": "code",
   "execution_count": 147,
   "id": "80f502b6-14cf-4c19-9609-726b059fcaf1",
   "metadata": {},
   "outputs": [
    {
     "data": {
      "text/html": [
       "<div>\n",
       "<style scoped>\n",
       "    .dataframe tbody tr th:only-of-type {\n",
       "        vertical-align: middle;\n",
       "    }\n",
       "\n",
       "    .dataframe tbody tr th {\n",
       "        vertical-align: top;\n",
       "    }\n",
       "\n",
       "    .dataframe thead th {\n",
       "        text-align: right;\n",
       "    }\n",
       "</style>\n",
       "<table border=\"1\" class=\"dataframe\">\n",
       "  <thead>\n",
       "    <tr style=\"text-align: right;\">\n",
       "      <th></th>\n",
       "      <th>SCAN_DATE_TIME</th>\n",
       "      <th>SCRUB_ITEM</th>\n",
       "      <th>TSC_PRICE</th>\n",
       "    </tr>\n",
       "  </thead>\n",
       "  <tbody>\n",
       "    <tr>\n",
       "      <th>0</th>\n",
       "      <td>2020-08-09</td>\n",
       "      <td>1</td>\n",
       "      <td>199.990000</td>\n",
       "    </tr>\n",
       "    <tr>\n",
       "      <th>1</th>\n",
       "      <td>2020-08-09</td>\n",
       "      <td>2</td>\n",
       "      <td>14.990000</td>\n",
       "    </tr>\n",
       "    <tr>\n",
       "      <th>2</th>\n",
       "      <td>2020-08-09</td>\n",
       "      <td>3</td>\n",
       "      <td>179.990000</td>\n",
       "    </tr>\n",
       "    <tr>\n",
       "      <th>3</th>\n",
       "      <td>2020-08-09</td>\n",
       "      <td>4</td>\n",
       "      <td>309.950000</td>\n",
       "    </tr>\n",
       "    <tr>\n",
       "      <th>4</th>\n",
       "      <td>2020-08-09</td>\n",
       "      <td>5</td>\n",
       "      <td>129.990000</td>\n",
       "    </tr>\n",
       "    <tr>\n",
       "      <th>...</th>\n",
       "      <td>...</td>\n",
       "      <td>...</td>\n",
       "      <td>...</td>\n",
       "    </tr>\n",
       "    <tr>\n",
       "      <th>4784</th>\n",
       "      <td>2021-08-08</td>\n",
       "      <td>93</td>\n",
       "      <td>229.990000</td>\n",
       "    </tr>\n",
       "    <tr>\n",
       "      <th>4785</th>\n",
       "      <td>2021-08-08</td>\n",
       "      <td>94</td>\n",
       "      <td>313.323333</td>\n",
       "    </tr>\n",
       "    <tr>\n",
       "      <th>4786</th>\n",
       "      <td>2021-08-08</td>\n",
       "      <td>95</td>\n",
       "      <td>249.990000</td>\n",
       "    </tr>\n",
       "    <tr>\n",
       "      <th>4787</th>\n",
       "      <td>2021-08-08</td>\n",
       "      <td>96</td>\n",
       "      <td>499.990000</td>\n",
       "    </tr>\n",
       "    <tr>\n",
       "      <th>4788</th>\n",
       "      <td>2021-08-08</td>\n",
       "      <td>97</td>\n",
       "      <td>19.990000</td>\n",
       "    </tr>\n",
       "  </tbody>\n",
       "</table>\n",
       "<p>4789 rows × 3 columns</p>\n",
       "</div>"
      ],
      "text/plain": [
       "     SCAN_DATE_TIME  SCRUB_ITEM   TSC_PRICE\n",
       "0        2020-08-09           1  199.990000\n",
       "1        2020-08-09           2   14.990000\n",
       "2        2020-08-09           3  179.990000\n",
       "3        2020-08-09           4  309.950000\n",
       "4        2020-08-09           5  129.990000\n",
       "...             ...         ...         ...\n",
       "4784     2021-08-08          93  229.990000\n",
       "4785     2021-08-08          94  313.323333\n",
       "4786     2021-08-08          95  249.990000\n",
       "4787     2021-08-08          96  499.990000\n",
       "4788     2021-08-08          97   19.990000\n",
       "\n",
       "[4789 rows x 3 columns]"
      ]
     },
     "execution_count": 147,
     "metadata": {},
     "output_type": "execute_result"
    }
   ],
   "source": [
    "result_price"
   ]
  },
  {
   "cell_type": "code",
   "execution_count": 135,
   "id": "1a83c911-ae98-413a-af4f-b5c65fefab6f",
   "metadata": {},
   "outputs": [],
   "source": [
    "result_comp = grouper['TOTAL_PRICE'].mean()"
   ]
  },
  {
   "cell_type": "code",
   "execution_count": 143,
   "id": "bf50dbba-7e87-4ac8-ac43-4060afe322ff",
   "metadata": {},
   "outputs": [],
   "source": [
    "result_comp = result_comp.reset_index()"
   ]
  },
  {
   "cell_type": "code",
   "execution_count": 148,
   "id": "8f07cbc1-5e77-4b95-b00a-f37056f10e23",
   "metadata": {},
   "outputs": [
    {
     "data": {
      "text/html": [
       "<div>\n",
       "<style scoped>\n",
       "    .dataframe tbody tr th:only-of-type {\n",
       "        vertical-align: middle;\n",
       "    }\n",
       "\n",
       "    .dataframe tbody tr th {\n",
       "        vertical-align: top;\n",
       "    }\n",
       "\n",
       "    .dataframe thead th {\n",
       "        text-align: right;\n",
       "    }\n",
       "</style>\n",
       "<table border=\"1\" class=\"dataframe\">\n",
       "  <thead>\n",
       "    <tr style=\"text-align: right;\">\n",
       "      <th></th>\n",
       "      <th>SCAN_DATE_TIME</th>\n",
       "      <th>SCRUB_ITEM</th>\n",
       "      <th>TOTAL_PRICE</th>\n",
       "    </tr>\n",
       "  </thead>\n",
       "  <tbody>\n",
       "    <tr>\n",
       "      <th>0</th>\n",
       "      <td>2020-08-09</td>\n",
       "      <td>1</td>\n",
       "      <td>205.477500</td>\n",
       "    </tr>\n",
       "    <tr>\n",
       "      <th>1</th>\n",
       "      <td>2020-08-09</td>\n",
       "      <td>2</td>\n",
       "      <td>22.575000</td>\n",
       "    </tr>\n",
       "    <tr>\n",
       "      <th>2</th>\n",
       "      <td>2020-08-09</td>\n",
       "      <td>3</td>\n",
       "      <td>157.258000</td>\n",
       "    </tr>\n",
       "    <tr>\n",
       "      <th>3</th>\n",
       "      <td>2020-08-09</td>\n",
       "      <td>4</td>\n",
       "      <td>309.950000</td>\n",
       "    </tr>\n",
       "    <tr>\n",
       "      <th>4</th>\n",
       "      <td>2020-08-09</td>\n",
       "      <td>5</td>\n",
       "      <td>129.990000</td>\n",
       "    </tr>\n",
       "    <tr>\n",
       "      <th>...</th>\n",
       "      <td>...</td>\n",
       "      <td>...</td>\n",
       "      <td>...</td>\n",
       "    </tr>\n",
       "    <tr>\n",
       "      <th>4784</th>\n",
       "      <td>2021-08-08</td>\n",
       "      <td>93</td>\n",
       "      <td>206.022143</td>\n",
       "    </tr>\n",
       "    <tr>\n",
       "      <th>4785</th>\n",
       "      <td>2021-08-08</td>\n",
       "      <td>94</td>\n",
       "      <td>315.520000</td>\n",
       "    </tr>\n",
       "    <tr>\n",
       "      <th>4786</th>\n",
       "      <td>2021-08-08</td>\n",
       "      <td>95</td>\n",
       "      <td>272.210000</td>\n",
       "    </tr>\n",
       "    <tr>\n",
       "      <th>4787</th>\n",
       "      <td>2021-08-08</td>\n",
       "      <td>96</td>\n",
       "      <td>461.760000</td>\n",
       "    </tr>\n",
       "    <tr>\n",
       "      <th>4788</th>\n",
       "      <td>2021-08-08</td>\n",
       "      <td>97</td>\n",
       "      <td>31.064000</td>\n",
       "    </tr>\n",
       "  </tbody>\n",
       "</table>\n",
       "<p>4789 rows × 3 columns</p>\n",
       "</div>"
      ],
      "text/plain": [
       "     SCAN_DATE_TIME  SCRUB_ITEM  TOTAL_PRICE\n",
       "0        2020-08-09           1   205.477500\n",
       "1        2020-08-09           2    22.575000\n",
       "2        2020-08-09           3   157.258000\n",
       "3        2020-08-09           4   309.950000\n",
       "4        2020-08-09           5   129.990000\n",
       "...             ...         ...          ...\n",
       "4784     2021-08-08          93   206.022143\n",
       "4785     2021-08-08          94   315.520000\n",
       "4786     2021-08-08          95   272.210000\n",
       "4787     2021-08-08          96   461.760000\n",
       "4788     2021-08-08          97    31.064000\n",
       "\n",
       "[4789 rows x 3 columns]"
      ]
     },
     "execution_count": 148,
     "metadata": {},
     "output_type": "execute_result"
    }
   ],
   "source": [
    "result_comp"
   ]
  },
  {
   "cell_type": "code",
   "execution_count": 145,
   "id": "cd53a638-f844-4cb1-884e-79dfb8b88f39",
   "metadata": {},
   "outputs": [],
   "source": [
    "df_comp_mod = result_price.merge(result_comp, on=['SCAN_DATE_TIME','SCRUB_ITEM'])"
   ]
  },
  {
   "cell_type": "code",
   "execution_count": 146,
   "id": "4027d8ce-7ca4-4c75-a23d-e30c2384918f",
   "metadata": {},
   "outputs": [
    {
     "data": {
      "text/html": [
       "<div>\n",
       "<style scoped>\n",
       "    .dataframe tbody tr th:only-of-type {\n",
       "        vertical-align: middle;\n",
       "    }\n",
       "\n",
       "    .dataframe tbody tr th {\n",
       "        vertical-align: top;\n",
       "    }\n",
       "\n",
       "    .dataframe thead th {\n",
       "        text-align: right;\n",
       "    }\n",
       "</style>\n",
       "<table border=\"1\" class=\"dataframe\">\n",
       "  <thead>\n",
       "    <tr style=\"text-align: right;\">\n",
       "      <th></th>\n",
       "      <th>SCAN_DATE_TIME</th>\n",
       "      <th>SCRUB_ITEM</th>\n",
       "      <th>TSC_PRICE</th>\n",
       "      <th>TOTAL_PRICE</th>\n",
       "    </tr>\n",
       "  </thead>\n",
       "  <tbody>\n",
       "    <tr>\n",
       "      <th>0</th>\n",
       "      <td>2020-08-09</td>\n",
       "      <td>1</td>\n",
       "      <td>199.990000</td>\n",
       "      <td>205.477500</td>\n",
       "    </tr>\n",
       "    <tr>\n",
       "      <th>1</th>\n",
       "      <td>2020-08-09</td>\n",
       "      <td>2</td>\n",
       "      <td>14.990000</td>\n",
       "      <td>22.575000</td>\n",
       "    </tr>\n",
       "    <tr>\n",
       "      <th>2</th>\n",
       "      <td>2020-08-09</td>\n",
       "      <td>3</td>\n",
       "      <td>179.990000</td>\n",
       "      <td>157.258000</td>\n",
       "    </tr>\n",
       "    <tr>\n",
       "      <th>3</th>\n",
       "      <td>2020-08-09</td>\n",
       "      <td>4</td>\n",
       "      <td>309.950000</td>\n",
       "      <td>309.950000</td>\n",
       "    </tr>\n",
       "    <tr>\n",
       "      <th>4</th>\n",
       "      <td>2020-08-09</td>\n",
       "      <td>5</td>\n",
       "      <td>129.990000</td>\n",
       "      <td>129.990000</td>\n",
       "    </tr>\n",
       "    <tr>\n",
       "      <th>...</th>\n",
       "      <td>...</td>\n",
       "      <td>...</td>\n",
       "      <td>...</td>\n",
       "      <td>...</td>\n",
       "    </tr>\n",
       "    <tr>\n",
       "      <th>4784</th>\n",
       "      <td>2021-08-08</td>\n",
       "      <td>93</td>\n",
       "      <td>229.990000</td>\n",
       "      <td>206.022143</td>\n",
       "    </tr>\n",
       "    <tr>\n",
       "      <th>4785</th>\n",
       "      <td>2021-08-08</td>\n",
       "      <td>94</td>\n",
       "      <td>313.323333</td>\n",
       "      <td>315.520000</td>\n",
       "    </tr>\n",
       "    <tr>\n",
       "      <th>4786</th>\n",
       "      <td>2021-08-08</td>\n",
       "      <td>95</td>\n",
       "      <td>249.990000</td>\n",
       "      <td>272.210000</td>\n",
       "    </tr>\n",
       "    <tr>\n",
       "      <th>4787</th>\n",
       "      <td>2021-08-08</td>\n",
       "      <td>96</td>\n",
       "      <td>499.990000</td>\n",
       "      <td>461.760000</td>\n",
       "    </tr>\n",
       "    <tr>\n",
       "      <th>4788</th>\n",
       "      <td>2021-08-08</td>\n",
       "      <td>97</td>\n",
       "      <td>19.990000</td>\n",
       "      <td>31.064000</td>\n",
       "    </tr>\n",
       "  </tbody>\n",
       "</table>\n",
       "<p>4789 rows × 4 columns</p>\n",
       "</div>"
      ],
      "text/plain": [
       "     SCAN_DATE_TIME  SCRUB_ITEM   TSC_PRICE  TOTAL_PRICE\n",
       "0        2020-08-09           1  199.990000   205.477500\n",
       "1        2020-08-09           2   14.990000    22.575000\n",
       "2        2020-08-09           3  179.990000   157.258000\n",
       "3        2020-08-09           4  309.950000   309.950000\n",
       "4        2020-08-09           5  129.990000   129.990000\n",
       "...             ...         ...         ...          ...\n",
       "4784     2021-08-08          93  229.990000   206.022143\n",
       "4785     2021-08-08          94  313.323333   315.520000\n",
       "4786     2021-08-08          95  249.990000   272.210000\n",
       "4787     2021-08-08          96  499.990000   461.760000\n",
       "4788     2021-08-08          97   19.990000    31.064000\n",
       "\n",
       "[4789 rows x 4 columns]"
      ]
     },
     "execution_count": 146,
     "metadata": {},
     "output_type": "execute_result"
    }
   ],
   "source": [
    "df_comp_mod"
   ]
  },
  {
   "cell_type": "code",
   "execution_count": 163,
   "id": "ef6544e9-fd2f-42bc-a58f-a16db8773435",
   "metadata": {},
   "outputs": [],
   "source": [
    "df_comp_mod.rename(columns={'SCAN_DATE_TIME': 'WEEK'}, inplace=True)"
   ]
  },
  {
   "cell_type": "markdown",
   "id": "e03210a5-759d-4995-a5e8-b83a201e82ed",
   "metadata": {
    "jp-MarkdownHeadingCollapsed": true,
    "tags": []
   },
   "source": [
    "### Sales Data"
   ]
  },
  {
   "cell_type": "code",
   "execution_count": 149,
   "id": "6c389f05-d25d-429c-94e8-2becf3708df2",
   "metadata": {},
   "outputs": [
    {
     "name": "stdout",
     "output_type": "stream",
     "text": [
      "<class 'pandas.core.frame.DataFrame'>\n",
      "RangeIndex: 70829 entries, 0 to 70828\n",
      "Data columns (total 9 columns):\n",
      " #   Column          Non-Null Count  Dtype         \n",
      "---  ------          --------------  -----         \n",
      " 0   SCRUB_ITEM      70829 non-null  int64         \n",
      " 1   TIME_DIM_KEY    70829 non-null  datetime64[ns]\n",
      " 2   SCRUB_TRANS_NO  70829 non-null  int64         \n",
      " 3   TRANS_SEQ_NO    70829 non-null  int64         \n",
      " 4   UNIT_QTY        70829 non-null  float64       \n",
      " 5   UNIT_PRICE      70829 non-null  float64       \n",
      " 6   UNIT_COST       70829 non-null  float64       \n",
      " 7   YEAR            70829 non-null  int64         \n",
      " 8   MONTH           70829 non-null  int64         \n",
      "dtypes: datetime64[ns](1), float64(3), int64(5)\n",
      "memory usage: 4.9 MB\n"
     ]
    }
   ],
   "source": [
    "df_tsc_sales.info()"
   ]
  },
  {
   "cell_type": "code",
   "execution_count": 79,
   "id": "dd81f84d-3f62-4407-a95c-1f330ac49193",
   "metadata": {},
   "outputs": [],
   "source": [
    "df_tsc_sales['TIME_DIM_KEY'] = pd.to_datetime(df_tsc_sales['TIME_DIM_KEY'],format='%Y%m%d')"
   ]
  },
  {
   "cell_type": "code",
   "execution_count": 80,
   "id": "79bc7d83-507f-492c-9d9e-61c7fe430897",
   "metadata": {},
   "outputs": [
    {
     "name": "stdout",
     "output_type": "stream",
     "text": [
      "<class 'pandas.core.frame.DataFrame'>\n",
      "RangeIndex: 70829 entries, 0 to 70828\n",
      "Data columns (total 9 columns):\n",
      " #   Column          Non-Null Count  Dtype         \n",
      "---  ------          --------------  -----         \n",
      " 0   SCRUB_ITEM      70829 non-null  int64         \n",
      " 1   TIME_DIM_KEY    70829 non-null  datetime64[ns]\n",
      " 2   SCRUB_TRANS_NO  70829 non-null  int64         \n",
      " 3   TRANS_SEQ_NO    70829 non-null  int64         \n",
      " 4   UNIT_QTY        70829 non-null  float64       \n",
      " 5   UNIT_PRICE      70829 non-null  float64       \n",
      " 6   UNIT_COST       70829 non-null  float64       \n",
      " 7   YEAR            70829 non-null  int64         \n",
      " 8   MONTH           70829 non-null  int64         \n",
      "dtypes: datetime64[ns](1), float64(3), int64(5)\n",
      "memory usage: 4.9 MB\n"
     ]
    }
   ],
   "source": [
    "df_tsc_sales.info()"
   ]
  },
  {
   "cell_type": "code",
   "execution_count": 150,
   "id": "bf12213d-bee7-4ecc-85e1-8993752a9757",
   "metadata": {},
   "outputs": [],
   "source": [
    "sales_df = df_tsc_sales.drop(['SCRUB_TRANS_NO','TRANS_SEQ_NO','YEAR','MONTH'], axis=1)"
   ]
  },
  {
   "cell_type": "code",
   "execution_count": 153,
   "id": "1579bbb5-5b32-470b-9c21-9a15d409902d",
   "metadata": {},
   "outputs": [],
   "source": [
    "sales_df.set_index('TIME_DIM_KEY', inplace=True)"
   ]
  },
  {
   "cell_type": "code",
   "execution_count": 154,
   "id": "64396062-95bc-43e9-8493-0022f4d6e451",
   "metadata": {},
   "outputs": [],
   "source": [
    "grouper = sales_df.groupby([pd.Grouper(freq='W'), 'SCRUB_ITEM'])"
   ]
  },
  {
   "cell_type": "code",
   "execution_count": 155,
   "id": "033b5f7c-1aff-46b2-bba5-8193cdcc32a4",
   "metadata": {},
   "outputs": [],
   "source": [
    "result_quant = grouper['UNIT_QTY'].sum()\n",
    "result_quant = result_quant.reset_index()"
   ]
  },
  {
   "cell_type": "code",
   "execution_count": 156,
   "id": "e186add9-225b-488c-a524-0c86955d18f3",
   "metadata": {},
   "outputs": [],
   "source": [
    "result_price = grouper['UNIT_PRICE'].mean()\n",
    "result_price = result_price.reset_index()"
   ]
  },
  {
   "cell_type": "code",
   "execution_count": 157,
   "id": "d6db51f8-0c97-421d-a258-1bc4079c68d5",
   "metadata": {},
   "outputs": [],
   "source": [
    "result_cost = grouper['UNIT_COST'].mean()\n",
    "result_cost = result_cost.reset_index()"
   ]
  },
  {
   "cell_type": "code",
   "execution_count": 158,
   "id": "706ddf01-270e-412b-9799-1bb907b8fa2a",
   "metadata": {},
   "outputs": [],
   "source": [
    "df_sales_mod = result_quant.merge(result_price, on=['TIME_DIM_KEY','SCRUB_ITEM'])\n",
    "df_sales_mod = df_sales_mod.merge(result_cost, on=['TIME_DIM_KEY','SCRUB_ITEM'])"
   ]
  },
  {
   "cell_type": "code",
   "execution_count": 162,
   "id": "7b98fbc2-1064-4c7d-b7a4-1dc3e8c94617",
   "metadata": {},
   "outputs": [],
   "source": [
    "df_sales_mod.rename(columns={'TIME_DIM_KEY': 'WEEK'}, inplace=True)"
   ]
  },
  {
   "cell_type": "markdown",
   "id": "c056e56f-58de-4516-bbf6-995fa1ea68df",
   "metadata": {
    "tags": []
   },
   "source": [
    "### Merge Both Datasets"
   ]
  },
  {
   "cell_type": "code",
   "execution_count": 286,
   "id": "811fce8c-4d55-4425-8e4d-d95e7a5efd21",
   "metadata": {},
   "outputs": [
    {
     "name": "stdout",
     "output_type": "stream",
     "text": [
      "<class 'pandas.core.frame.DataFrame'>\n",
      "Int64Index: 8351 entries, 0 to 8350\n",
      "Data columns (total 5 columns):\n",
      " #   Column      Non-Null Count  Dtype         \n",
      "---  ------      --------------  -----         \n",
      " 0   WEEK        8351 non-null   datetime64[ns]\n",
      " 1   SCRUB_ITEM  8351 non-null   int64         \n",
      " 2   UNIT_QTY    8351 non-null   float64       \n",
      " 3   UNIT_PRICE  8351 non-null   float64       \n",
      " 4   UNIT_COST   8351 non-null   float64       \n",
      "dtypes: datetime64[ns](1), float64(3), int64(1)\n",
      "memory usage: 391.5 KB\n"
     ]
    }
   ],
   "source": [
    "df_sales_mod.info()"
   ]
  },
  {
   "cell_type": "code",
   "execution_count": 287,
   "id": "bae1fdb5-9b61-4bf0-97fe-ca42937f49f4",
   "metadata": {},
   "outputs": [
    {
     "name": "stdout",
     "output_type": "stream",
     "text": [
      "<class 'pandas.core.frame.DataFrame'>\n",
      "Int64Index: 4789 entries, 0 to 4788\n",
      "Data columns (total 4 columns):\n",
      " #   Column       Non-Null Count  Dtype         \n",
      "---  ------       --------------  -----         \n",
      " 0   WEEK         4789 non-null   datetime64[ns]\n",
      " 1   SCRUB_ITEM   4789 non-null   int64         \n",
      " 2   TSC_PRICE    4789 non-null   float64       \n",
      " 3   TOTAL_PRICE  4789 non-null   float64       \n",
      "dtypes: datetime64[ns](1), float64(2), int64(1)\n",
      "memory usage: 187.1 KB\n"
     ]
    }
   ],
   "source": [
    "df_comp_mod.info()"
   ]
  },
  {
   "cell_type": "code",
   "execution_count": 288,
   "id": "f24026d4-e841-46c0-a5a3-22c6e8a685ce",
   "metadata": {},
   "outputs": [],
   "source": [
    "merged_df_outer = df_sales_mod.merge(df_comp_mod, on=['WEEK','SCRUB_ITEM'],how='outer',suffixes=('_sales', '_comp'))"
   ]
  },
  {
   "cell_type": "code",
   "execution_count": 289,
   "id": "f02b8a7b-ea65-461c-8e33-199f76579866",
   "metadata": {},
   "outputs": [],
   "source": [
    "merged_df_inner = df_sales_mod.merge(df_comp_mod, on=['WEEK','SCRUB_ITEM'],how='inner',suffixes=('_sales', '_comp'))"
   ]
  },
  {
   "cell_type": "code",
   "execution_count": 290,
   "id": "67b819bd-4180-4e2d-ab8c-a8e965deb742",
   "metadata": {},
   "outputs": [],
   "source": [
    "merged_df_outer.sort_values(by=['WEEK','SCRUB_ITEM'],inplace=True)"
   ]
  },
  {
   "cell_type": "code",
   "execution_count": 291,
   "id": "5b58d68d-7a67-48e1-80dd-1d1a545df494",
   "metadata": {},
   "outputs": [],
   "source": [
    "merged_df_outer.reset_index(inplace=True, drop=True)"
   ]
  },
  {
   "cell_type": "code",
   "execution_count": 292,
   "id": "076e2323-86bd-426c-9c12-bc0d95b564c4",
   "metadata": {},
   "outputs": [
    {
     "name": "stdout",
     "output_type": "stream",
     "text": [
      "<class 'pandas.core.frame.DataFrame'>\n",
      "RangeIndex: 10045 entries, 0 to 10044\n",
      "Data columns (total 7 columns):\n",
      " #   Column       Non-Null Count  Dtype         \n",
      "---  ------       --------------  -----         \n",
      " 0   WEEK         10045 non-null  datetime64[ns]\n",
      " 1   SCRUB_ITEM   10045 non-null  int64         \n",
      " 2   UNIT_QTY     8351 non-null   float64       \n",
      " 3   UNIT_PRICE   8351 non-null   float64       \n",
      " 4   UNIT_COST    8351 non-null   float64       \n",
      " 5   TSC_PRICE    4789 non-null   float64       \n",
      " 6   TOTAL_PRICE  4789 non-null   float64       \n",
      "dtypes: datetime64[ns](1), float64(5), int64(1)\n",
      "memory usage: 549.5 KB\n"
     ]
    }
   ],
   "source": [
    "merged_df_outer.info()"
   ]
  },
  {
   "cell_type": "code",
   "execution_count": 293,
   "id": "a34bad2e-6efb-4b38-aef4-cac38fa860b5",
   "metadata": {},
   "outputs": [],
   "source": [
    "merged_df_outer['UNIT_QTY'].fillna(0,inplace=True)"
   ]
  },
  {
   "cell_type": "code",
   "execution_count": 294,
   "id": "fde651b5-c4c8-4823-bae2-feda464c25c6",
   "metadata": {},
   "outputs": [],
   "source": [
    "outer_groupby = merged_df_outer.groupby(by=['WEEK','SCRUB_ITEM']).mean()"
   ]
  },
  {
   "cell_type": "code",
   "execution_count": 295,
   "id": "b0b16b9a-cab1-41bc-9e30-4b0e27a26554",
   "metadata": {},
   "outputs": [],
   "source": [
    "outer_groupby.ffill(inplace=True)"
   ]
  },
  {
   "cell_type": "code",
   "execution_count": 296,
   "id": "b22b836f-6e5d-4295-bb1d-e2fd04a1a610",
   "metadata": {},
   "outputs": [],
   "source": [
    "outer_groupby.reset_index(inplace=True)"
   ]
  },
  {
   "cell_type": "code",
   "execution_count": 297,
   "id": "8a63a3be-145e-4fa8-ba3f-ae8a749e8f32",
   "metadata": {},
   "outputs": [],
   "source": [
    "df_outer = outer_groupby.dropna()"
   ]
  },
  {
   "cell_type": "code",
   "execution_count": 298,
   "id": "fcd7abed-8563-420b-b546-d69e1f4ca21f",
   "metadata": {},
   "outputs": [
    {
     "data": {
      "text/html": [
       "<div>\n",
       "<style scoped>\n",
       "    .dataframe tbody tr th:only-of-type {\n",
       "        vertical-align: middle;\n",
       "    }\n",
       "\n",
       "    .dataframe tbody tr th {\n",
       "        vertical-align: top;\n",
       "    }\n",
       "\n",
       "    .dataframe thead th {\n",
       "        text-align: right;\n",
       "    }\n",
       "</style>\n",
       "<table border=\"1\" class=\"dataframe\">\n",
       "  <thead>\n",
       "    <tr style=\"text-align: right;\">\n",
       "      <th></th>\n",
       "      <th>WEEK</th>\n",
       "      <th>SCRUB_ITEM</th>\n",
       "      <th>UNIT_QTY</th>\n",
       "      <th>UNIT_PRICE</th>\n",
       "      <th>UNIT_COST</th>\n",
       "      <th>TSC_PRICE</th>\n",
       "      <th>TOTAL_PRICE</th>\n",
       "    </tr>\n",
       "  </thead>\n",
       "  <tbody>\n",
       "    <tr>\n",
       "      <th>5047</th>\n",
       "      <td>2020-08-09</td>\n",
       "      <td>1</td>\n",
       "      <td>8.0</td>\n",
       "      <td>199.99</td>\n",
       "      <td>132.97</td>\n",
       "      <td>199.990000</td>\n",
       "      <td>205.477500</td>\n",
       "    </tr>\n",
       "    <tr>\n",
       "      <th>5048</th>\n",
       "      <td>2020-08-09</td>\n",
       "      <td>2</td>\n",
       "      <td>19.0</td>\n",
       "      <td>14.99</td>\n",
       "      <td>10.99</td>\n",
       "      <td>14.990000</td>\n",
       "      <td>22.575000</td>\n",
       "    </tr>\n",
       "    <tr>\n",
       "      <th>5049</th>\n",
       "      <td>2020-08-09</td>\n",
       "      <td>3</td>\n",
       "      <td>5.0</td>\n",
       "      <td>179.99</td>\n",
       "      <td>101.50</td>\n",
       "      <td>179.990000</td>\n",
       "      <td>157.258000</td>\n",
       "    </tr>\n",
       "    <tr>\n",
       "      <th>5050</th>\n",
       "      <td>2020-08-09</td>\n",
       "      <td>4</td>\n",
       "      <td>0.0</td>\n",
       "      <td>179.99</td>\n",
       "      <td>101.50</td>\n",
       "      <td>309.950000</td>\n",
       "      <td>309.950000</td>\n",
       "    </tr>\n",
       "    <tr>\n",
       "      <th>5051</th>\n",
       "      <td>2020-08-09</td>\n",
       "      <td>5</td>\n",
       "      <td>6.0</td>\n",
       "      <td>128.99</td>\n",
       "      <td>100.00</td>\n",
       "      <td>129.990000</td>\n",
       "      <td>129.990000</td>\n",
       "    </tr>\n",
       "    <tr>\n",
       "      <th>...</th>\n",
       "      <td>...</td>\n",
       "      <td>...</td>\n",
       "      <td>...</td>\n",
       "      <td>...</td>\n",
       "      <td>...</td>\n",
       "      <td>...</td>\n",
       "      <td>...</td>\n",
       "    </tr>\n",
       "    <tr>\n",
       "      <th>10040</th>\n",
       "      <td>2021-08-08</td>\n",
       "      <td>93</td>\n",
       "      <td>2.0</td>\n",
       "      <td>229.99</td>\n",
       "      <td>155.00</td>\n",
       "      <td>229.990000</td>\n",
       "      <td>206.022143</td>\n",
       "    </tr>\n",
       "    <tr>\n",
       "      <th>10041</th>\n",
       "      <td>2021-08-08</td>\n",
       "      <td>94</td>\n",
       "      <td>12.0</td>\n",
       "      <td>319.99</td>\n",
       "      <td>222.60</td>\n",
       "      <td>313.323333</td>\n",
       "      <td>315.520000</td>\n",
       "    </tr>\n",
       "    <tr>\n",
       "      <th>10042</th>\n",
       "      <td>2021-08-08</td>\n",
       "      <td>95</td>\n",
       "      <td>0.0</td>\n",
       "      <td>319.99</td>\n",
       "      <td>222.60</td>\n",
       "      <td>249.990000</td>\n",
       "      <td>272.210000</td>\n",
       "    </tr>\n",
       "    <tr>\n",
       "      <th>10043</th>\n",
       "      <td>2021-08-08</td>\n",
       "      <td>96</td>\n",
       "      <td>0.0</td>\n",
       "      <td>319.99</td>\n",
       "      <td>222.60</td>\n",
       "      <td>499.990000</td>\n",
       "      <td>461.760000</td>\n",
       "    </tr>\n",
       "    <tr>\n",
       "      <th>10044</th>\n",
       "      <td>2021-08-08</td>\n",
       "      <td>97</td>\n",
       "      <td>-3.0</td>\n",
       "      <td>19.99</td>\n",
       "      <td>11.70</td>\n",
       "      <td>19.990000</td>\n",
       "      <td>31.064000</td>\n",
       "    </tr>\n",
       "  </tbody>\n",
       "</table>\n",
       "<p>4998 rows × 7 columns</p>\n",
       "</div>"
      ],
      "text/plain": [
       "            WEEK  SCRUB_ITEM  UNIT_QTY  UNIT_PRICE  UNIT_COST   TSC_PRICE  \\\n",
       "5047  2020-08-09           1       8.0      199.99     132.97  199.990000   \n",
       "5048  2020-08-09           2      19.0       14.99      10.99   14.990000   \n",
       "5049  2020-08-09           3       5.0      179.99     101.50  179.990000   \n",
       "5050  2020-08-09           4       0.0      179.99     101.50  309.950000   \n",
       "5051  2020-08-09           5       6.0      128.99     100.00  129.990000   \n",
       "...          ...         ...       ...         ...        ...         ...   \n",
       "10040 2021-08-08          93       2.0      229.99     155.00  229.990000   \n",
       "10041 2021-08-08          94      12.0      319.99     222.60  313.323333   \n",
       "10042 2021-08-08          95       0.0      319.99     222.60  249.990000   \n",
       "10043 2021-08-08          96       0.0      319.99     222.60  499.990000   \n",
       "10044 2021-08-08          97      -3.0       19.99      11.70   19.990000   \n",
       "\n",
       "       TOTAL_PRICE  \n",
       "5047    205.477500  \n",
       "5048     22.575000  \n",
       "5049    157.258000  \n",
       "5050    309.950000  \n",
       "5051    129.990000  \n",
       "...            ...  \n",
       "10040   206.022143  \n",
       "10041   315.520000  \n",
       "10042   272.210000  \n",
       "10043   461.760000  \n",
       "10044    31.064000  \n",
       "\n",
       "[4998 rows x 7 columns]"
      ]
     },
     "execution_count": 298,
     "metadata": {},
     "output_type": "execute_result"
    }
   ],
   "source": [
    "df_outer"
   ]
  },
  {
   "cell_type": "markdown",
   "id": "3b9dc06d-799d-46a4-9358-599a27e3fce5",
   "metadata": {
    "tags": []
   },
   "source": [
    "## Modeling Quantity"
   ]
  },
  {
   "cell_type": "code",
   "execution_count": 299,
   "id": "fe9e06e7-f64f-4462-ae37-e85108e69934",
   "metadata": {},
   "outputs": [
    {
     "name": "stdout",
     "output_type": "stream",
     "text": [
      "<class 'pandas.core.frame.DataFrame'>\n",
      "Int64Index: 4998 entries, 5047 to 10044\n",
      "Data columns (total 7 columns):\n",
      " #   Column       Non-Null Count  Dtype         \n",
      "---  ------       --------------  -----         \n",
      " 0   WEEK         4998 non-null   datetime64[ns]\n",
      " 1   SCRUB_ITEM   4998 non-null   int64         \n",
      " 2   UNIT_QTY     4998 non-null   float64       \n",
      " 3   UNIT_PRICE   4998 non-null   float64       \n",
      " 4   UNIT_COST    4998 non-null   float64       \n",
      " 5   TSC_PRICE    4998 non-null   float64       \n",
      " 6   TOTAL_PRICE  4998 non-null   float64       \n",
      "dtypes: datetime64[ns](1), float64(5), int64(1)\n",
      "memory usage: 312.4 KB\n"
     ]
    }
   ],
   "source": [
    "df_outer.info()"
   ]
  },
  {
   "cell_type": "code",
   "execution_count": 300,
   "id": "f71cc5c4-96f4-48c8-baf3-06e64e4d963b",
   "metadata": {},
   "outputs": [
    {
     "name": "stderr",
     "output_type": "stream",
     "text": [
      "<ipython-input-300-a77f97a428dc>:1: SettingWithCopyWarning: \n",
      "A value is trying to be set on a copy of a slice from a DataFrame.\n",
      "Try using .loc[row_indexer,col_indexer] = value instead\n",
      "\n",
      "See the caveats in the documentation: https://pandas.pydata.org/pandas-docs/stable/user_guide/indexing.html#returning-a-view-versus-a-copy\n",
      "  df_outer['WEEK_STR'] = df_outer['WEEK'].astype('str')\n"
     ]
    }
   ],
   "source": [
    "df_outer['WEEK_STR'] = df_outer['WEEK'].astype('str')"
   ]
  },
  {
   "cell_type": "code",
   "execution_count": 301,
   "id": "b55c3e43-236b-4b19-9d10-703289c9b564",
   "metadata": {},
   "outputs": [
    {
     "name": "stdout",
     "output_type": "stream",
     "text": [
      "<class 'pandas.core.frame.DataFrame'>\n",
      "Int64Index: 4998 entries, 5047 to 10044\n",
      "Data columns (total 8 columns):\n",
      " #   Column       Non-Null Count  Dtype         \n",
      "---  ------       --------------  -----         \n",
      " 0   WEEK         4998 non-null   datetime64[ns]\n",
      " 1   SCRUB_ITEM   4998 non-null   int64         \n",
      " 2   UNIT_QTY     4998 non-null   float64       \n",
      " 3   UNIT_PRICE   4998 non-null   float64       \n",
      " 4   UNIT_COST    4998 non-null   float64       \n",
      " 5   TSC_PRICE    4998 non-null   float64       \n",
      " 6   TOTAL_PRICE  4998 non-null   float64       \n",
      " 7   WEEK_STR     4998 non-null   object        \n",
      "dtypes: datetime64[ns](1), float64(5), int64(1), object(1)\n",
      "memory usage: 351.4+ KB\n"
     ]
    }
   ],
   "source": [
    "df_outer.info()"
   ]
  },
  {
   "cell_type": "code",
   "execution_count": 302,
   "id": "f7b8cc78-a237-4b73-a3d8-5b9865c43456",
   "metadata": {},
   "outputs": [
    {
     "data": {
      "text/html": [
       "<div>\n",
       "<style scoped>\n",
       "    .dataframe tbody tr th:only-of-type {\n",
       "        vertical-align: middle;\n",
       "    }\n",
       "\n",
       "    .dataframe tbody tr th {\n",
       "        vertical-align: top;\n",
       "    }\n",
       "\n",
       "    .dataframe thead th {\n",
       "        text-align: right;\n",
       "    }\n",
       "</style>\n",
       "<table border=\"1\" class=\"dataframe\">\n",
       "  <thead>\n",
       "    <tr style=\"text-align: right;\">\n",
       "      <th></th>\n",
       "      <th>WEEK</th>\n",
       "      <th>SCRUB_ITEM</th>\n",
       "      <th>UNIT_QTY</th>\n",
       "      <th>UNIT_PRICE</th>\n",
       "      <th>UNIT_COST</th>\n",
       "      <th>TSC_PRICE</th>\n",
       "      <th>TOTAL_PRICE</th>\n",
       "      <th>WEEK_STR</th>\n",
       "    </tr>\n",
       "  </thead>\n",
       "  <tbody>\n",
       "    <tr>\n",
       "      <th>5047</th>\n",
       "      <td>2020-08-09</td>\n",
       "      <td>1</td>\n",
       "      <td>8.0</td>\n",
       "      <td>199.99</td>\n",
       "      <td>132.97</td>\n",
       "      <td>199.99</td>\n",
       "      <td>205.4775</td>\n",
       "      <td>2020-08-09</td>\n",
       "    </tr>\n",
       "    <tr>\n",
       "      <th>5048</th>\n",
       "      <td>2020-08-09</td>\n",
       "      <td>2</td>\n",
       "      <td>19.0</td>\n",
       "      <td>14.99</td>\n",
       "      <td>10.99</td>\n",
       "      <td>14.99</td>\n",
       "      <td>22.5750</td>\n",
       "      <td>2020-08-09</td>\n",
       "    </tr>\n",
       "    <tr>\n",
       "      <th>5049</th>\n",
       "      <td>2020-08-09</td>\n",
       "      <td>3</td>\n",
       "      <td>5.0</td>\n",
       "      <td>179.99</td>\n",
       "      <td>101.50</td>\n",
       "      <td>179.99</td>\n",
       "      <td>157.2580</td>\n",
       "      <td>2020-08-09</td>\n",
       "    </tr>\n",
       "    <tr>\n",
       "      <th>5050</th>\n",
       "      <td>2020-08-09</td>\n",
       "      <td>4</td>\n",
       "      <td>0.0</td>\n",
       "      <td>179.99</td>\n",
       "      <td>101.50</td>\n",
       "      <td>309.95</td>\n",
       "      <td>309.9500</td>\n",
       "      <td>2020-08-09</td>\n",
       "    </tr>\n",
       "    <tr>\n",
       "      <th>5051</th>\n",
       "      <td>2020-08-09</td>\n",
       "      <td>5</td>\n",
       "      <td>6.0</td>\n",
       "      <td>128.99</td>\n",
       "      <td>100.00</td>\n",
       "      <td>129.99</td>\n",
       "      <td>129.9900</td>\n",
       "      <td>2020-08-09</td>\n",
       "    </tr>\n",
       "  </tbody>\n",
       "</table>\n",
       "</div>"
      ],
      "text/plain": [
       "           WEEK  SCRUB_ITEM  UNIT_QTY  UNIT_PRICE  UNIT_COST  TSC_PRICE  \\\n",
       "5047 2020-08-09           1       8.0      199.99     132.97     199.99   \n",
       "5048 2020-08-09           2      19.0       14.99      10.99      14.99   \n",
       "5049 2020-08-09           3       5.0      179.99     101.50     179.99   \n",
       "5050 2020-08-09           4       0.0      179.99     101.50     309.95   \n",
       "5051 2020-08-09           5       6.0      128.99     100.00     129.99   \n",
       "\n",
       "      TOTAL_PRICE    WEEK_STR  \n",
       "5047     205.4775  2020-08-09  \n",
       "5048      22.5750  2020-08-09  \n",
       "5049     157.2580  2020-08-09  \n",
       "5050     309.9500  2020-08-09  \n",
       "5051     129.9900  2020-08-09  "
      ]
     },
     "execution_count": 302,
     "metadata": {},
     "output_type": "execute_result"
    }
   ],
   "source": [
    "df_outer.head()"
   ]
  },
  {
   "cell_type": "code",
   "execution_count": 303,
   "id": "8e22ed0c-d632-457c-8d3b-159071719dae",
   "metadata": {},
   "outputs": [
    {
     "name": "stderr",
     "output_type": "stream",
     "text": [
      "<ipython-input-303-b703266e9ea4>:1: SettingWithCopyWarning: \n",
      "A value is trying to be set on a copy of a slice from a DataFrame.\n",
      "Try using .loc[row_indexer,col_indexer] = value instead\n",
      "\n",
      "See the caveats in the documentation: https://pandas.pydata.org/pandas-docs/stable/user_guide/indexing.html#returning-a-view-versus-a-copy\n",
      "  df_outer['MONTH'] = df_outer['WEEK_STR'].str[5:7].astype(int)\n",
      "<ipython-input-303-b703266e9ea4>:2: SettingWithCopyWarning: \n",
      "A value is trying to be set on a copy of a slice from a DataFrame.\n",
      "Try using .loc[row_indexer,col_indexer] = value instead\n",
      "\n",
      "See the caveats in the documentation: https://pandas.pydata.org/pandas-docs/stable/user_guide/indexing.html#returning-a-view-versus-a-copy\n",
      "  df_outer['YEAR'] = df_outer['WEEK_STR'].str[:4].astype(int)\n"
     ]
    }
   ],
   "source": [
    "df_outer['MONTH'] = df_outer['WEEK_STR'].str[5:7].astype(int)\n",
    "df_outer['YEAR'] = df_outer['WEEK_STR'].str[:4].astype(int)"
   ]
  },
  {
   "cell_type": "code",
   "execution_count": 304,
   "id": "743398fe-dfba-4005-b255-028cb2d5886e",
   "metadata": {},
   "outputs": [
    {
     "name": "stdout",
     "output_type": "stream",
     "text": [
      "<class 'pandas.core.frame.DataFrame'>\n",
      "Int64Index: 4998 entries, 5047 to 10044\n",
      "Data columns (total 10 columns):\n",
      " #   Column       Non-Null Count  Dtype         \n",
      "---  ------       --------------  -----         \n",
      " 0   WEEK         4998 non-null   datetime64[ns]\n",
      " 1   SCRUB_ITEM   4998 non-null   int64         \n",
      " 2   UNIT_QTY     4998 non-null   float64       \n",
      " 3   UNIT_PRICE   4998 non-null   float64       \n",
      " 4   UNIT_COST    4998 non-null   float64       \n",
      " 5   TSC_PRICE    4998 non-null   float64       \n",
      " 6   TOTAL_PRICE  4998 non-null   float64       \n",
      " 7   WEEK_STR     4998 non-null   object        \n",
      " 8   MONTH        4998 non-null   int64         \n",
      " 9   YEAR         4998 non-null   int64         \n",
      "dtypes: datetime64[ns](1), float64(5), int64(3), object(1)\n",
      "memory usage: 429.5+ KB\n"
     ]
    }
   ],
   "source": [
    "df_outer.info()"
   ]
  },
  {
   "cell_type": "code",
   "execution_count": 305,
   "id": "26a70e4c-c442-4631-8adf-407d2c91560f",
   "metadata": {},
   "outputs": [],
   "source": [
    "new_outer= df_outer.drop(['WEEK','WEEK_STR'], axis=1)"
   ]
  },
  {
   "cell_type": "code",
   "execution_count": 306,
   "id": "1a2dff84-0e9f-4c00-8afe-1ef5c4552607",
   "metadata": {},
   "outputs": [
    {
     "name": "stdout",
     "output_type": "stream",
     "text": [
      "<class 'pandas.core.frame.DataFrame'>\n",
      "Int64Index: 4998 entries, 5047 to 10044\n",
      "Data columns (total 8 columns):\n",
      " #   Column       Non-Null Count  Dtype  \n",
      "---  ------       --------------  -----  \n",
      " 0   SCRUB_ITEM   4998 non-null   int64  \n",
      " 1   UNIT_QTY     4998 non-null   float64\n",
      " 2   UNIT_PRICE   4998 non-null   float64\n",
      " 3   UNIT_COST    4998 non-null   float64\n",
      " 4   TSC_PRICE    4998 non-null   float64\n",
      " 5   TOTAL_PRICE  4998 non-null   float64\n",
      " 6   MONTH        4998 non-null   int64  \n",
      " 7   YEAR         4998 non-null   int64  \n",
      "dtypes: float64(5), int64(3)\n",
      "memory usage: 351.4 KB\n"
     ]
    }
   ],
   "source": [
    "new_outer.info()"
   ]
  },
  {
   "cell_type": "code",
   "execution_count": 307,
   "id": "20208c04-e3f6-47da-9762-60c475d3cb1b",
   "metadata": {},
   "outputs": [],
   "source": [
    "X = new_outer.drop(['UNIT_QTY', 'UNIT_COST', 'TSC_PRICE'], axis=1)\n",
    "y = new_outer['UNIT_QTY']"
   ]
  },
  {
   "cell_type": "code",
   "execution_count": 308,
   "id": "9cdeea73-f498-436c-99dd-b9a5941e62ab",
   "metadata": {},
   "outputs": [],
   "source": [
    "X_train, X_v_t, y_train, y_v_t = train_test_split(X, y, test_size=0.30, random_state=42)"
   ]
  },
  {
   "cell_type": "code",
   "execution_count": 309,
   "id": "5864ad37-8b51-42d6-81f7-775a8c3718a6",
   "metadata": {},
   "outputs": [],
   "source": [
    "X_val, X_test, y_val, y_test = train_test_split(X_v_t, y_v_t, test_size=0.50, random_state=42)"
   ]
  },
  {
   "cell_type": "code",
   "execution_count": 310,
   "id": "1c8a49a7-5dc4-49b0-8398-c33c08859164",
   "metadata": {},
   "outputs": [],
   "source": [
    "X_num = ['YEAR', \n",
    "         'UNIT_PRICE', \n",
    "         #'UNIT_COST', \n",
    "         #'TSC_PRICE', \n",
    "         'TOTAL_PRICE']\n",
    "X_cat = ['SCRUB_ITEM', 'MONTH']"
   ]
  },
  {
   "cell_type": "code",
   "execution_count": 311,
   "id": "294f2f66-abf3-4d06-8063-a7330b8f17ab",
   "metadata": {},
   "outputs": [],
   "source": [
    "#set up the column transfomer part of the pipeline\n",
    "numTrans = Pipeline(steps=[\n",
    "    ('scaler', StandardScaler())\n",
    "    ])\n",
    "catTrans = Pipeline(steps=[\n",
    "    ('ohe', OneHotEncoder(sparse=False,\n",
    "                          handle_unknown='ignore'))\n",
    "    ])\n",
    "\n",
    "c_transform = ColumnTransformer(transformers=[\n",
    "    ('num', numTrans, X_num),\n",
    "    ('cat', catTrans, X_cat)\n",
    "    ])"
   ]
  },
  {
   "cell_type": "code",
   "execution_count": 312,
   "id": "bb11350f-c767-4802-ae05-6817623dcb40",
   "metadata": {},
   "outputs": [],
   "source": [
    "model1 = Pipeline(steps=[\n",
    "    ('c_trans', c_transform),\n",
    "    ('linreg', LinearRegression()) \n",
    "    ])"
   ]
  },
  {
   "cell_type": "code",
   "execution_count": 313,
   "id": "35230d41-ff86-4e35-a75c-55edf2836c21",
   "metadata": {},
   "outputs": [
    {
     "data": {
      "text/plain": [
       "Pipeline(steps=[('c_trans',\n",
       "                 ColumnTransformer(transformers=[('num',\n",
       "                                                  Pipeline(steps=[('scaler',\n",
       "                                                                   StandardScaler())]),\n",
       "                                                  ['YEAR', 'UNIT_PRICE',\n",
       "                                                   'TOTAL_PRICE']),\n",
       "                                                 ('cat',\n",
       "                                                  Pipeline(steps=[('ohe',\n",
       "                                                                   OneHotEncoder(handle_unknown='ignore',\n",
       "                                                                                 sparse=False))]),\n",
       "                                                  ['SCRUB_ITEM', 'MONTH'])])),\n",
       "                ('linreg', LinearRegression())])"
      ]
     },
     "execution_count": 313,
     "metadata": {},
     "output_type": "execute_result"
    }
   ],
   "source": [
    "model1.fit(X_train, y_train)"
   ]
  },
  {
   "cell_type": "code",
   "execution_count": 314,
   "id": "c290dedf-8bd6-4784-a84b-b59f09624da1",
   "metadata": {},
   "outputs": [
    {
     "data": {
      "text/plain": [
       "'The median R-squared values for the train sets were 0.293, the median R-squared values for the test sets were 0.271. These values resulted in a differential of 0.02157'"
      ]
     },
     "execution_count": 314,
     "metadata": {},
     "output_type": "execute_result"
    }
   ],
   "source": [
    "#setting up cross validation for price in a different way \n",
    "model1_cval = cross_val(model1,\n",
    "                        X= X_train,\n",
    "                        y=y_train,\n",
    "                        random_state=0)\n",
    "\n",
    "model1_cval_summary = cval_summary(model1_cval[0],\n",
    "                                   model1_cval[1],\n",
    "                                   abs(model1_cval[0]-model1_cval[1]))\n",
    "model1_cval_summary"
   ]
  },
  {
   "cell_type": "code",
   "execution_count": 315,
   "id": "b5ad1d48-369f-45e4-bbf8-8ebdacf7aa57",
   "metadata": {},
   "outputs": [
    {
     "data": {
      "text/plain": [
       "'The R-squared value for the train set was 0.293, and the R-squared value for the test set was 0.191. These values resulted in a differential of 0.10264. The RMSE of our model predicitons was 16.31'"
      ]
     },
     "execution_count": 315,
     "metadata": {},
     "output_type": "execute_result"
    }
   ],
   "source": [
    "model1_scores = score_model(model1,\n",
    "                            X_train,\n",
    "                            X_test,\n",
    "                            y_train,\n",
    "                            y_test)\n",
    "\n",
    "model1_summary = model_summary(model1_scores[0],\n",
    "                               model1_scores[1],\n",
    "                               abs(model1_scores[0]-model1_scores[1]),\n",
    "                               model1_scores[2])\n",
    "model1_summary"
   ]
  },
  {
   "cell_type": "code",
   "execution_count": 316,
   "id": "6ab61f27-e1ab-4a18-bb81-6ebd028d7d09",
   "metadata": {},
   "outputs": [
    {
     "data": {
      "image/png": "[encoded data removed]",
      "text/plain": [
       "<Figure size 720x720 with 1 Axes>"
      ]
     },
     "metadata": {
      "needs_background": "light"
     },
     "output_type": "display_data"
    }
   ],
   "source": [
    "actual_vs_predicted(model1, X_test, y_test)"
   ]
  },
  {
   "cell_type": "code",
   "execution_count": 317,
   "id": "4ed94ca0-a08c-4422-91ac-71a30be2f994",
   "metadata": {},
   "outputs": [
    {
     "ename": "ValueError",
     "evalue": "X has 8 features, but ColumnTransformer is expecting 5 features as input.",
     "output_type": "error",
     "traceback": [
      "\u001b[0;31m---------------------------------------------------------------------------\u001b[0m",
      "\u001b[0;31mValueError\u001b[0m                                Traceback (most recent call last)",
      "\u001b[0;32m<ipython-input-317-46e1adb29fa8>\u001b[0m in \u001b[0;36m<module>\u001b[0;34m\u001b[0m\n\u001b[1;32m      1\u001b[0m \u001b[0mmodel1\u001b[0m\u001b[0;34m.\u001b[0m\u001b[0mfit\u001b[0m\u001b[0;34m(\u001b[0m\u001b[0mX\u001b[0m\u001b[0;34m,\u001b[0m\u001b[0my\u001b[0m\u001b[0;34m)\u001b[0m\u001b[0;34m\u001b[0m\u001b[0;34m\u001b[0m\u001b[0m\n\u001b[0;32m----> 2\u001b[0;31m \u001b[0my_preds_quant\u001b[0m \u001b[0;34m=\u001b[0m \u001b[0mmodel1\u001b[0m\u001b[0;34m.\u001b[0m\u001b[0mpredict\u001b[0m\u001b[0;34m(\u001b[0m\u001b[0mnew_outer\u001b[0m\u001b[0;34m)\u001b[0m\u001b[0;34m\u001b[0m\u001b[0;34m\u001b[0m\u001b[0m\n\u001b[0m",
      "\u001b[0;32m~/opt/anaconda3/envs/main_env/lib/python3.8/site-packages/sklearn/utils/metaestimators.py\u001b[0m in \u001b[0;36m<lambda>\u001b[0;34m(*args, **kwargs)\u001b[0m\n\u001b[1;32m    118\u001b[0m \u001b[0;34m\u001b[0m\u001b[0m\n\u001b[1;32m    119\u001b[0m         \u001b[0;31m# lambda, but not partial, allows help() to work with update_wrapper\u001b[0m\u001b[0;34m\u001b[0m\u001b[0;34m\u001b[0m\u001b[0;34m\u001b[0m\u001b[0m\n\u001b[0;32m--> 120\u001b[0;31m         \u001b[0mout\u001b[0m \u001b[0;34m=\u001b[0m \u001b[0;32mlambda\u001b[0m \u001b[0;34m*\u001b[0m\u001b[0margs\u001b[0m\u001b[0;34m,\u001b[0m \u001b[0;34m**\u001b[0m\u001b[0mkwargs\u001b[0m\u001b[0;34m:\u001b[0m \u001b[0mself\u001b[0m\u001b[0;34m.\u001b[0m\u001b[0mfn\u001b[0m\u001b[0;34m(\u001b[0m\u001b[0mobj\u001b[0m\u001b[0;34m,\u001b[0m \u001b[0;34m*\u001b[0m\u001b[0margs\u001b[0m\u001b[0;34m,\u001b[0m \u001b[0;34m**\u001b[0m\u001b[0mkwargs\u001b[0m\u001b[0;34m)\u001b[0m\u001b[0;34m\u001b[0m\u001b[0;34m\u001b[0m\u001b[0m\n\u001b[0m\u001b[1;32m    121\u001b[0m         \u001b[0;31m# update the docstring of the returned function\u001b[0m\u001b[0;34m\u001b[0m\u001b[0;34m\u001b[0m\u001b[0;34m\u001b[0m\u001b[0m\n\u001b[1;32m    122\u001b[0m         \u001b[0mupdate_wrapper\u001b[0m\u001b[0;34m(\u001b[0m\u001b[0mout\u001b[0m\u001b[0;34m,\u001b[0m \u001b[0mself\u001b[0m\u001b[0;34m.\u001b[0m\u001b[0mfn\u001b[0m\u001b[0;34m)\u001b[0m\u001b[0;34m\u001b[0m\u001b[0;34m\u001b[0m\u001b[0m\n",
      "\u001b[0;32m~/opt/anaconda3/envs/main_env/lib/python3.8/site-packages/sklearn/pipeline.py\u001b[0m in \u001b[0;36mpredict\u001b[0;34m(self, X, **predict_params)\u001b[0m\n\u001b[1;32m    416\u001b[0m         \u001b[0mXt\u001b[0m \u001b[0;34m=\u001b[0m \u001b[0mX\u001b[0m\u001b[0;34m\u001b[0m\u001b[0;34m\u001b[0m\u001b[0m\n\u001b[1;32m    417\u001b[0m         \u001b[0;32mfor\u001b[0m \u001b[0m_\u001b[0m\u001b[0;34m,\u001b[0m \u001b[0mname\u001b[0m\u001b[0;34m,\u001b[0m \u001b[0mtransform\u001b[0m \u001b[0;32min\u001b[0m \u001b[0mself\u001b[0m\u001b[0;34m.\u001b[0m\u001b[0m_iter\u001b[0m\u001b[0;34m(\u001b[0m\u001b[0mwith_final\u001b[0m\u001b[0;34m=\u001b[0m\u001b[0;32mFalse\u001b[0m\u001b[0;34m)\u001b[0m\u001b[0;34m:\u001b[0m\u001b[0;34m\u001b[0m\u001b[0;34m\u001b[0m\u001b[0m\n\u001b[0;32m--> 418\u001b[0;31m             \u001b[0mXt\u001b[0m \u001b[0;34m=\u001b[0m \u001b[0mtransform\u001b[0m\u001b[0;34m.\u001b[0m\u001b[0mtransform\u001b[0m\u001b[0;34m(\u001b[0m\u001b[0mXt\u001b[0m\u001b[0;34m)\u001b[0m\u001b[0;34m\u001b[0m\u001b[0;34m\u001b[0m\u001b[0m\n\u001b[0m\u001b[1;32m    419\u001b[0m         \u001b[0;32mreturn\u001b[0m \u001b[0mself\u001b[0m\u001b[0;34m.\u001b[0m\u001b[0msteps\u001b[0m\u001b[0;34m[\u001b[0m\u001b[0;34m-\u001b[0m\u001b[0;36m1\u001b[0m\u001b[0;34m]\u001b[0m\u001b[0;34m[\u001b[0m\u001b[0;34m-\u001b[0m\u001b[0;36m1\u001b[0m\u001b[0;34m]\u001b[0m\u001b[0;34m.\u001b[0m\u001b[0mpredict\u001b[0m\u001b[0;34m(\u001b[0m\u001b[0mXt\u001b[0m\u001b[0;34m,\u001b[0m \u001b[0;34m**\u001b[0m\u001b[0mpredict_params\u001b[0m\u001b[0;34m)\u001b[0m\u001b[0;34m\u001b[0m\u001b[0;34m\u001b[0m\u001b[0m\n\u001b[1;32m    420\u001b[0m \u001b[0;34m\u001b[0m\u001b[0m\n",
      "\u001b[0;32m~/opt/anaconda3/envs/main_env/lib/python3.8/site-packages/sklearn/compose/_column_transformer.py\u001b[0m in \u001b[0;36mtransform\u001b[0;34m(self, X)\u001b[0m\n\u001b[1;32m    554\u001b[0m             \u001b[0mX_feature_names\u001b[0m \u001b[0;34m=\u001b[0m \u001b[0;32mNone\u001b[0m\u001b[0;34m\u001b[0m\u001b[0;34m\u001b[0m\u001b[0m\n\u001b[1;32m    555\u001b[0m \u001b[0;34m\u001b[0m\u001b[0m\n\u001b[0;32m--> 556\u001b[0;31m         \u001b[0mself\u001b[0m\u001b[0;34m.\u001b[0m\u001b[0m_check_n_features\u001b[0m\u001b[0;34m(\u001b[0m\u001b[0mX\u001b[0m\u001b[0;34m,\u001b[0m \u001b[0mreset\u001b[0m\u001b[0;34m=\u001b[0m\u001b[0;32mFalse\u001b[0m\u001b[0;34m)\u001b[0m\u001b[0;34m\u001b[0m\u001b[0;34m\u001b[0m\u001b[0m\n\u001b[0m\u001b[1;32m    557\u001b[0m         if (self._feature_names_in is not None and\n\u001b[1;32m    558\u001b[0m             \u001b[0mX_feature_names\u001b[0m \u001b[0;32mis\u001b[0m \u001b[0;32mnot\u001b[0m \u001b[0;32mNone\u001b[0m \u001b[0;32mand\u001b[0m\u001b[0;34m\u001b[0m\u001b[0;34m\u001b[0m\u001b[0m\n",
      "\u001b[0;32m~/opt/anaconda3/envs/main_env/lib/python3.8/site-packages/sklearn/base.py\u001b[0m in \u001b[0;36m_check_n_features\u001b[0;34m(self, X, reset)\u001b[0m\n\u001b[1;32m    363\u001b[0m \u001b[0;34m\u001b[0m\u001b[0m\n\u001b[1;32m    364\u001b[0m         \u001b[0;32mif\u001b[0m \u001b[0mn_features\u001b[0m \u001b[0;34m!=\u001b[0m \u001b[0mself\u001b[0m\u001b[0;34m.\u001b[0m\u001b[0mn_features_in_\u001b[0m\u001b[0;34m:\u001b[0m\u001b[0;34m\u001b[0m\u001b[0;34m\u001b[0m\u001b[0m\n\u001b[0;32m--> 365\u001b[0;31m             raise ValueError(\n\u001b[0m\u001b[1;32m    366\u001b[0m                 \u001b[0;34mf\"X has {n_features} features, but {self.__class__.__name__} \"\u001b[0m\u001b[0;34m\u001b[0m\u001b[0;34m\u001b[0m\u001b[0m\n\u001b[1;32m    367\u001b[0m                 f\"is expecting {self.n_features_in_} features as input.\")\n",
      "\u001b[0;31mValueError\u001b[0m: X has 8 features, but ColumnTransformer is expecting 5 features as input."
     ]
    }
   ],
   "source": [
    "model1.fit(X,y)\n",
    "y_preds_quant = model1.predict(new_outer)"
   ]
  }
 ],
 "metadata": {
  "kernelspec": {
   "display_name": "main_env",
   "language": "python",
   "name": "main_env"
  },
  "language_info": {
   "codemirror_mode": {
    "name": "ipython",
    "version": 3
   },
   "file_extension": ".py",
   "mimetype": "text/x-python",
   "name": "python",
   "nbconvert_exporter": "python",
   "pygments_lexer": "ipython3",
   "version": "3.8.11"
  }
 },
 "nbformat": 4,
 "nbformat_minor": 5
}
