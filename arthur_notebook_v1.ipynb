{
 "cells": [
  {
   "cell_type": "markdown",
   "id": "5705d15e-ca3e-45ee-8a3b-a3d9ae32446f",
   "metadata": {},
   "source": [
    "## Import"
   ]
  },
  {
   "cell_type": "code",
   "execution_count": 1,
   "id": "fc566905-3e2c-4e1c-b24a-fb7e5df5b2b3",
   "metadata": {},
   "outputs": [],
   "source": [
    "import pandas as pd"
   ]
  },
  {
   "cell_type": "code",
   "execution_count": 3,
   "id": "d6d6c8e2-4909-4851-a0a4-5e736002ffd9",
   "metadata": {},
   "outputs": [],
   "source": [
    "df_tsc_price_change = pd.read_csv('data/TSC_Price_Changes.csv')"
   ]
  },
  {
   "cell_type": "code",
   "execution_count": 4,
   "id": "46e96e5c-b4ef-45ab-8051-9c9a9b91e70e",
   "metadata": {},
   "outputs": [],
   "source": [
    "df_comp_price_change = pd.read_csv('data/Competitors_Price_Changes.csv')"
   ]
  },
  {
   "cell_type": "code",
   "execution_count": 5,
   "id": "56b3ec15-0370-40d8-a6f2-3c5ffc75107f",
   "metadata": {},
   "outputs": [],
   "source": [
    "df_tsc_sales = pd.read_csv('data/TSC_Sales_Data.csv')"
   ]
  },
  {
   "cell_type": "code",
   "execution_count": 6,
   "id": "f895722a-1301-4a4f-be70-61226a6a57e3",
   "metadata": {},
   "outputs": [
    {
     "data": {
      "text/html": [
       "<div>\n",
       "<style scoped>\n",
       "    .dataframe tbody tr th:only-of-type {\n",
       "        vertical-align: middle;\n",
       "    }\n",
       "\n",
       "    .dataframe tbody tr th {\n",
       "        vertical-align: top;\n",
       "    }\n",
       "\n",
       "    .dataframe thead th {\n",
       "        text-align: right;\n",
       "    }\n",
       "</style>\n",
       "<table border=\"1\" class=\"dataframe\">\n",
       "  <thead>\n",
       "    <tr style=\"text-align: right;\">\n",
       "      <th></th>\n",
       "      <th>SCRUB_ITEM</th>\n",
       "      <th>PRICE_START_DATE</th>\n",
       "      <th>PRICE_END_DATE</th>\n",
       "      <th>TSC_PRICE</th>\n",
       "    </tr>\n",
       "  </thead>\n",
       "  <tbody>\n",
       "    <tr>\n",
       "      <th>0</th>\n",
       "      <td>1</td>\n",
       "      <td>2019-08-26</td>\n",
       "      <td>2019-10-03</td>\n",
       "      <td>199.99</td>\n",
       "    </tr>\n",
       "    <tr>\n",
       "      <th>1</th>\n",
       "      <td>1</td>\n",
       "      <td>2019-10-04</td>\n",
       "      <td>2019-10-08</td>\n",
       "      <td>179.99</td>\n",
       "    </tr>\n",
       "    <tr>\n",
       "      <th>2</th>\n",
       "      <td>1</td>\n",
       "      <td>2019-10-09</td>\n",
       "      <td>2019-10-27</td>\n",
       "      <td>199.99</td>\n",
       "    </tr>\n",
       "    <tr>\n",
       "      <th>3</th>\n",
       "      <td>1</td>\n",
       "      <td>2019-10-28</td>\n",
       "      <td>2019-10-29</td>\n",
       "      <td>179.99</td>\n",
       "    </tr>\n",
       "    <tr>\n",
       "      <th>4</th>\n",
       "      <td>1</td>\n",
       "      <td>2019-10-30</td>\n",
       "      <td>2019-11-05</td>\n",
       "      <td>199.99</td>\n",
       "    </tr>\n",
       "  </tbody>\n",
       "</table>\n",
       "</div>"
      ],
      "text/plain": [
       "   SCRUB_ITEM PRICE_START_DATE PRICE_END_DATE  TSC_PRICE\n",
       "0           1       2019-08-26     2019-10-03     199.99\n",
       "1           1       2019-10-04     2019-10-08     179.99\n",
       "2           1       2019-10-09     2019-10-27     199.99\n",
       "3           1       2019-10-28     2019-10-29     179.99\n",
       "4           1       2019-10-30     2019-11-05     199.99"
      ]
     },
     "execution_count": 6,
     "metadata": {},
     "output_type": "execute_result"
    }
   ],
   "source": [
    "df_tsc_price_change.head()"
   ]
  },
  {
   "cell_type": "code",
   "execution_count": 16,
   "id": "2ae23ceb-f225-47a5-b5e4-e59b14ac56c8",
   "metadata": {},
   "outputs": [
    {
     "data": {
      "text/plain": [
       "96"
      ]
     },
     "execution_count": 16,
     "metadata": {},
     "output_type": "execute_result"
    }
   ],
   "source": [
    "df_tsc_price_change['SCRUB_ITEM'].nunique()"
   ]
  },
  {
   "cell_type": "code",
   "execution_count": 17,
   "id": "a08d2114-ee67-4870-acd4-8bf92dfef0ce",
   "metadata": {},
   "outputs": [
    {
     "data": {
      "text/plain": [
       "42    107\n",
       "51    100\n",
       "7      92\n",
       "93     92\n",
       "55     92\n",
       "     ... \n",
       "66      4\n",
       "64      4\n",
       "4       4\n",
       "86      3\n",
       "29      1\n",
       "Name: SCRUB_ITEM, Length: 96, dtype: int64"
      ]
     },
     "execution_count": 17,
     "metadata": {},
     "output_type": "execute_result"
    }
   ],
   "source": [
    "df_tsc_price_change['SCRUB_ITEM'].value_counts()"
   ]
  },
  {
   "cell_type": "code",
   "execution_count": 18,
   "id": "3b722ebf-3ac2-4c90-96ee-07a382dceeaa",
   "metadata": {},
   "outputs": [
    {
     "name": "stdout",
     "output_type": "stream",
     "text": [
      "<class 'pandas.core.frame.DataFrame'>\n",
      "RangeIndex: 3886 entries, 0 to 3885\n",
      "Data columns (total 4 columns):\n",
      " #   Column            Non-Null Count  Dtype  \n",
      "---  ------            --------------  -----  \n",
      " 0   SCRUB_ITEM        3886 non-null   int64  \n",
      " 1   PRICE_START_DATE  3886 non-null   object \n",
      " 2   PRICE_END_DATE    3886 non-null   object \n",
      " 3   TSC_PRICE         3886 non-null   float64\n",
      "dtypes: float64(1), int64(1), object(2)\n",
      "memory usage: 121.6+ KB\n"
     ]
    }
   ],
   "source": [
    "df_tsc_price_change.info()"
   ]
  },
  {
   "cell_type": "code",
   "execution_count": 25,
   "id": "dd51d32d-1aa9-42e8-bd31-6669754f1788",
   "metadata": {},
   "outputs": [],
   "source": [
    "df_tsc_price_change['PRICE_START_DATE'] = pd.to_datetime(df_tsc_price_change['PRICE_START_DATE'],format='%Y-%m-%d')"
   ]
  },
  {
   "cell_type": "code",
   "execution_count": 33,
   "id": "b78a93e0-6611-45a1-be21-63b7491d47ea",
   "metadata": {},
   "outputs": [],
   "source": [
    "df_tsc_price_change['PRICE_END_DATE'] = pd.to_datetime(df_tsc_price_change['PRICE_END_DATE'],errors='coerce',format='%Y-%m-%d')"
   ]
  },
  {
   "cell_type": "code",
   "execution_count": 34,
   "id": "91068d86-546d-4d40-96f7-6b137c247501",
   "metadata": {},
   "outputs": [
    {
     "name": "stdout",
     "output_type": "stream",
     "text": [
      "<class 'pandas.core.frame.DataFrame'>\n",
      "RangeIndex: 3886 entries, 0 to 3885\n",
      "Data columns (total 4 columns):\n",
      " #   Column            Non-Null Count  Dtype         \n",
      "---  ------            --------------  -----         \n",
      " 0   SCRUB_ITEM        3886 non-null   int64         \n",
      " 1   PRICE_START_DATE  3886 non-null   datetime64[ns]\n",
      " 2   PRICE_END_DATE    3815 non-null   datetime64[ns]\n",
      " 3   TSC_PRICE         3886 non-null   float64       \n",
      "dtypes: datetime64[ns](2), float64(1), int64(1)\n",
      "memory usage: 121.6 KB\n"
     ]
    }
   ],
   "source": [
    "df_tsc_price_change.info()"
   ]
  },
  {
   "cell_type": "code",
   "execution_count": 35,
   "id": "70bbeaea-0911-40ed-b306-4635012d54bc",
   "metadata": {},
   "outputs": [
    {
     "data": {
      "text/html": [
       "<div>\n",
       "<style scoped>\n",
       "    .dataframe tbody tr th:only-of-type {\n",
       "        vertical-align: middle;\n",
       "    }\n",
       "\n",
       "    .dataframe tbody tr th {\n",
       "        vertical-align: top;\n",
       "    }\n",
       "\n",
       "    .dataframe thead th {\n",
       "        text-align: right;\n",
       "    }\n",
       "</style>\n",
       "<table border=\"1\" class=\"dataframe\">\n",
       "  <thead>\n",
       "    <tr style=\"text-align: right;\">\n",
       "      <th></th>\n",
       "      <th>SCRUB_ITEM</th>\n",
       "      <th>PRICE_START_DATE</th>\n",
       "      <th>PRICE_END_DATE</th>\n",
       "      <th>TSC_PRICE</th>\n",
       "    </tr>\n",
       "  </thead>\n",
       "  <tbody>\n",
       "    <tr>\n",
       "      <th>0</th>\n",
       "      <td>1</td>\n",
       "      <td>2019-08-26</td>\n",
       "      <td>2019-10-03</td>\n",
       "      <td>199.99</td>\n",
       "    </tr>\n",
       "    <tr>\n",
       "      <th>1</th>\n",
       "      <td>1</td>\n",
       "      <td>2019-10-04</td>\n",
       "      <td>2019-10-08</td>\n",
       "      <td>179.99</td>\n",
       "    </tr>\n",
       "    <tr>\n",
       "      <th>2</th>\n",
       "      <td>1</td>\n",
       "      <td>2019-10-09</td>\n",
       "      <td>2019-10-27</td>\n",
       "      <td>199.99</td>\n",
       "    </tr>\n",
       "    <tr>\n",
       "      <th>3</th>\n",
       "      <td>1</td>\n",
       "      <td>2019-10-28</td>\n",
       "      <td>2019-10-29</td>\n",
       "      <td>179.99</td>\n",
       "    </tr>\n",
       "    <tr>\n",
       "      <th>4</th>\n",
       "      <td>1</td>\n",
       "      <td>2019-10-30</td>\n",
       "      <td>2019-11-05</td>\n",
       "      <td>199.99</td>\n",
       "    </tr>\n",
       "    <tr>\n",
       "      <th>...</th>\n",
       "      <td>...</td>\n",
       "      <td>...</td>\n",
       "      <td>...</td>\n",
       "      <td>...</td>\n",
       "    </tr>\n",
       "    <tr>\n",
       "      <th>3881</th>\n",
       "      <td>97</td>\n",
       "      <td>2020-12-06</td>\n",
       "      <td>2020-12-07</td>\n",
       "      <td>19.99</td>\n",
       "    </tr>\n",
       "    <tr>\n",
       "      <th>3882</th>\n",
       "      <td>97</td>\n",
       "      <td>2020-12-08</td>\n",
       "      <td>2020-12-12</td>\n",
       "      <td>15.99</td>\n",
       "    </tr>\n",
       "    <tr>\n",
       "      <th>3883</th>\n",
       "      <td>97</td>\n",
       "      <td>2020-12-13</td>\n",
       "      <td>2020-12-18</td>\n",
       "      <td>15.99</td>\n",
       "    </tr>\n",
       "    <tr>\n",
       "      <th>3884</th>\n",
       "      <td>97</td>\n",
       "      <td>2020-12-19</td>\n",
       "      <td>2020-12-24</td>\n",
       "      <td>15.99</td>\n",
       "    </tr>\n",
       "    <tr>\n",
       "      <th>3885</th>\n",
       "      <td>97</td>\n",
       "      <td>2020-12-25</td>\n",
       "      <td>2021-08-18</td>\n",
       "      <td>19.99</td>\n",
       "    </tr>\n",
       "  </tbody>\n",
       "</table>\n",
       "<p>3886 rows × 4 columns</p>\n",
       "</div>"
      ],
      "text/plain": [
       "      SCRUB_ITEM PRICE_START_DATE PRICE_END_DATE  TSC_PRICE\n",
       "0              1       2019-08-26     2019-10-03     199.99\n",
       "1              1       2019-10-04     2019-10-08     179.99\n",
       "2              1       2019-10-09     2019-10-27     199.99\n",
       "3              1       2019-10-28     2019-10-29     179.99\n",
       "4              1       2019-10-30     2019-11-05     199.99\n",
       "...          ...              ...            ...        ...\n",
       "3881          97       2020-12-06     2020-12-07      19.99\n",
       "3882          97       2020-12-08     2020-12-12      15.99\n",
       "3883          97       2020-12-13     2020-12-18      15.99\n",
       "3884          97       2020-12-19     2020-12-24      15.99\n",
       "3885          97       2020-12-25     2021-08-18      19.99\n",
       "\n",
       "[3886 rows x 4 columns]"
      ]
     },
     "execution_count": 35,
     "metadata": {},
     "output_type": "execute_result"
    }
   ],
   "source": [
    "df_tsc_price_change"
   ]
  },
  {
   "cell_type": "code",
   "execution_count": 19,
   "id": "1e493700-4226-4190-846d-4720d061486e",
   "metadata": {},
   "outputs": [
    {
     "data": {
      "text/html": [
       "<div>\n",
       "<style scoped>\n",
       "    .dataframe tbody tr th:only-of-type {\n",
       "        vertical-align: middle;\n",
       "    }\n",
       "\n",
       "    .dataframe tbody tr th {\n",
       "        vertical-align: top;\n",
       "    }\n",
       "\n",
       "    .dataframe thead th {\n",
       "        text-align: right;\n",
       "    }\n",
       "</style>\n",
       "<table border=\"1\" class=\"dataframe\">\n",
       "  <thead>\n",
       "    <tr style=\"text-align: right;\">\n",
       "      <th></th>\n",
       "      <th>SCAN_DATE_TIME</th>\n",
       "      <th>SCRUB_ITEM</th>\n",
       "      <th>SCRUB_COMPETITOR</th>\n",
       "      <th>TSC_PRICE</th>\n",
       "      <th>COMPETITOR_PRICE</th>\n",
       "      <th>CPI_COMPETITIVE_PRICE_INDEX</th>\n",
       "      <th>COMPETITOR_SHIPPING</th>\n",
       "      <th>COMPETITOR_REG_PRICE</th>\n",
       "    </tr>\n",
       "  </thead>\n",
       "  <tbody>\n",
       "    <tr>\n",
       "      <th>0</th>\n",
       "      <td>2020-08-06 04:20:00.000</td>\n",
       "      <td>1</td>\n",
       "      <td>1</td>\n",
       "      <td>199.99</td>\n",
       "      <td>205.58</td>\n",
       "      <td>102.7951</td>\n",
       "      <td>0.0</td>\n",
       "      <td>205.58</td>\n",
       "    </tr>\n",
       "    <tr>\n",
       "      <th>1</th>\n",
       "      <td>2020-08-06 04:21:00.000</td>\n",
       "      <td>1</td>\n",
       "      <td>2</td>\n",
       "      <td>199.99</td>\n",
       "      <td>205.58</td>\n",
       "      <td>102.7951</td>\n",
       "      <td>0.0</td>\n",
       "      <td>205.58</td>\n",
       "    </tr>\n",
       "    <tr>\n",
       "      <th>2</th>\n",
       "      <td>2020-08-07 04:24:00.000</td>\n",
       "      <td>1</td>\n",
       "      <td>1</td>\n",
       "      <td>199.99</td>\n",
       "      <td>205.58</td>\n",
       "      <td>102.7951</td>\n",
       "      <td>0.0</td>\n",
       "      <td>205.58</td>\n",
       "    </tr>\n",
       "    <tr>\n",
       "      <th>3</th>\n",
       "      <td>2020-08-07 04:24:00.000</td>\n",
       "      <td>1</td>\n",
       "      <td>2</td>\n",
       "      <td>199.99</td>\n",
       "      <td>205.58</td>\n",
       "      <td>102.7951</td>\n",
       "      <td>0.0</td>\n",
       "      <td>205.58</td>\n",
       "    </tr>\n",
       "    <tr>\n",
       "      <th>4</th>\n",
       "      <td>2020-08-08 04:22:00.000</td>\n",
       "      <td>1</td>\n",
       "      <td>1</td>\n",
       "      <td>199.99</td>\n",
       "      <td>205.58</td>\n",
       "      <td>102.7951</td>\n",
       "      <td>0.0</td>\n",
       "      <td>205.58</td>\n",
       "    </tr>\n",
       "  </tbody>\n",
       "</table>\n",
       "</div>"
      ],
      "text/plain": [
       "            SCAN_DATE_TIME  SCRUB_ITEM  SCRUB_COMPETITOR  TSC_PRICE  \\\n",
       "0  2020-08-06 04:20:00.000           1                 1     199.99   \n",
       "1  2020-08-06 04:21:00.000           1                 2     199.99   \n",
       "2  2020-08-07 04:24:00.000           1                 1     199.99   \n",
       "3  2020-08-07 04:24:00.000           1                 2     199.99   \n",
       "4  2020-08-08 04:22:00.000           1                 1     199.99   \n",
       "\n",
       "   COMPETITOR_PRICE  CPI_COMPETITIVE_PRICE_INDEX  COMPETITOR_SHIPPING  \\\n",
       "0            205.58                     102.7951                  0.0   \n",
       "1            205.58                     102.7951                  0.0   \n",
       "2            205.58                     102.7951                  0.0   \n",
       "3            205.58                     102.7951                  0.0   \n",
       "4            205.58                     102.7951                  0.0   \n",
       "\n",
       "   COMPETITOR_REG_PRICE  \n",
       "0                205.58  \n",
       "1                205.58  \n",
       "2                205.58  \n",
       "3                205.58  \n",
       "4                205.58  "
      ]
     },
     "execution_count": 19,
     "metadata": {},
     "output_type": "execute_result"
    }
   ],
   "source": [
    "df_comp_price_change.head()"
   ]
  },
  {
   "cell_type": "code",
   "execution_count": 20,
   "id": "d4b7e9a4-ab8d-4aa1-bc5a-efd58dc5506d",
   "metadata": {},
   "outputs": [
    {
     "name": "stdout",
     "output_type": "stream",
     "text": [
      "<class 'pandas.core.frame.DataFrame'>\n",
      "RangeIndex: 90953 entries, 0 to 90952\n",
      "Data columns (total 8 columns):\n",
      " #   Column                       Non-Null Count  Dtype  \n",
      "---  ------                       --------------  -----  \n",
      " 0   SCAN_DATE_TIME               90953 non-null  object \n",
      " 1   SCRUB_ITEM                   90953 non-null  int64  \n",
      " 2   SCRUB_COMPETITOR             90953 non-null  int64  \n",
      " 3   TSC_PRICE                    90953 non-null  float64\n",
      " 4   COMPETITOR_PRICE             90953 non-null  float64\n",
      " 5   CPI_COMPETITIVE_PRICE_INDEX  90953 non-null  float64\n",
      " 6   COMPETITOR_SHIPPING          51396 non-null  float64\n",
      " 7   COMPETITOR_REG_PRICE         90953 non-null  float64\n",
      "dtypes: float64(5), int64(2), object(1)\n",
      "memory usage: 5.6+ MB\n"
     ]
    }
   ],
   "source": [
    "df_comp_price_change.info()"
   ]
  },
  {
   "cell_type": "code",
   "execution_count": 37,
   "id": "66a622b6-44f1-4632-946a-67385237dfb9",
   "metadata": {},
   "outputs": [],
   "source": [
    "df_comp_price_change['SCAN_DATE_TIME'] = df_comp_price_change['SCAN_DATE_TIME'].str[:10]"
   ]
  },
  {
   "cell_type": "code",
   "execution_count": 38,
   "id": "35a02489-eb1b-4093-9e8c-7fe0f4d7082b",
   "metadata": {},
   "outputs": [],
   "source": [
    "df_comp_price_change['SCAN_DATE_TIME'] = pd.to_datetime(df_comp_price_change['SCAN_DATE_TIME'],format='%Y-%m-%d')"
   ]
  },
  {
   "cell_type": "code",
   "execution_count": 21,
   "id": "8f2ed7f5-7b60-4350-a62e-40ac56b8e883",
   "metadata": {},
   "outputs": [
    {
     "data": {
      "text/html": [
       "<div>\n",
       "<style scoped>\n",
       "    .dataframe tbody tr th:only-of-type {\n",
       "        vertical-align: middle;\n",
       "    }\n",
       "\n",
       "    .dataframe tbody tr th {\n",
       "        vertical-align: top;\n",
       "    }\n",
       "\n",
       "    .dataframe thead th {\n",
       "        text-align: right;\n",
       "    }\n",
       "</style>\n",
       "<table border=\"1\" class=\"dataframe\">\n",
       "  <thead>\n",
       "    <tr style=\"text-align: right;\">\n",
       "      <th></th>\n",
       "      <th>SCRUB_ITEM</th>\n",
       "      <th>TIME_DIM_KEY</th>\n",
       "      <th>SCRUB_TRANS_NO</th>\n",
       "      <th>TRANS_SEQ_NO</th>\n",
       "      <th>UNIT_QTY</th>\n",
       "      <th>UNIT_PRICE</th>\n",
       "      <th>UNIT_COST</th>\n",
       "    </tr>\n",
       "  </thead>\n",
       "  <tbody>\n",
       "    <tr>\n",
       "      <th>0</th>\n",
       "      <td>1</td>\n",
       "      <td>20180402</td>\n",
       "      <td>1296</td>\n",
       "      <td>2</td>\n",
       "      <td>2.0</td>\n",
       "      <td>322.99</td>\n",
       "      <td>132.97</td>\n",
       "    </tr>\n",
       "    <tr>\n",
       "      <th>1</th>\n",
       "      <td>1</td>\n",
       "      <td>20181206</td>\n",
       "      <td>6878</td>\n",
       "      <td>1</td>\n",
       "      <td>1.0</td>\n",
       "      <td>322.99</td>\n",
       "      <td>132.97</td>\n",
       "    </tr>\n",
       "    <tr>\n",
       "      <th>2</th>\n",
       "      <td>1</td>\n",
       "      <td>20181210</td>\n",
       "      <td>7010</td>\n",
       "      <td>2</td>\n",
       "      <td>2.0</td>\n",
       "      <td>322.99</td>\n",
       "      <td>132.97</td>\n",
       "    </tr>\n",
       "    <tr>\n",
       "      <th>3</th>\n",
       "      <td>1</td>\n",
       "      <td>20190214</td>\n",
       "      <td>8380</td>\n",
       "      <td>2</td>\n",
       "      <td>1.0</td>\n",
       "      <td>322.99</td>\n",
       "      <td>132.97</td>\n",
       "    </tr>\n",
       "    <tr>\n",
       "      <th>4</th>\n",
       "      <td>1</td>\n",
       "      <td>20190502</td>\n",
       "      <td>10639</td>\n",
       "      <td>1</td>\n",
       "      <td>2.0</td>\n",
       "      <td>219.99</td>\n",
       "      <td>132.97</td>\n",
       "    </tr>\n",
       "  </tbody>\n",
       "</table>\n",
       "</div>"
      ],
      "text/plain": [
       "   SCRUB_ITEM  TIME_DIM_KEY  SCRUB_TRANS_NO  TRANS_SEQ_NO  UNIT_QTY  \\\n",
       "0           1      20180402            1296             2       2.0   \n",
       "1           1      20181206            6878             1       1.0   \n",
       "2           1      20181210            7010             2       2.0   \n",
       "3           1      20190214            8380             2       1.0   \n",
       "4           1      20190502           10639             1       2.0   \n",
       "\n",
       "   UNIT_PRICE  UNIT_COST  \n",
       "0      322.99     132.97  \n",
       "1      322.99     132.97  \n",
       "2      322.99     132.97  \n",
       "3      322.99     132.97  \n",
       "4      219.99     132.97  "
      ]
     },
     "execution_count": 21,
     "metadata": {},
     "output_type": "execute_result"
    }
   ],
   "source": [
    "df_tsc_sales.head()"
   ]
  },
  {
   "cell_type": "code",
   "execution_count": 22,
   "id": "aa0cbbeb-dabb-488d-9523-bed7db8ba0bd",
   "metadata": {},
   "outputs": [
    {
     "name": "stdout",
     "output_type": "stream",
     "text": [
      "<class 'pandas.core.frame.DataFrame'>\n",
      "RangeIndex: 70829 entries, 0 to 70828\n",
      "Data columns (total 7 columns):\n",
      " #   Column          Non-Null Count  Dtype  \n",
      "---  ------          --------------  -----  \n",
      " 0   SCRUB_ITEM      70829 non-null  int64  \n",
      " 1   TIME_DIM_KEY    70829 non-null  int64  \n",
      " 2   SCRUB_TRANS_NO  70829 non-null  int64  \n",
      " 3   TRANS_SEQ_NO    70829 non-null  int64  \n",
      " 4   UNIT_QTY        70829 non-null  float64\n",
      " 5   UNIT_PRICE      70829 non-null  float64\n",
      " 6   UNIT_COST       70829 non-null  float64\n",
      "dtypes: float64(3), int64(4)\n",
      "memory usage: 3.8 MB\n"
     ]
    }
   ],
   "source": [
    "df_tsc_sales.info()"
   ]
  },
  {
   "cell_type": "code",
   "execution_count": 39,
   "id": "553bcc0f-8f23-4875-af63-cced7ef570ce",
   "metadata": {},
   "outputs": [],
   "source": [
    "df_tsc_sales['TIME_DIM_KEY'] = pd.to_datetime(df_tsc_sales['TIME_DIM_KEY'],format='%Y%m%d')"
   ]
  },
  {
   "cell_type": "code",
   "execution_count": 43,
   "id": "0c120969-1a0f-4e06-8a0b-dfe9acc318ce",
   "metadata": {},
   "outputs": [
    {
     "data": {
      "text/plain": [
       "Timestamp('2018-04-02 00:00:00')"
      ]
     },
     "execution_count": 43,
     "metadata": {},
     "output_type": "execute_result"
    }
   ],
   "source": [
    "df_tsc_sales['TIME_DIM_KEY'][0]"
   ]
  },
  {
   "cell_type": "code",
   "execution_count": 47,
   "id": "ff93d011-d04e-4d43-8dee-22cb3b264837",
   "metadata": {},
   "outputs": [
    {
     "data": {
      "text/plain": [
       "2"
      ]
     },
     "execution_count": 47,
     "metadata": {},
     "output_type": "execute_result"
    }
   ],
   "source": [
    "df_tsc_sales['TIME_DIM_KEY'][0].day"
   ]
  }
 ],
 "metadata": {
  "kernelspec": {
   "display_name": "main_env",
   "language": "python",
   "name": "main_env"
  },
  "language_info": {
   "codemirror_mode": {
    "name": "ipython",
    "version": 3
   },
   "file_extension": ".py",
   "mimetype": "text/x-python",
   "name": "python",
   "nbconvert_exporter": "python",
   "pygments_lexer": "ipython3",
   "version": "3.8.11"
  }
 },
 "nbformat": 4,
 "nbformat_minor": 5
}
