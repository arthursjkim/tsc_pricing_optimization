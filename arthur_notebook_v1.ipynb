{
 "cells": [
  {
   "cell_type": "markdown",
   "id": "5705d15e-ca3e-45ee-8a3b-a3d9ae32446f",
   "metadata": {
    "jp-MarkdownHeadingCollapsed": true,
    "tags": []
   },
   "source": [
    "## Import"
   ]
  },
  {
   "cell_type": "code",
   "execution_count": 1,
   "id": "fc566905-3e2c-4e1c-b24a-fb7e5df5b2b3",
   "metadata": {},
   "outputs": [],
   "source": [
    "import pandas as pd"
   ]
  },
  {
   "cell_type": "markdown",
   "id": "6b534e23-3c77-46d1-8b45-8e9d4de29898",
   "metadata": {
    "tags": []
   },
   "source": [
    "## Reading In and Reviewing Data Files"
   ]
  },
  {
   "cell_type": "code",
   "execution_count": 2,
   "id": "d6d6c8e2-4909-4851-a0a4-5e736002ffd9",
   "metadata": {},
   "outputs": [],
   "source": [
    "df_tsc_price_change = pd.read_csv('data/TSC_Price_Changes.csv')"
   ]
  },
  {
   "cell_type": "code",
   "execution_count": 3,
   "id": "3b722ebf-3ac2-4c90-96ee-07a382dceeaa",
   "metadata": {},
   "outputs": [
    {
     "name": "stdout",
     "output_type": "stream",
     "text": [
      "<class 'pandas.core.frame.DataFrame'>\n",
      "RangeIndex: 3886 entries, 0 to 3885\n",
      "Data columns (total 4 columns):\n",
      " #   Column            Non-Null Count  Dtype  \n",
      "---  ------            --------------  -----  \n",
      " 0   SCRUB_ITEM        3886 non-null   int64  \n",
      " 1   PRICE_START_DATE  3886 non-null   object \n",
      " 2   PRICE_END_DATE    3886 non-null   object \n",
      " 3   TSC_PRICE         3886 non-null   float64\n",
      "dtypes: float64(1), int64(1), object(2)\n",
      "memory usage: 121.6+ KB\n"
     ]
    }
   ],
   "source": [
    "df_tsc_price_change.info()"
   ]
  },
  {
   "cell_type": "code",
   "execution_count": 4,
   "id": "a28f8b5b-c6a1-4ee8-87f7-e47990b31973",
   "metadata": {},
   "outputs": [
    {
     "data": {
      "text/html": [
       "<div>\n",
       "<style scoped>\n",
       "    .dataframe tbody tr th:only-of-type {\n",
       "        vertical-align: middle;\n",
       "    }\n",
       "\n",
       "    .dataframe tbody tr th {\n",
       "        vertical-align: top;\n",
       "    }\n",
       "\n",
       "    .dataframe thead th {\n",
       "        text-align: right;\n",
       "    }\n",
       "</style>\n",
       "<table border=\"1\" class=\"dataframe\">\n",
       "  <thead>\n",
       "    <tr style=\"text-align: right;\">\n",
       "      <th></th>\n",
       "      <th>SCRUB_ITEM</th>\n",
       "      <th>PRICE_START_DATE</th>\n",
       "      <th>PRICE_END_DATE</th>\n",
       "      <th>TSC_PRICE</th>\n",
       "    </tr>\n",
       "  </thead>\n",
       "  <tbody>\n",
       "    <tr>\n",
       "      <th>0</th>\n",
       "      <td>1</td>\n",
       "      <td>2019-08-26</td>\n",
       "      <td>2019-10-03</td>\n",
       "      <td>199.99</td>\n",
       "    </tr>\n",
       "    <tr>\n",
       "      <th>1</th>\n",
       "      <td>1</td>\n",
       "      <td>2019-10-04</td>\n",
       "      <td>2019-10-08</td>\n",
       "      <td>179.99</td>\n",
       "    </tr>\n",
       "    <tr>\n",
       "      <th>2</th>\n",
       "      <td>1</td>\n",
       "      <td>2019-10-09</td>\n",
       "      <td>2019-10-27</td>\n",
       "      <td>199.99</td>\n",
       "    </tr>\n",
       "    <tr>\n",
       "      <th>3</th>\n",
       "      <td>1</td>\n",
       "      <td>2019-10-28</td>\n",
       "      <td>2019-10-29</td>\n",
       "      <td>179.99</td>\n",
       "    </tr>\n",
       "    <tr>\n",
       "      <th>4</th>\n",
       "      <td>1</td>\n",
       "      <td>2019-10-30</td>\n",
       "      <td>2019-11-05</td>\n",
       "      <td>199.99</td>\n",
       "    </tr>\n",
       "  </tbody>\n",
       "</table>\n",
       "</div>"
      ],
      "text/plain": [
       "   SCRUB_ITEM PRICE_START_DATE PRICE_END_DATE  TSC_PRICE\n",
       "0           1       2019-08-26     2019-10-03     199.99\n",
       "1           1       2019-10-04     2019-10-08     179.99\n",
       "2           1       2019-10-09     2019-10-27     199.99\n",
       "3           1       2019-10-28     2019-10-29     179.99\n",
       "4           1       2019-10-30     2019-11-05     199.99"
      ]
     },
     "execution_count": 4,
     "metadata": {},
     "output_type": "execute_result"
    }
   ],
   "source": [
    "df_tsc_price_change.head()"
   ]
  },
  {
   "cell_type": "code",
   "execution_count": 5,
   "id": "133656a3-85ef-4c74-aab6-8c20baf3e311",
   "metadata": {},
   "outputs": [],
   "source": [
    "df_comp_price_change = pd.read_csv('data/Competitors_Price_Changes.csv')"
   ]
  },
  {
   "cell_type": "code",
   "execution_count": 6,
   "id": "0f465e8c-c3b3-4364-b3ae-578aa3bdd06a",
   "metadata": {},
   "outputs": [
    {
     "name": "stdout",
     "output_type": "stream",
     "text": [
      "<class 'pandas.core.frame.DataFrame'>\n",
      "RangeIndex: 90953 entries, 0 to 90952\n",
      "Data columns (total 8 columns):\n",
      " #   Column                       Non-Null Count  Dtype  \n",
      "---  ------                       --------------  -----  \n",
      " 0   SCAN_DATE_TIME               90953 non-null  object \n",
      " 1   SCRUB_ITEM                   90953 non-null  int64  \n",
      " 2   SCRUB_COMPETITOR             90953 non-null  int64  \n",
      " 3   TSC_PRICE                    90953 non-null  float64\n",
      " 4   COMPETITOR_PRICE             90953 non-null  float64\n",
      " 5   CPI_COMPETITIVE_PRICE_INDEX  90953 non-null  float64\n",
      " 6   COMPETITOR_SHIPPING          51396 non-null  float64\n",
      " 7   COMPETITOR_REG_PRICE         90953 non-null  float64\n",
      "dtypes: float64(5), int64(2), object(1)\n",
      "memory usage: 5.6+ MB\n"
     ]
    }
   ],
   "source": [
    "df_comp_price_change.info()"
   ]
  },
  {
   "cell_type": "code",
   "execution_count": 7,
   "id": "6040081f-c3ac-4297-b74e-a2e58fb8d043",
   "metadata": {
    "tags": []
   },
   "outputs": [
    {
     "data": {
      "text/html": [
       "<div>\n",
       "<style scoped>\n",
       "    .dataframe tbody tr th:only-of-type {\n",
       "        vertical-align: middle;\n",
       "    }\n",
       "\n",
       "    .dataframe tbody tr th {\n",
       "        vertical-align: top;\n",
       "    }\n",
       "\n",
       "    .dataframe thead th {\n",
       "        text-align: right;\n",
       "    }\n",
       "</style>\n",
       "<table border=\"1\" class=\"dataframe\">\n",
       "  <thead>\n",
       "    <tr style=\"text-align: right;\">\n",
       "      <th></th>\n",
       "      <th>SCAN_DATE_TIME</th>\n",
       "      <th>SCRUB_ITEM</th>\n",
       "      <th>SCRUB_COMPETITOR</th>\n",
       "      <th>TSC_PRICE</th>\n",
       "      <th>COMPETITOR_PRICE</th>\n",
       "      <th>CPI_COMPETITIVE_PRICE_INDEX</th>\n",
       "      <th>COMPETITOR_SHIPPING</th>\n",
       "      <th>COMPETITOR_REG_PRICE</th>\n",
       "    </tr>\n",
       "  </thead>\n",
       "  <tbody>\n",
       "    <tr>\n",
       "      <th>0</th>\n",
       "      <td>2020-08-06 04:20:00.000</td>\n",
       "      <td>1</td>\n",
       "      <td>1</td>\n",
       "      <td>199.99</td>\n",
       "      <td>205.58</td>\n",
       "      <td>102.7951</td>\n",
       "      <td>0.0</td>\n",
       "      <td>205.58</td>\n",
       "    </tr>\n",
       "    <tr>\n",
       "      <th>1</th>\n",
       "      <td>2020-08-06 04:21:00.000</td>\n",
       "      <td>1</td>\n",
       "      <td>2</td>\n",
       "      <td>199.99</td>\n",
       "      <td>205.58</td>\n",
       "      <td>102.7951</td>\n",
       "      <td>0.0</td>\n",
       "      <td>205.58</td>\n",
       "    </tr>\n",
       "    <tr>\n",
       "      <th>2</th>\n",
       "      <td>2020-08-07 04:24:00.000</td>\n",
       "      <td>1</td>\n",
       "      <td>1</td>\n",
       "      <td>199.99</td>\n",
       "      <td>205.58</td>\n",
       "      <td>102.7951</td>\n",
       "      <td>0.0</td>\n",
       "      <td>205.58</td>\n",
       "    </tr>\n",
       "    <tr>\n",
       "      <th>3</th>\n",
       "      <td>2020-08-07 04:24:00.000</td>\n",
       "      <td>1</td>\n",
       "      <td>2</td>\n",
       "      <td>199.99</td>\n",
       "      <td>205.58</td>\n",
       "      <td>102.7951</td>\n",
       "      <td>0.0</td>\n",
       "      <td>205.58</td>\n",
       "    </tr>\n",
       "    <tr>\n",
       "      <th>4</th>\n",
       "      <td>2020-08-08 04:22:00.000</td>\n",
       "      <td>1</td>\n",
       "      <td>1</td>\n",
       "      <td>199.99</td>\n",
       "      <td>205.58</td>\n",
       "      <td>102.7951</td>\n",
       "      <td>0.0</td>\n",
       "      <td>205.58</td>\n",
       "    </tr>\n",
       "  </tbody>\n",
       "</table>\n",
       "</div>"
      ],
      "text/plain": [
       "            SCAN_DATE_TIME  SCRUB_ITEM  SCRUB_COMPETITOR  TSC_PRICE  \\\n",
       "0  2020-08-06 04:20:00.000           1                 1     199.99   \n",
       "1  2020-08-06 04:21:00.000           1                 2     199.99   \n",
       "2  2020-08-07 04:24:00.000           1                 1     199.99   \n",
       "3  2020-08-07 04:24:00.000           1                 2     199.99   \n",
       "4  2020-08-08 04:22:00.000           1                 1     199.99   \n",
       "\n",
       "   COMPETITOR_PRICE  CPI_COMPETITIVE_PRICE_INDEX  COMPETITOR_SHIPPING  \\\n",
       "0            205.58                     102.7951                  0.0   \n",
       "1            205.58                     102.7951                  0.0   \n",
       "2            205.58                     102.7951                  0.0   \n",
       "3            205.58                     102.7951                  0.0   \n",
       "4            205.58                     102.7951                  0.0   \n",
       "\n",
       "   COMPETITOR_REG_PRICE  \n",
       "0                205.58  \n",
       "1                205.58  \n",
       "2                205.58  \n",
       "3                205.58  \n",
       "4                205.58  "
      ]
     },
     "execution_count": 7,
     "metadata": {},
     "output_type": "execute_result"
    }
   ],
   "source": [
    "df_comp_price_change.head()"
   ]
  },
  {
   "cell_type": "code",
   "execution_count": 8,
   "id": "b5303cef-40d5-4b01-8c9d-033c096fc620",
   "metadata": {},
   "outputs": [],
   "source": [
    "df_tsc_sales = pd.read_csv('data/TSC_Sales_Data.csv')"
   ]
  },
  {
   "cell_type": "code",
   "execution_count": 9,
   "id": "ac450361-4e8e-4c6d-a121-d1c02c2ea51c",
   "metadata": {},
   "outputs": [
    {
     "name": "stdout",
     "output_type": "stream",
     "text": [
      "<class 'pandas.core.frame.DataFrame'>\n",
      "RangeIndex: 70829 entries, 0 to 70828\n",
      "Data columns (total 7 columns):\n",
      " #   Column          Non-Null Count  Dtype  \n",
      "---  ------          --------------  -----  \n",
      " 0   SCRUB_ITEM      70829 non-null  int64  \n",
      " 1   TIME_DIM_KEY    70829 non-null  int64  \n",
      " 2   SCRUB_TRANS_NO  70829 non-null  int64  \n",
      " 3   TRANS_SEQ_NO    70829 non-null  int64  \n",
      " 4   UNIT_QTY        70829 non-null  float64\n",
      " 5   UNIT_PRICE      70829 non-null  float64\n",
      " 6   UNIT_COST       70829 non-null  float64\n",
      "dtypes: float64(3), int64(4)\n",
      "memory usage: 3.8 MB\n"
     ]
    }
   ],
   "source": [
    "df_tsc_sales.info()"
   ]
  },
  {
   "cell_type": "code",
   "execution_count": 10,
   "id": "b642f75b-4307-4175-9c3b-721f47846046",
   "metadata": {
    "tags": []
   },
   "outputs": [
    {
     "data": {
      "text/html": [
       "<div>\n",
       "<style scoped>\n",
       "    .dataframe tbody tr th:only-of-type {\n",
       "        vertical-align: middle;\n",
       "    }\n",
       "\n",
       "    .dataframe tbody tr th {\n",
       "        vertical-align: top;\n",
       "    }\n",
       "\n",
       "    .dataframe thead th {\n",
       "        text-align: right;\n",
       "    }\n",
       "</style>\n",
       "<table border=\"1\" class=\"dataframe\">\n",
       "  <thead>\n",
       "    <tr style=\"text-align: right;\">\n",
       "      <th></th>\n",
       "      <th>SCRUB_ITEM</th>\n",
       "      <th>TIME_DIM_KEY</th>\n",
       "      <th>SCRUB_TRANS_NO</th>\n",
       "      <th>TRANS_SEQ_NO</th>\n",
       "      <th>UNIT_QTY</th>\n",
       "      <th>UNIT_PRICE</th>\n",
       "      <th>UNIT_COST</th>\n",
       "    </tr>\n",
       "  </thead>\n",
       "  <tbody>\n",
       "    <tr>\n",
       "      <th>0</th>\n",
       "      <td>1</td>\n",
       "      <td>20180402</td>\n",
       "      <td>1296</td>\n",
       "      <td>2</td>\n",
       "      <td>2.0</td>\n",
       "      <td>322.99</td>\n",
       "      <td>132.97</td>\n",
       "    </tr>\n",
       "    <tr>\n",
       "      <th>1</th>\n",
       "      <td>1</td>\n",
       "      <td>20181206</td>\n",
       "      <td>6878</td>\n",
       "      <td>1</td>\n",
       "      <td>1.0</td>\n",
       "      <td>322.99</td>\n",
       "      <td>132.97</td>\n",
       "    </tr>\n",
       "    <tr>\n",
       "      <th>2</th>\n",
       "      <td>1</td>\n",
       "      <td>20181210</td>\n",
       "      <td>7010</td>\n",
       "      <td>2</td>\n",
       "      <td>2.0</td>\n",
       "      <td>322.99</td>\n",
       "      <td>132.97</td>\n",
       "    </tr>\n",
       "    <tr>\n",
       "      <th>3</th>\n",
       "      <td>1</td>\n",
       "      <td>20190214</td>\n",
       "      <td>8380</td>\n",
       "      <td>2</td>\n",
       "      <td>1.0</td>\n",
       "      <td>322.99</td>\n",
       "      <td>132.97</td>\n",
       "    </tr>\n",
       "    <tr>\n",
       "      <th>4</th>\n",
       "      <td>1</td>\n",
       "      <td>20190502</td>\n",
       "      <td>10639</td>\n",
       "      <td>1</td>\n",
       "      <td>2.0</td>\n",
       "      <td>219.99</td>\n",
       "      <td>132.97</td>\n",
       "    </tr>\n",
       "  </tbody>\n",
       "</table>\n",
       "</div>"
      ],
      "text/plain": [
       "   SCRUB_ITEM  TIME_DIM_KEY  SCRUB_TRANS_NO  TRANS_SEQ_NO  UNIT_QTY  \\\n",
       "0           1      20180402            1296             2       2.0   \n",
       "1           1      20181206            6878             1       1.0   \n",
       "2           1      20181210            7010             2       2.0   \n",
       "3           1      20190214            8380             2       1.0   \n",
       "4           1      20190502           10639             1       2.0   \n",
       "\n",
       "   UNIT_PRICE  UNIT_COST  \n",
       "0      322.99     132.97  \n",
       "1      322.99     132.97  \n",
       "2      322.99     132.97  \n",
       "3      322.99     132.97  \n",
       "4      219.99     132.97  "
      ]
     },
     "execution_count": 10,
     "metadata": {},
     "output_type": "execute_result"
    }
   ],
   "source": [
    "df_tsc_sales.head()"
   ]
  },
  {
   "cell_type": "markdown",
   "id": "771f064d-44cb-4c9a-afd0-d1f7783b9f64",
   "metadata": {
    "tags": []
   },
   "source": [
    "## Converting to Date and Time"
   ]
  },
  {
   "cell_type": "code",
   "execution_count": 11,
   "id": "dd51d32d-1aa9-42e8-bd31-6669754f1788",
   "metadata": {},
   "outputs": [],
   "source": [
    "df_tsc_price_change['PRICE_START_DATE'] = pd.to_datetime(df_tsc_price_change['PRICE_START_DATE'],\n",
    "                                                         format='%Y-%m-%d')"
   ]
  },
  {
   "cell_type": "code",
   "execution_count": 12,
   "id": "b78a93e0-6611-45a1-be21-63b7491d47ea",
   "metadata": {},
   "outputs": [],
   "source": [
    "df_tsc_price_change['PRICE_END_DATE'] = pd.to_datetime(df_tsc_price_change['PRICE_END_DATE'],\n",
    "                                                       errors='coerce', #convert errors for nulls\n",
    "                                                       format='%Y-%m-%d')"
   ]
  },
  {
   "cell_type": "markdown",
   "id": "95cb564e-1091-430d-8421-8116029422d4",
   "metadata": {},
   "source": [
    "Some of the end dates have errors because the year is 9999 for items that do not have a price_end_date. Therefore, when we convert the data to date and time, we used 'errors=coerce', converting errors to nulls."
   ]
  },
  {
   "cell_type": "code",
   "execution_count": 13,
   "id": "91068d86-546d-4d40-96f7-6b137c247501",
   "metadata": {},
   "outputs": [
    {
     "name": "stdout",
     "output_type": "stream",
     "text": [
      "<class 'pandas.core.frame.DataFrame'>\n",
      "RangeIndex: 3886 entries, 0 to 3885\n",
      "Data columns (total 4 columns):\n",
      " #   Column            Non-Null Count  Dtype         \n",
      "---  ------            --------------  -----         \n",
      " 0   SCRUB_ITEM        3886 non-null   int64         \n",
      " 1   PRICE_START_DATE  3886 non-null   datetime64[ns]\n",
      " 2   PRICE_END_DATE    3815 non-null   datetime64[ns]\n",
      " 3   TSC_PRICE         3886 non-null   float64       \n",
      "dtypes: datetime64[ns](2), float64(1), int64(1)\n",
      "memory usage: 121.6 KB\n"
     ]
    }
   ],
   "source": [
    "df_tsc_price_change.info()"
   ]
  },
  {
   "cell_type": "code",
   "execution_count": 14,
   "id": "66a622b6-44f1-4632-946a-67385237dfb9",
   "metadata": {},
   "outputs": [],
   "source": [
    "#getting the first 10 characters of the date to get the Y-m-d\n",
    "df_comp_price_change['SCAN_DATE_TIME'] = df_comp_price_change['SCAN_DATE_TIME'].str[:10]"
   ]
  },
  {
   "cell_type": "code",
   "execution_count": 15,
   "id": "35a02489-eb1b-4093-9e8c-7fe0f4d7082b",
   "metadata": {},
   "outputs": [],
   "source": [
    "df_comp_price_change['SCAN_DATE_TIME'] = pd.to_datetime(df_comp_price_change['SCAN_DATE_TIME'],format='%Y-%m-%d')"
   ]
  },
  {
   "cell_type": "code",
   "execution_count": 16,
   "id": "aa0cbbeb-dabb-488d-9523-bed7db8ba0bd",
   "metadata": {},
   "outputs": [
    {
     "name": "stdout",
     "output_type": "stream",
     "text": [
      "<class 'pandas.core.frame.DataFrame'>\n",
      "RangeIndex: 70829 entries, 0 to 70828\n",
      "Data columns (total 7 columns):\n",
      " #   Column          Non-Null Count  Dtype  \n",
      "---  ------          --------------  -----  \n",
      " 0   SCRUB_ITEM      70829 non-null  int64  \n",
      " 1   TIME_DIM_KEY    70829 non-null  int64  \n",
      " 2   SCRUB_TRANS_NO  70829 non-null  int64  \n",
      " 3   TRANS_SEQ_NO    70829 non-null  int64  \n",
      " 4   UNIT_QTY        70829 non-null  float64\n",
      " 5   UNIT_PRICE      70829 non-null  float64\n",
      " 6   UNIT_COST       70829 non-null  float64\n",
      "dtypes: float64(3), int64(4)\n",
      "memory usage: 3.8 MB\n"
     ]
    }
   ],
   "source": [
    "df_tsc_sales.info()"
   ]
  },
  {
   "cell_type": "code",
   "execution_count": 17,
   "id": "553bcc0f-8f23-4875-af63-cced7ef570ce",
   "metadata": {},
   "outputs": [],
   "source": [
    "df_tsc_sales['TIME_DIM_KEY'] = pd.to_datetime(df_tsc_sales['TIME_DIM_KEY'],format='%Y%m%d')"
   ]
  },
  {
   "cell_type": "code",
   "execution_count": 19,
   "id": "0c120969-1a0f-4e06-8a0b-dfe9acc318ce",
   "metadata": {},
   "outputs": [
    {
     "name": "stdout",
     "output_type": "stream",
     "text": [
      "<class 'pandas.core.frame.DataFrame'>\n",
      "RangeIndex: 70829 entries, 0 to 70828\n",
      "Data columns (total 7 columns):\n",
      " #   Column          Non-Null Count  Dtype         \n",
      "---  ------          --------------  -----         \n",
      " 0   SCRUB_ITEM      70829 non-null  int64         \n",
      " 1   TIME_DIM_KEY    70829 non-null  datetime64[ns]\n",
      " 2   SCRUB_TRANS_NO  70829 non-null  int64         \n",
      " 3   TRANS_SEQ_NO    70829 non-null  int64         \n",
      " 4   UNIT_QTY        70829 non-null  float64       \n",
      " 5   UNIT_PRICE      70829 non-null  float64       \n",
      " 6   UNIT_COST       70829 non-null  float64       \n",
      "dtypes: datetime64[ns](1), float64(3), int64(3)\n",
      "memory usage: 3.8 MB\n"
     ]
    }
   ],
   "source": [
    "df_tsc_sales.info()"
   ]
  }
 ],
 "metadata": {
  "kernelspec": {
   "display_name": "main_env",
   "language": "python",
   "name": "main_env"
  },
  "language_info": {
   "codemirror_mode": {
    "name": "ipython",
    "version": 3
   },
   "file_extension": ".py",
   "mimetype": "text/x-python",
   "name": "python",
   "nbconvert_exporter": "python",
   "pygments_lexer": "ipython3",
   "version": "3.8.11"
  }
 },
 "nbformat": 4,
 "nbformat_minor": 5
}
