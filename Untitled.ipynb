{
 "cells": [
  {
   "cell_type": "code",
   "execution_count": 1,
   "id": "fc4447b0-ff62-41ab-88d5-917eb542227e",
   "metadata": {},
   "outputs": [],
   "source": [
    "import os\n",
    "import pickle\n",
    "\n",
    "import pandas as pd\n",
    "import numpy as np\n",
    "\n",
    "import matplotlib as mpl\n",
    "import matplotlib.pyplot as plt\n",
    "import seaborn as sns\n",
    "%matplotlib inline\n",
    "\n",
    "from sklearn.preprocessing import MinMaxScaler\n",
    "from statsmodels.tsa.stattools import adfuller\n",
    "from sklearn.metrics import mean_squared_error, mean_absolute_error\n",
    "from statsmodels.tsa.arima_model import ARIMA\n",
    "from pmdarima.arima import auto_arima\n",
    "from math import sqrt"
   ]
  },
  {
   "cell_type": "code",
   "execution_count": 2,
   "id": "93f431fa-2e09-4341-8bce-00a9113761e3",
   "metadata": {},
   "outputs": [],
   "source": [
    "def to_date(string):\n",
    "    try:\n",
    "        converted = pd.to_datetime(string)\n",
    "    except:\n",
    "        converted = np.NaN\n",
    "    return converted"
   ]
  },
  {
   "cell_type": "code",
   "execution_count": 3,
   "id": "e94ed951-f578-4fde-88f1-ff2bd0d7a54a",
   "metadata": {},
   "outputs": [
    {
     "data": {
      "text/plain": [
       "'/Users/miafryer/Documents/flatiron/tsc_pricing_optimization'"
      ]
     },
     "execution_count": 3,
     "metadata": {},
     "output_type": "execute_result"
    }
   ],
   "source": [
    "pwd"
   ]
  },
  {
   "cell_type": "code",
   "execution_count": 4,
   "id": "dd999450-0f82-4403-b47f-96450aff86dd",
   "metadata": {},
   "outputs": [],
   "source": [
    "tsc_sales = pd.read_csv(\n",
    "    'data/TSC_Sales_Data.csv',\n",
    "    converters = {\n",
    "        1: to_date\n",
    "    })"
   ]
  },
  {
   "cell_type": "code",
   "execution_count": 5,
   "id": "30e6ea42-1f90-4f28-a0ee-e310be7f430a",
   "metadata": {},
   "outputs": [],
   "source": [
    "to_drop = tsc_sales[tsc_sales['UNIT_QTY'] ==0]\n",
    "tsc_sales.drop(to_drop.index, axis=0, inplace=True)"
   ]
  },
  {
   "cell_type": "code",
   "execution_count": 6,
   "id": "3f89780e-b0e3-497f-a344-8b3c196b8dee",
   "metadata": {
    "tags": []
   },
   "outputs": [
    {
     "data": {
      "text/plain": [
       "0        False\n",
       "1        False\n",
       "2        False\n",
       "3        False\n",
       "4        False\n",
       "         ...  \n",
       "70824    False\n",
       "70825    False\n",
       "70826    False\n",
       "70827    False\n",
       "70828    False\n",
       "Name: UNIT_QTY, Length: 70129, dtype: bool"
      ]
     },
     "execution_count": 6,
     "metadata": {},
     "output_type": "execute_result"
    }
   ],
   "source": [
    "tsc_sales['UNIT_QTY']==0"
   ]
  },
  {
   "cell_type": "code",
   "execution_count": 7,
   "id": "946597ee-2799-499d-b1e1-797aedb16d73",
   "metadata": {},
   "outputs": [],
   "source": [
    "price_changes = pd.read_csv(\n",
    "    'data/TSC_Price_Changes.csv',\n",
    "    converters={\n",
    "        1: to_date,\n",
    "        2: to_date\n",
    "    },\n",
    ").set_index('PRICE_START_DATE').drop('PRICE_END_DATE', axis=1)"
   ]
  },
  {
   "cell_type": "code",
   "execution_count": 8,
   "id": "2640d81e-b36c-487c-a2f2-b57fb302e449",
   "metadata": {},
   "outputs": [],
   "source": [
    "price_changes_resampled = price_changes.groupby('SCRUB_ITEM').resample('D').ffill()"
   ]
  },
  {
   "cell_type": "code",
   "execution_count": 9,
   "id": "322d4375-780c-414f-b4bc-efbc7d5384b0",
   "metadata": {},
   "outputs": [],
   "source": [
    "price_changes_resampled=price_changes_resampled.drop(\"SCRUB_ITEM\", axis=1).reset_index()"
   ]
  },
  {
   "cell_type": "code",
   "execution_count": 10,
   "id": "0d844b7b-2e9e-4698-afa3-9513506d206b",
   "metadata": {},
   "outputs": [],
   "source": [
    "sales_gross_margins = tsc_sales.eval(\"GROSS_MARGIN = (UNIT_QTY * UNIT_PRICE) - (UNIT_QTY * UNIT_COST)\"\n",
    ")"
   ]
  },
  {
   "cell_type": "code",
   "execution_count": 11,
   "id": "2efa29d6-4a20-41e2-b4b9-a423f7a2acde",
   "metadata": {},
   "outputs": [],
   "source": [
    "sales_gross_margins.rename(columns={'TIME_DIM_KEY':'PRICE_START_DATE'}, inplace=True)"
   ]
  },
  {
   "cell_type": "code",
   "execution_count": 12,
   "id": "18a0d04f-6425-4d7a-a4dd-d4d40b568802",
   "metadata": {},
   "outputs": [],
   "source": [
    "merged_df= pd.merge(sales_gross_margins,price_changes_resampled,on=['PRICE_START_DATE','SCRUB_ITEM'],how='inner')"
   ]
  },
  {
   "cell_type": "markdown",
   "id": "2c1b086a-824e-4b26-8290-0de931b4f345",
   "metadata": {},
   "source": [
    "## Modeling for item1"
   ]
  },
  {
   "cell_type": "code",
   "execution_count": 13,
   "id": "77dcc968-a049-4bd9-8dfe-32d259540f47",
   "metadata": {
    "tags": []
   },
   "outputs": [],
   "source": [
    "item1= merged_df.loc[merged_df['SCRUB_ITEM']==1, :]"
   ]
  },
  {
   "cell_type": "code",
   "execution_count": 14,
   "id": "adf6942d-b875-4579-adb8-e36974c1491b",
   "metadata": {},
   "outputs": [],
   "source": [
    "data= item1.set_index('PRICE_START_DATE').filter(['UNIT_QTY'])"
   ]
  },
  {
   "cell_type": "code",
   "execution_count": 15,
   "id": "82921a8d-2c45-4f9a-a52e-73dc6cb7dd2d",
   "metadata": {},
   "outputs": [
    {
     "data": {
      "text/html": [
       "<div>\n",
       "<style scoped>\n",
       "    .dataframe tbody tr th:only-of-type {\n",
       "        vertical-align: middle;\n",
       "    }\n",
       "\n",
       "    .dataframe tbody tr th {\n",
       "        vertical-align: top;\n",
       "    }\n",
       "\n",
       "    .dataframe thead th {\n",
       "        text-align: right;\n",
       "    }\n",
       "</style>\n",
       "<table border=\"1\" class=\"dataframe\">\n",
       "  <thead>\n",
       "    <tr style=\"text-align: right;\">\n",
       "      <th></th>\n",
       "      <th>UNIT_QTY</th>\n",
       "    </tr>\n",
       "    <tr>\n",
       "      <th>PRICE_START_DATE</th>\n",
       "      <th></th>\n",
       "    </tr>\n",
       "  </thead>\n",
       "  <tbody>\n",
       "    <tr>\n",
       "      <th>2019-08-26</th>\n",
       "      <td>1.0</td>\n",
       "    </tr>\n",
       "    <tr>\n",
       "      <th>2019-09-20</th>\n",
       "      <td>2.0</td>\n",
       "    </tr>\n",
       "    <tr>\n",
       "      <th>2019-09-23</th>\n",
       "      <td>3.0</td>\n",
       "    </tr>\n",
       "    <tr>\n",
       "      <th>2019-09-24</th>\n",
       "      <td>1.0</td>\n",
       "    </tr>\n",
       "    <tr>\n",
       "      <th>2019-10-07</th>\n",
       "      <td>2.0</td>\n",
       "    </tr>\n",
       "    <tr>\n",
       "      <th>...</th>\n",
       "      <td>...</td>\n",
       "    </tr>\n",
       "    <tr>\n",
       "      <th>2021-06-22</th>\n",
       "      <td>1.0</td>\n",
       "    </tr>\n",
       "    <tr>\n",
       "      <th>2021-06-25</th>\n",
       "      <td>1.0</td>\n",
       "    </tr>\n",
       "    <tr>\n",
       "      <th>2021-06-28</th>\n",
       "      <td>1.0</td>\n",
       "    </tr>\n",
       "    <tr>\n",
       "      <th>2021-06-29</th>\n",
       "      <td>1.0</td>\n",
       "    </tr>\n",
       "    <tr>\n",
       "      <th>2021-06-30</th>\n",
       "      <td>2.0</td>\n",
       "    </tr>\n",
       "  </tbody>\n",
       "</table>\n",
       "<p>320 rows × 1 columns</p>\n",
       "</div>"
      ],
      "text/plain": [
       "                  UNIT_QTY\n",
       "PRICE_START_DATE          \n",
       "2019-08-26             1.0\n",
       "2019-09-20             2.0\n",
       "2019-09-23             3.0\n",
       "2019-09-24             1.0\n",
       "2019-10-07             2.0\n",
       "...                    ...\n",
       "2021-06-22             1.0\n",
       "2021-06-25             1.0\n",
       "2021-06-28             1.0\n",
       "2021-06-29             1.0\n",
       "2021-06-30             2.0\n",
       "\n",
       "[320 rows x 1 columns]"
      ]
     },
     "execution_count": 15,
     "metadata": {},
     "output_type": "execute_result"
    }
   ],
   "source": [
    "data"
   ]
  },
  {
   "cell_type": "code",
   "execution_count": 16,
   "id": "de5c7d19-8d0c-421e-974d-a1fa9e96823b",
   "metadata": {},
   "outputs": [],
   "source": [
    "scaler = MinMaxScaler(feature_range=(0,1))\n",
    "scaled_data = scaler.fit_transform(data)"
   ]
  },
  {
   "cell_type": "code",
   "execution_count": 17,
   "id": "3140c083-bf44-49e1-8347-4df84b0ddc25",
   "metadata": {},
   "outputs": [],
   "source": [
    "scaled_data=pd.DataFrame(scaled_data, index= data.index)"
   ]
  },
  {
   "cell_type": "code",
   "execution_count": 18,
   "id": "31c6b7ac-d825-4e7d-b373-bf4573898904",
   "metadata": {},
   "outputs": [],
   "source": [
    "train_data, test_data = scaled_data[0:int(len(scaled_data)*0.9)], scaled_data[int(len(scaled_data)*0.9):]"
   ]
  },
  {
   "cell_type": "code",
   "execution_count": 19,
   "id": "696c4669-e988-4300-afe0-8b64e1311e89",
   "metadata": {},
   "outputs": [
    {
     "data": {
      "text/plain": [
       "(288, 1)"
      ]
     },
     "execution_count": 19,
     "metadata": {},
     "output_type": "execute_result"
    }
   ],
   "source": [
    "train_data.shape"
   ]
  },
  {
   "cell_type": "code",
   "execution_count": 20,
   "id": "6cea6955-50fb-4000-8ca7-d583575d98e6",
   "metadata": {
    "tags": []
   },
   "outputs": [
    {
     "data": {
      "text/html": [
       "<div>\n",
       "<style scoped>\n",
       "    .dataframe tbody tr th:only-of-type {\n",
       "        vertical-align: middle;\n",
       "    }\n",
       "\n",
       "    .dataframe tbody tr th {\n",
       "        vertical-align: top;\n",
       "    }\n",
       "\n",
       "    .dataframe thead th {\n",
       "        text-align: right;\n",
       "    }\n",
       "</style>\n",
       "<table border=\"1\" class=\"dataframe\">\n",
       "  <thead>\n",
       "    <tr style=\"text-align: right;\">\n",
       "      <th></th>\n",
       "      <th>0</th>\n",
       "    </tr>\n",
       "    <tr>\n",
       "      <th>PRICE_START_DATE</th>\n",
       "      <th></th>\n",
       "    </tr>\n",
       "  </thead>\n",
       "  <tbody>\n",
       "    <tr>\n",
       "      <th>2021-04-26</th>\n",
       "      <td>0.666667</td>\n",
       "    </tr>\n",
       "    <tr>\n",
       "      <th>2021-04-27</th>\n",
       "      <td>0.500000</td>\n",
       "    </tr>\n",
       "    <tr>\n",
       "      <th>2021-04-27</th>\n",
       "      <td>0.500000</td>\n",
       "    </tr>\n",
       "    <tr>\n",
       "      <th>2021-04-27</th>\n",
       "      <td>0.500000</td>\n",
       "    </tr>\n",
       "    <tr>\n",
       "      <th>2021-04-29</th>\n",
       "      <td>0.666667</td>\n",
       "    </tr>\n",
       "    <tr>\n",
       "      <th>2021-04-30</th>\n",
       "      <td>0.833333</td>\n",
       "    </tr>\n",
       "    <tr>\n",
       "      <th>2021-05-04</th>\n",
       "      <td>0.666667</td>\n",
       "    </tr>\n",
       "    <tr>\n",
       "      <th>2021-05-04</th>\n",
       "      <td>0.500000</td>\n",
       "    </tr>\n",
       "    <tr>\n",
       "      <th>2021-05-05</th>\n",
       "      <td>0.666667</td>\n",
       "    </tr>\n",
       "    <tr>\n",
       "      <th>2021-05-06</th>\n",
       "      <td>0.500000</td>\n",
       "    </tr>\n",
       "    <tr>\n",
       "      <th>2021-05-06</th>\n",
       "      <td>0.666667</td>\n",
       "    </tr>\n",
       "    <tr>\n",
       "      <th>2021-05-07</th>\n",
       "      <td>0.166667</td>\n",
       "    </tr>\n",
       "    <tr>\n",
       "      <th>2021-05-10</th>\n",
       "      <td>0.500000</td>\n",
       "    </tr>\n",
       "    <tr>\n",
       "      <th>2021-05-12</th>\n",
       "      <td>0.500000</td>\n",
       "    </tr>\n",
       "    <tr>\n",
       "      <th>2021-05-12</th>\n",
       "      <td>0.666667</td>\n",
       "    </tr>\n",
       "    <tr>\n",
       "      <th>2021-05-13</th>\n",
       "      <td>0.500000</td>\n",
       "    </tr>\n",
       "    <tr>\n",
       "      <th>2021-05-21</th>\n",
       "      <td>0.500000</td>\n",
       "    </tr>\n",
       "    <tr>\n",
       "      <th>2021-05-21</th>\n",
       "      <td>0.666667</td>\n",
       "    </tr>\n",
       "    <tr>\n",
       "      <th>2021-05-21</th>\n",
       "      <td>0.666667</td>\n",
       "    </tr>\n",
       "    <tr>\n",
       "      <th>2021-06-05</th>\n",
       "      <td>0.666667</td>\n",
       "    </tr>\n",
       "    <tr>\n",
       "      <th>2021-06-09</th>\n",
       "      <td>0.500000</td>\n",
       "    </tr>\n",
       "    <tr>\n",
       "      <th>2021-06-14</th>\n",
       "      <td>0.500000</td>\n",
       "    </tr>\n",
       "    <tr>\n",
       "      <th>2021-06-14</th>\n",
       "      <td>0.500000</td>\n",
       "    </tr>\n",
       "    <tr>\n",
       "      <th>2021-06-16</th>\n",
       "      <td>0.666667</td>\n",
       "    </tr>\n",
       "    <tr>\n",
       "      <th>2021-06-21</th>\n",
       "      <td>0.500000</td>\n",
       "    </tr>\n",
       "    <tr>\n",
       "      <th>2021-06-22</th>\n",
       "      <td>0.666667</td>\n",
       "    </tr>\n",
       "    <tr>\n",
       "      <th>2021-06-22</th>\n",
       "      <td>0.500000</td>\n",
       "    </tr>\n",
       "    <tr>\n",
       "      <th>2021-06-22</th>\n",
       "      <td>0.500000</td>\n",
       "    </tr>\n",
       "    <tr>\n",
       "      <th>2021-06-25</th>\n",
       "      <td>0.500000</td>\n",
       "    </tr>\n",
       "    <tr>\n",
       "      <th>2021-06-28</th>\n",
       "      <td>0.500000</td>\n",
       "    </tr>\n",
       "    <tr>\n",
       "      <th>2021-06-29</th>\n",
       "      <td>0.500000</td>\n",
       "    </tr>\n",
       "    <tr>\n",
       "      <th>2021-06-30</th>\n",
       "      <td>0.666667</td>\n",
       "    </tr>\n",
       "  </tbody>\n",
       "</table>\n",
       "</div>"
      ],
      "text/plain": [
       "                         0\n",
       "PRICE_START_DATE          \n",
       "2021-04-26        0.666667\n",
       "2021-04-27        0.500000\n",
       "2021-04-27        0.500000\n",
       "2021-04-27        0.500000\n",
       "2021-04-29        0.666667\n",
       "2021-04-30        0.833333\n",
       "2021-05-04        0.666667\n",
       "2021-05-04        0.500000\n",
       "2021-05-05        0.666667\n",
       "2021-05-06        0.500000\n",
       "2021-05-06        0.666667\n",
       "2021-05-07        0.166667\n",
       "2021-05-10        0.500000\n",
       "2021-05-12        0.500000\n",
       "2021-05-12        0.666667\n",
       "2021-05-13        0.500000\n",
       "2021-05-21        0.500000\n",
       "2021-05-21        0.666667\n",
       "2021-05-21        0.666667\n",
       "2021-06-05        0.666667\n",
       "2021-06-09        0.500000\n",
       "2021-06-14        0.500000\n",
       "2021-06-14        0.500000\n",
       "2021-06-16        0.666667\n",
       "2021-06-21        0.500000\n",
       "2021-06-22        0.666667\n",
       "2021-06-22        0.500000\n",
       "2021-06-22        0.500000\n",
       "2021-06-25        0.500000\n",
       "2021-06-28        0.500000\n",
       "2021-06-29        0.500000\n",
       "2021-06-30        0.666667"
      ]
     },
     "execution_count": 20,
     "metadata": {},
     "output_type": "execute_result"
    }
   ],
   "source": [
    "test_data"
   ]
  },
  {
   "cell_type": "code",
   "execution_count": 21,
   "id": "cc24542e-0a79-46ae-91f5-50a75f850d0c",
   "metadata": {
    "tags": []
   },
   "outputs": [],
   "source": [
    "train_v=train_data.values"
   ]
  },
  {
   "cell_type": "code",
   "execution_count": 22,
   "id": "fb422d29-1e45-41eb-b756-d0a6eef8dced",
   "metadata": {},
   "outputs": [],
   "source": [
    "def adfuller_test(stocks):\n",
    "    result=adfuller(stocks)\n",
    "    labels = ['ADF Test Statistic','p-value','#Lags Used','Number of Observations']\n",
    "    for value,label in zip(result,labels):\n",
    "        print(label+' : '+str(value) )"
   ]
  },
  {
   "cell_type": "code",
   "execution_count": 23,
   "id": "bd962169-6fe0-4bb2-897d-ce3b07c92eb4",
   "metadata": {},
   "outputs": [
    {
     "name": "stdout",
     "output_type": "stream",
     "text": [
      "ADF Test Statistic : -16.426000703515783\n",
      "p-value : 2.504350676640207e-29\n",
      "#Lags Used : 0\n",
      "Number of Observations : 287\n"
     ]
    }
   ],
   "source": [
    "adfuller_test(train_v)"
   ]
  },
  {
   "cell_type": "code",
   "execution_count": 24,
   "id": "cee4a659-66ca-4ea9-bbd3-14617d3feae5",
   "metadata": {},
   "outputs": [
    {
     "name": "stdout",
     "output_type": "stream",
     "text": [
      "Performing stepwise search to minimize aic\n",
      " ARIMA(0,1,0)(0,0,0)[0] intercept   : AIC=-268.593, Time=0.03 sec\n",
      " ARIMA(1,1,0)(0,0,0)[0] intercept   : AIC=-346.049, Time=0.03 sec\n",
      " ARIMA(0,1,1)(0,0,0)[0] intercept   : AIC=inf, Time=0.11 sec\n",
      " ARIMA(0,1,0)(0,0,0)[0]             : AIC=-270.593, Time=0.01 sec\n",
      " ARIMA(2,1,0)(0,0,0)[0] intercept   : AIC=-367.503, Time=0.05 sec\n",
      " ARIMA(3,1,0)(0,0,0)[0] intercept   : AIC=-378.575, Time=0.06 sec\n",
      " ARIMA(4,1,0)(0,0,0)[0] intercept   : AIC=-401.176, Time=0.08 sec\n",
      " ARIMA(5,1,0)(0,0,0)[0] intercept   : AIC=-411.870, Time=0.11 sec\n",
      " ARIMA(6,1,0)(0,0,0)[0] intercept   : AIC=-410.573, Time=0.14 sec\n",
      " ARIMA(5,1,1)(0,0,0)[0] intercept   : AIC=-444.579, Time=0.34 sec\n",
      " ARIMA(4,1,1)(0,0,0)[0] intercept   : AIC=-444.266, Time=0.22 sec\n",
      " ARIMA(6,1,1)(0,0,0)[0] intercept   : AIC=-442.107, Time=0.37 sec\n",
      " ARIMA(5,1,2)(0,0,0)[0] intercept   : AIC=inf, Time=0.36 sec\n",
      " ARIMA(4,1,2)(0,0,0)[0] intercept   : AIC=-442.905, Time=0.24 sec\n",
      " ARIMA(6,1,2)(0,0,0)[0] intercept   : AIC=-443.487, Time=0.39 sec\n",
      " ARIMA(5,1,1)(0,0,0)[0]             : AIC=inf, Time=0.23 sec\n",
      "\n",
      "Best model:  ARIMA(5,1,1)(0,0,0)[0] intercept\n",
      "Total fit time: 2.785 seconds\n",
      "                               SARIMAX Results                                \n",
      "==============================================================================\n",
      "Dep. Variable:                      y   No. Observations:                  288\n",
      "Model:               SARIMAX(5, 1, 1)   Log Likelihood                 230.290\n",
      "Date:                Wed, 22 Sep 2021   AIC                           -444.579\n",
      "Time:                        17:12:15   BIC                           -415.303\n",
      "Sample:                             0   HQIC                          -432.846\n",
      "                                - 288                                         \n",
      "Covariance Type:                  opg                                         \n",
      "==============================================================================\n",
      "                 coef    std err          z      P>|z|      [0.025      0.975]\n",
      "------------------------------------------------------------------------------\n",
      "intercept  -1.325e-05      0.000     -0.059      0.953      -0.000       0.000\n",
      "ar.L1          0.0305      0.076      0.403      0.687      -0.118       0.179\n",
      "ar.L2          0.0312      0.070      0.444      0.657      -0.107       0.169\n",
      "ar.L3         -0.0705      0.077     -0.915      0.360      -0.222       0.081\n",
      "ar.L4         -0.0846      0.071     -1.199      0.230      -0.223       0.054\n",
      "ar.L5          0.0473      0.070      0.675      0.499      -0.090       0.184\n",
      "ma.L1         -0.9738      0.028    -34.924      0.000      -1.028      -0.919\n",
      "sigma2         0.0116      0.001     19.402      0.000       0.010       0.013\n",
      "===================================================================================\n",
      "Ljung-Box (L1) (Q):                   0.06   Jarque-Bera (JB):               351.75\n",
      "Prob(Q):                              0.80   Prob(JB):                         0.00\n",
      "Heteroskedasticity (H):               0.48   Skew:                             0.10\n",
      "Prob(H) (two-sided):                  0.00   Kurtosis:                         8.42\n",
      "===================================================================================\n",
      "\n",
      "Warnings:\n",
      "[1] Covariance matrix calculated using the outer product of gradients (complex-step).\n"
     ]
    },
    {
     "name": "stderr",
     "output_type": "stream",
     "text": [
      "/opt/anaconda3/envs/tf_env/lib/python3.8/site-packages/statsmodels/graphics/gofplots.py:993: UserWarning: marker is redundantly defined by the 'marker' keyword argument and the fmt string \"bo\" (-> marker='o'). The keyword argument will take precedence.\n",
      "  ax.plot(x, y, fmt, **plot_style)\n"
     ]
    },
    {
     "data": {
      "image/png": "[encoded data removed]",
      "text/plain": [
       "<Figure size 1080x576 with 4 Axes>"
      ]
     },
     "metadata": {
      "needs_background": "light"
     },
     "output_type": "display_data"
    }
   ],
   "source": [
    "model_autoARIMA = auto_arima(train_v, start_p=0, start_q=0,\n",
    "                      test='adf',       # use adftest to find optimal 'd'\n",
    "                      max_p=9, max_q=9, # maximum p and q\n",
    "                      m=1,              # frequency of series\n",
    "                      d=1,          # let model determine 'd'\n",
    "                      seasonal=False,   # No Seasonality\n",
    "                      start_P=0, \n",
    "                      D=0, \n",
    "                      trace=True,\n",
    "                      error_action='ignore',  \n",
    "                      suppress_warnings=True, \n",
    "                      stepwise=True)\n",
    "print(model_autoARIMA.summary())\n",
    "model_autoARIMA.plot_diagnostics(figsize=(15,8))\n",
    "plt.show()"
   ]
  },
  {
   "cell_type": "code",
   "execution_count": 25,
   "id": "d5db0368-75d5-4c9b-ba8d-b490a3a7debf",
   "metadata": {},
   "outputs": [
    {
     "name": "stderr",
     "output_type": "stream",
     "text": [
      "/opt/anaconda3/envs/tf_env/lib/python3.8/site-packages/statsmodels/tsa/arima_model.py:472: FutureWarning: \n",
      "statsmodels.tsa.arima_model.ARMA and statsmodels.tsa.arima_model.ARIMA have\n",
      "been deprecated in favor of statsmodels.tsa.arima.model.ARIMA (note the .\n",
      "between arima and model) and\n",
      "statsmodels.tsa.SARIMAX. These will be removed after the 0.12 release.\n",
      "\n",
      "statsmodels.tsa.arima.model.ARIMA makes use of the statespace framework and\n",
      "is both well tested and maintained.\n",
      "\n",
      "To silence this warning and continue using ARMA and ARIMA until they are\n",
      "removed, use:\n",
      "\n",
      "import warnings\n",
      "warnings.filterwarnings('ignore', 'statsmodels.tsa.arima_model.ARMA',\n",
      "                        FutureWarning)\n",
      "warnings.filterwarnings('ignore', 'statsmodels.tsa.arima_model.ARIMA',\n",
      "                        FutureWarning)\n",
      "\n",
      "  warnings.warn(ARIMA_DEPRECATION_WARN, FutureWarning)\n"
     ]
    },
    {
     "name": "stdout",
     "output_type": "stream",
     "text": [
      "                             ARIMA Model Results                              \n",
      "==============================================================================\n",
      "Dep. Variable:                    D.y   No. Observations:                  287\n",
      "Model:                 ARIMA(5, 1, 1)   Log Likelihood                 230.990\n",
      "Method:                       css-mle   S.D. of innovations              0.107\n",
      "Date:                Wed, 22 Sep 2021   AIC                           -445.981\n",
      "Time:                        17:12:16   BIC                           -416.705\n",
      "Sample:                             1   HQIC                          -434.248\n",
      "                                                                              \n",
      "==============================================================================\n",
      "                 coef    std err          z      P>|z|      [0.025      0.975]\n",
      "------------------------------------------------------------------------------\n",
      "const       3.474e-05   7.49e-05      0.464      0.643      -0.000       0.000\n",
      "ar.L1.D.y      0.0312      0.059      0.530      0.596      -0.084       0.147\n",
      "ar.L2.D.y      0.0220      0.059      0.373      0.709      -0.094       0.137\n",
      "ar.L3.D.y     -0.0616      0.059     -1.037      0.300      -0.178       0.055\n",
      "ar.L4.D.y     -0.0749      0.060     -1.259      0.208      -0.192       0.042\n",
      "ar.L5.D.y      0.0690      0.060      1.153      0.249      -0.048       0.186\n",
      "ma.L1.D.y     -1.0000      0.015    -67.366      0.000      -1.029      -0.971\n",
      "                                    Roots                                    \n",
      "=============================================================================\n",
      "                  Real          Imaginary           Modulus         Frequency\n",
      "-----------------------------------------------------------------------------\n",
      "AR.1           -1.2846           -0.9426j            1.5933           -0.3992\n",
      "AR.2           -1.2846           +0.9426j            1.5933            0.3992\n",
      "AR.3            0.7704           -1.4518j            1.6435           -0.1724\n",
      "AR.4            0.7704           +1.4518j            1.6435            0.1724\n",
      "AR.5            2.1148           -0.0000j            2.1148           -0.0000\n",
      "MA.1            1.0000           +0.0000j            1.0000            0.0000\n",
      "-----------------------------------------------------------------------------\n"
     ]
    }
   ],
   "source": [
    "model = ARIMA(train_v, order=(5,1,1))  \n",
    "fitted = model.fit(disp=-1)  \n",
    "print(fitted.summary())"
   ]
  },
  {
   "cell_type": "code",
   "execution_count": 26,
   "id": "b571e5aa-f475-4f9d-9aee-4c7796ab4688",
   "metadata": {},
   "outputs": [
    {
     "name": "stdout",
     "output_type": "stream",
     "text": [
      "                0\n",
      "count  287.000000\n",
      "mean    -0.001248\n",
      "std      0.108750\n",
      "min     -0.560503\n",
      "25%     -0.068728\n",
      "50%     -0.051092\n",
      "75%      0.094636\n",
      "max      0.434894\n"
     ]
    }
   ],
   "source": [
    "residuals = pd.DataFrame(fitted.resid)\n",
    "print(residuals.describe())"
   ]
  },
  {
   "cell_type": "code",
   "execution_count": 27,
   "id": "d6390fa5-550b-4924-986e-6bb8141c03bf",
   "metadata": {},
   "outputs": [],
   "source": [
    "fc, se, conf = fitted.forecast(32, alpha=0.05) "
   ]
  },
  {
   "cell_type": "code",
   "execution_count": 28,
   "id": "b9dfcd4e-2459-4ff8-94cc-3f9f46750684",
   "metadata": {},
   "outputs": [
    {
     "data": {
      "text/plain": [
       "0.10784088126166769"
      ]
     },
     "execution_count": 28,
     "metadata": {},
     "output_type": "execute_result"
    }
   ],
   "source": [
    "se.mean()"
   ]
  },
  {
   "cell_type": "code",
   "execution_count": 29,
   "id": "c9ee7a50-a0d7-44c9-a3f6-77287e647896",
   "metadata": {},
   "outputs": [],
   "source": [
    "test_v= test_data.values"
   ]
  },
  {
   "cell_type": "code",
   "execution_count": 31,
   "id": "fd3d2b6b-63dc-45f2-8dd0-ed529729de35",
   "metadata": {
    "tags": []
   },
   "outputs": [],
   "source": [
    "test_vf=scaler.inverse_transform(test_v)\n",
    "train_vf=scaler.inverse_transform(train_v)"
   ]
  },
  {
   "cell_type": "code",
   "execution_count": 35,
   "id": "6eb9ae54-5816-456d-9c59-82f62e4b7375",
   "metadata": {
    "tags": []
   },
   "outputs": [],
   "source": [
    "fc=fc.reshape(32,1)"
   ]
  },
  {
   "cell_type": "code",
   "execution_count": 36,
   "id": "1fd49d95-f308-4744-bfa9-2f6743fe17ab",
   "metadata": {
    "tags": []
   },
   "outputs": [],
   "source": [
    "fc_f=scaler.inverse_transform(fc)"
   ]
  },
  {
   "cell_type": "code",
   "execution_count": 40,
   "id": "f4c80541-a636-419a-b6ab-a7b5e8bb9c59",
   "metadata": {},
   "outputs": [
    {
     "name": "stdout",
     "output_type": "stream",
     "text": [
      "MSE: 0.49805284688397217\n",
      "MAE: 0.5887886943526262\n",
      "RMSE: 0.7057285929335527\n",
      "MAPE: 1.3298019761007438\n"
     ]
    }
   ],
   "source": [
    "# report performance\n",
    "mse = mean_squared_error(test_vf, fc_f)\n",
    "print('MSE: '+str(mse))\n",
    "mae = mean_absolute_error(test_vf,fc_f)\n",
    "print('MAE: '+str(mae))\n",
    "rmse = sqrt(mean_squared_error(test_vf, fc_f))\n",
    "print('RMSE: '+str(rmse))\n",
    "mape = np.mean(np.abs(fc_f - test_vf)/np.abs(test_v))\n",
    "print('MAPE: '+str(mape))"
   ]
  },
  {
   "cell_type": "code",
   "execution_count": 37,
   "id": "21214221-dd4e-4dfd-94b2-a51cfc019477",
   "metadata": {
    "tags": []
   },
   "outputs": [],
   "source": [
    "train = pd.Series(train_vf.ravel(), index=train_data.index)\n",
    "test = pd.Series(test_vf.ravel(), index=test_data.index)"
   ]
  },
  {
   "cell_type": "code",
   "execution_count": 38,
   "id": "ca34b61e-2704-47b1-9f24-ce09021a2fe4",
   "metadata": {},
   "outputs": [],
   "source": [
    "fc_series = pd.Series(fc_f.ravel(), index=test_data.index)"
   ]
  },
  {
   "cell_type": "code",
   "execution_count": 39,
   "id": "b2d4912b-d013-479c-aa46-10fd54415822",
   "metadata": {},
   "outputs": [
    {
     "data": {
      "text/plain": [
       "<matplotlib.legend.Legend at 0x7fb678e1e8e0>"
      ]
     },
     "execution_count": 39,
     "metadata": {},
     "output_type": "execute_result"
    },
    {
     "data": {
      "image/png": "[encoded data removed]",
      "text/plain": [
       "<Figure size 1000x500 with 1 Axes>"
      ]
     },
     "metadata": {
      "needs_background": "light"
     },
     "output_type": "display_data"
    }
   ],
   "source": [
    "# Make as pandas series\n",
    "\n",
    "lower_series = pd.Series(conf[:, 0], index=test_data.index)\n",
    "upper_series = pd.Series(conf[:, 1], index=test_data.index)\n",
    "\n",
    "# Plot\n",
    "\n",
    "plt.figure(figsize=(10,5), dpi=100)\n",
    "plt.plot(train, label='training data')\n",
    "plt.plot(test, color = 'blue', label='Actual QTY')\n",
    "plt.plot(fc_series, color = 'orange',label='Predicted QTY')\n",
    "plt.fill_between(lower_series.index, lower_series, upper_series, \n",
    "                    color='k', alpha=.10)\n",
    "plt.xlabel('Time')\n",
    "plt.ylabel('Quantity')\n",
    "plt.legend(loc='upper left', fontsize=8)\n"
   ]
  },
  {
   "cell_type": "code",
   "execution_count": null,
   "id": "317b03db-246f-4314-a94b-f8a7a63cae8a",
   "metadata": {},
   "outputs": [],
   "source": []
  }
 ],
 "metadata": {
  "kernelspec": {
   "display_name": "tf_env",
   "language": "python",
   "name": "tf_env"
  },
  "language_info": {
   "codemirror_mode": {
    "name": "ipython",
    "version": 3
   },
   "file_extension": ".py",
   "mimetype": "text/x-python",
   "name": "python",
   "nbconvert_exporter": "python",
   "pygments_lexer": "ipython3",
   "version": "3.8.11"
  }
 },
 "nbformat": 4,
 "nbformat_minor": 5
}
