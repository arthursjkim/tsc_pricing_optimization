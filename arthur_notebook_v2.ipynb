{
 "cells": [
  {
   "cell_type": "markdown",
   "id": "5705d15e-ca3e-45ee-8a3b-a3d9ae32446f",
   "metadata": {
    "tags": []
   },
   "source": [
    "## Import"
   ]
  },
  {
   "cell_type": "code",
   "execution_count": 122,
   "id": "03601ff8-7727-4b17-b453-1f8ce769bcbf",
   "metadata": {},
   "outputs": [],
   "source": [
    "import pandas as pd\n",
    "import numpy as np\n",
    "import matplotlib.pyplot as plt\n",
    "\n",
    "#vectorizers\n",
    "from sklearn.feature_extraction.text import CountVectorizer, TfidfVectorizer\n",
    "\n",
    "#modeling\n",
    "from sklearn.linear_model import LinearRegression\n",
    "from sklearn.model_selection import train_test_split, GridSearchCV\n",
    "from sklearn.preprocessing import StandardScaler, OneHotEncoder\n",
    "from sklearn.compose import ColumnTransformer\n",
    "from sklearn.metrics import accuracy_score, recall_score, plot_confusion_matrix\n",
    "from sklearn.decomposition import PCA\n",
    "from sklearn.dummy import DummyClassifier\n",
    "from sklearn.linear_model import LogisticRegression\n",
    "from sklearn.naive_bayes import GaussianNB\n",
    "from sklearn.ensemble import RandomForestClassifier, GradientBoostingClassifier, VotingClassifier, RandomForestRegressor\n",
    "from sklearn.neighbors import KNeighborsClassifier\n",
    "from sklearn.tree import DecisionTreeClassifier\n",
    "#import xgboost as xg\n",
    "from sklearn.pipeline import Pipeline \n",
    "from imblearn.over_sampling import SMOTE\n",
    "from imblearn.pipeline import Pipeline as imbpipeline\n",
    "from sklearn.utils import class_weight"
   ]
  },
  {
   "cell_type": "code",
   "execution_count": 100,
   "id": "0edf49b1-b446-432d-8f8a-5ed107930bb2",
   "metadata": {},
   "outputs": [],
   "source": [
    "import pandas as pd\n",
    "import numpy as np\n",
    "import matplotlib.pyplot as plt\n",
    "import seaborn as sns\n",
    "from sklearn.model_selection import train_test_split, ShuffleSplit, cross_validate\n",
    "from sklearn.preprocessing import PolynomialFeatures, StandardScaler, OneHotEncoder\n",
    "from sklearn.dummy import DummyRegressor\n",
    "from sklearn.metrics import mean_squared_error\n",
    "from sklearn.linear_model import LinearRegression\n",
    "from statsmodels.formula.api import ols\n",
    "import statsmodels.stats.api as sms\n",
    "import statsmodels.api as sm\n",
    "import scipy.stats as stats\n",
    "from sklearn.feature_selection import RFE\n",
    "from statsmodels.stats.outliers_influence import OLSInfluence as influence"
   ]
  },
  {
   "cell_type": "code",
   "execution_count": 101,
   "id": "0dee0823-9e2e-4b20-9b75-cda648897cc8",
   "metadata": {},
   "outputs": [],
   "source": [
    "def scores(model, X, y, set_type, return_conf=False):\n",
    "    '''\n",
    "    This function takes in an already fitted model, X, y, and\n",
    "    the type of data (train, validation, or test) in str format,\n",
    "    and prints out the accuracy and recall scores. The function\n",
    "    also prints out the confusion matrix\n",
    "    '''\n",
    "    pred = model.predict(X)\n",
    "    acc_score = accuracy_score(y, pred)\n",
    "    rec_score = recall_score(y, pred)\n",
    "    \n",
    "    print(\"{} Scores\".format(set_type))\n",
    "    print(\"accuracy: \", acc_score)\n",
    "    print(\"recall:   \", rec_score)\n",
    "    fig, ax = plt.subplots(figsize=(6,6))\n",
    "    #set background color to white\n",
    "    fig.patch.set_facecolor('white')\n",
    "    ax.set_title(set_type)\n",
    "    plot_confusion_matrix(model, X, y, ax=ax)\n",
    "    if return_conf == True:\n",
    "        return fig, round(acc_score*100,1), round(rec_score*100,1)\n",
    "    if return_conf == False:\n",
    "        return round(acc_score*100,1), round(rec_score*100,1)"
   ]
  },
  {
   "cell_type": "code",
   "execution_count": 102,
   "id": "77722f18-bee5-4259-ae7f-79e397b7b593",
   "metadata": {},
   "outputs": [],
   "source": [
    "def cross_val(estimator,X,y,n_splits=10,test_size=0.25, random_state=None):\n",
    "    \"\"\"\n",
    "    This formula performs cross validation using shuffled splits. Output is a tuple,\n",
    "    The 0th element is the median R2 score for the train sets, the 1st element\n",
    "    is the median R2 score for the test sets.\n",
    "    \n",
    "    \"\"\"\n",
    "    splitter = ShuffleSplit(n_splits=n_splits, test_size=test_size, random_state=random_state)\n",
    "\n",
    "    output = cross_validate(estimator, X=X, y=y, cv=splitter, return_train_score=True)\n",
    "    return np.median(output['train_score']), np.median(output['test_score'])"
   ]
  },
  {
   "cell_type": "code",
   "execution_count": 103,
   "id": "57b97acd-6414-4fd6-823e-60f8731549f4",
   "metadata": {},
   "outputs": [],
   "source": [
    "#returns a summary of the median train R-squared, median test R-squared, and differential score based\n",
    "#on the cross validation\n",
    "def cval_summary(train,test,diff):\n",
    "    return f\"The median R-squared values for the train sets were {round(train,3)}, the median R-squared values for the test sets were {round(test,3)}. These values resulted in a differential of {round(diff,5)}\""
   ]
  },
  {
   "cell_type": "code",
   "execution_count": 104,
   "id": "0863c720-d814-4e90-be0d-50b2262be25e",
   "metadata": {},
   "outputs": [],
   "source": [
    "def score_model(model, Xtrain, Xtest, ytrain, ytest, log=False):\n",
    "    '''\n",
    "    This function takes in a model and the train and test samples and returns\n",
    "    the train R-squared, test R-squared, and the RMSE\n",
    "    '''\n",
    "    if log == False:\n",
    "        rmse = mean_squared_error(ytest, model.predict(Xtest), squared=False)\n",
    "    else:\n",
    "        rmse = mean_squared_error(np.exp(ytest), np.exp(model.predict(Xtest)), squared=False)\n",
    "    return model.score(Xtrain, ytrain),  model.score(Xtest, ytest), rmse"
   ]
  },
  {
   "cell_type": "code",
   "execution_count": 105,
   "id": "7f50a77b-857d-41cd-9a4d-838346081198",
   "metadata": {},
   "outputs": [],
   "source": [
    "#returns a summary of the train R-squared, test R-squared, differential between R-squared, and RMSE\n",
    "def model_summary(train,test,diff,rmse):\n",
    "    return f\"The R-squared value for the train set was {round(train,3)}, and the R-squared value for the test set was {round(test,3)}. These values resulted in a differential of {round(diff,5)}. The RMSE of our model predicitons was {round(rmse,2)}\""
   ]
  },
  {
   "cell_type": "code",
   "execution_count": 106,
   "id": "ae29fb63-cbcf-4b53-802d-24d09dd61e53",
   "metadata": {},
   "outputs": [],
   "source": [
    "def actual_vs_predicted(model,X_test,y_test):\n",
    "    \"\"\"\n",
    "    Plots the actual y vs the predicted y\n",
    "    \"\"\"\n",
    "    y_predicted = model.predict(X_test)\n",
    "    fig, ax = plt.subplots(figsize=(10,10))\n",
    "    ax.scatter(x=y_test, y=y_predicted)\n",
    "    ax.set_xlabel(\"Actual Price Values\")\n",
    "    ax.set_ylabel(\"Predicted Price Values\")\n",
    "    ax.set_title(\"Actual vs Predicted\")\n",
    "    \n",
    "    p1 = max(max(y_test), max(y_predicted))\n",
    "    p2 = min(min(y_test), min(y_predicted))\n",
    "    plt.plot([p1, p2], [p1, p2], 'b-')"
   ]
  },
  {
   "cell_type": "markdown",
   "id": "6b534e23-3c77-46d1-8b45-8e9d4de29898",
   "metadata": {
    "jp-MarkdownHeadingCollapsed": true,
    "tags": []
   },
   "source": [
    "## Reviewing Data Files"
   ]
  },
  {
   "cell_type": "markdown",
   "id": "852a99c2-7c0e-4e7a-adf8-989c119b0c92",
   "metadata": {
    "tags": []
   },
   "source": [
    "### TSC Price Change"
   ]
  },
  {
   "cell_type": "code",
   "execution_count": 2,
   "id": "d6d6c8e2-4909-4851-a0a4-5e736002ffd9",
   "metadata": {},
   "outputs": [],
   "source": [
    "df_tsc_price_change = pd.read_csv('data/TSC_Price_Changes.csv')"
   ]
  },
  {
   "cell_type": "code",
   "execution_count": 3,
   "id": "3b722ebf-3ac2-4c90-96ee-07a382dceeaa",
   "metadata": {},
   "outputs": [
    {
     "name": "stdout",
     "output_type": "stream",
     "text": [
      "<class 'pandas.core.frame.DataFrame'>\n",
      "RangeIndex: 3886 entries, 0 to 3885\n",
      "Data columns (total 4 columns):\n",
      " #   Column            Non-Null Count  Dtype  \n",
      "---  ------            --------------  -----  \n",
      " 0   SCRUB_ITEM        3886 non-null   int64  \n",
      " 1   PRICE_START_DATE  3886 non-null   object \n",
      " 2   PRICE_END_DATE    3886 non-null   object \n",
      " 3   TSC_PRICE         3886 non-null   float64\n",
      "dtypes: float64(1), int64(1), object(2)\n",
      "memory usage: 121.6+ KB\n"
     ]
    }
   ],
   "source": [
    "df_tsc_price_change.info()"
   ]
  },
  {
   "cell_type": "code",
   "execution_count": 4,
   "id": "a28f8b5b-c6a1-4ee8-87f7-e47990b31973",
   "metadata": {},
   "outputs": [
    {
     "data": {
      "text/html": [
       "<div>\n",
       "<style scoped>\n",
       "    .dataframe tbody tr th:only-of-type {\n",
       "        vertical-align: middle;\n",
       "    }\n",
       "\n",
       "    .dataframe tbody tr th {\n",
       "        vertical-align: top;\n",
       "    }\n",
       "\n",
       "    .dataframe thead th {\n",
       "        text-align: right;\n",
       "    }\n",
       "</style>\n",
       "<table border=\"1\" class=\"dataframe\">\n",
       "  <thead>\n",
       "    <tr style=\"text-align: right;\">\n",
       "      <th></th>\n",
       "      <th>SCRUB_ITEM</th>\n",
       "      <th>PRICE_START_DATE</th>\n",
       "      <th>PRICE_END_DATE</th>\n",
       "      <th>TSC_PRICE</th>\n",
       "    </tr>\n",
       "  </thead>\n",
       "  <tbody>\n",
       "    <tr>\n",
       "      <th>0</th>\n",
       "      <td>1</td>\n",
       "      <td>2019-08-26</td>\n",
       "      <td>2019-10-03</td>\n",
       "      <td>199.99</td>\n",
       "    </tr>\n",
       "    <tr>\n",
       "      <th>1</th>\n",
       "      <td>1</td>\n",
       "      <td>2019-10-04</td>\n",
       "      <td>2019-10-08</td>\n",
       "      <td>179.99</td>\n",
       "    </tr>\n",
       "    <tr>\n",
       "      <th>2</th>\n",
       "      <td>1</td>\n",
       "      <td>2019-10-09</td>\n",
       "      <td>2019-10-27</td>\n",
       "      <td>199.99</td>\n",
       "    </tr>\n",
       "    <tr>\n",
       "      <th>3</th>\n",
       "      <td>1</td>\n",
       "      <td>2019-10-28</td>\n",
       "      <td>2019-10-29</td>\n",
       "      <td>179.99</td>\n",
       "    </tr>\n",
       "    <tr>\n",
       "      <th>4</th>\n",
       "      <td>1</td>\n",
       "      <td>2019-10-30</td>\n",
       "      <td>2019-11-05</td>\n",
       "      <td>199.99</td>\n",
       "    </tr>\n",
       "  </tbody>\n",
       "</table>\n",
       "</div>"
      ],
      "text/plain": [
       "   SCRUB_ITEM PRICE_START_DATE PRICE_END_DATE  TSC_PRICE\n",
       "0           1       2019-08-26     2019-10-03     199.99\n",
       "1           1       2019-10-04     2019-10-08     179.99\n",
       "2           1       2019-10-09     2019-10-27     199.99\n",
       "3           1       2019-10-28     2019-10-29     179.99\n",
       "4           1       2019-10-30     2019-11-05     199.99"
      ]
     },
     "execution_count": 4,
     "metadata": {},
     "output_type": "execute_result"
    }
   ],
   "source": [
    "df_tsc_price_change.head()"
   ]
  },
  {
   "cell_type": "markdown",
   "id": "a2910577-2717-4854-b10d-e95dbd2b745a",
   "metadata": {
    "jp-MarkdownHeadingCollapsed": true,
    "tags": []
   },
   "source": [
    "### Competitor Price"
   ]
  },
  {
   "cell_type": "code",
   "execution_count": 5,
   "id": "133656a3-85ef-4c74-aab6-8c20baf3e311",
   "metadata": {},
   "outputs": [],
   "source": [
    "df_comp_price_change = pd.read_csv('data/Competitors_Price_Changes.csv')"
   ]
  },
  {
   "cell_type": "code",
   "execution_count": 6,
   "id": "0f465e8c-c3b3-4364-b3ae-578aa3bdd06a",
   "metadata": {},
   "outputs": [
    {
     "name": "stdout",
     "output_type": "stream",
     "text": [
      "<class 'pandas.core.frame.DataFrame'>\n",
      "RangeIndex: 90953 entries, 0 to 90952\n",
      "Data columns (total 8 columns):\n",
      " #   Column                       Non-Null Count  Dtype  \n",
      "---  ------                       --------------  -----  \n",
      " 0   SCAN_DATE_TIME               90953 non-null  object \n",
      " 1   SCRUB_ITEM                   90953 non-null  int64  \n",
      " 2   SCRUB_COMPETITOR             90953 non-null  int64  \n",
      " 3   TSC_PRICE                    90953 non-null  float64\n",
      " 4   COMPETITOR_PRICE             90953 non-null  float64\n",
      " 5   CPI_COMPETITIVE_PRICE_INDEX  90953 non-null  float64\n",
      " 6   COMPETITOR_SHIPPING          51396 non-null  float64\n",
      " 7   COMPETITOR_REG_PRICE         90953 non-null  float64\n",
      "dtypes: float64(5), int64(2), object(1)\n",
      "memory usage: 5.6+ MB\n"
     ]
    }
   ],
   "source": [
    "df_comp_price_change.info()"
   ]
  },
  {
   "cell_type": "code",
   "execution_count": 7,
   "id": "12c1a279-f60d-4ca1-86fa-ca226ccb40f6",
   "metadata": {},
   "outputs": [
    {
     "data": {
      "text/plain": [
       "0        0.0\n",
       "1        0.0\n",
       "2        0.0\n",
       "3        0.0\n",
       "4        0.0\n",
       "        ... \n",
       "90948    0.0\n",
       "90949    0.0\n",
       "90950    0.0\n",
       "90951    0.0\n",
       "90952    0.0\n",
       "Name: COMPETITOR_SHIPPING, Length: 90953, dtype: float64"
      ]
     },
     "execution_count": 7,
     "metadata": {},
     "output_type": "execute_result"
    }
   ],
   "source": [
    "df_comp_price_change['COMPETITOR_SHIPPING'].fillna(0)"
   ]
  },
  {
   "cell_type": "code",
   "execution_count": 8,
   "id": "6040081f-c3ac-4297-b74e-a2e58fb8d043",
   "metadata": {
    "tags": []
   },
   "outputs": [
    {
     "data": {
      "text/html": [
       "<div>\n",
       "<style scoped>\n",
       "    .dataframe tbody tr th:only-of-type {\n",
       "        vertical-align: middle;\n",
       "    }\n",
       "\n",
       "    .dataframe tbody tr th {\n",
       "        vertical-align: top;\n",
       "    }\n",
       "\n",
       "    .dataframe thead th {\n",
       "        text-align: right;\n",
       "    }\n",
       "</style>\n",
       "<table border=\"1\" class=\"dataframe\">\n",
       "  <thead>\n",
       "    <tr style=\"text-align: right;\">\n",
       "      <th></th>\n",
       "      <th>SCAN_DATE_TIME</th>\n",
       "      <th>SCRUB_ITEM</th>\n",
       "      <th>SCRUB_COMPETITOR</th>\n",
       "      <th>TSC_PRICE</th>\n",
       "      <th>COMPETITOR_PRICE</th>\n",
       "      <th>CPI_COMPETITIVE_PRICE_INDEX</th>\n",
       "      <th>COMPETITOR_SHIPPING</th>\n",
       "      <th>COMPETITOR_REG_PRICE</th>\n",
       "    </tr>\n",
       "  </thead>\n",
       "  <tbody>\n",
       "    <tr>\n",
       "      <th>0</th>\n",
       "      <td>2020-08-06 04:20:00.000</td>\n",
       "      <td>1</td>\n",
       "      <td>1</td>\n",
       "      <td>199.99</td>\n",
       "      <td>205.58</td>\n",
       "      <td>102.7951</td>\n",
       "      <td>0.0</td>\n",
       "      <td>205.58</td>\n",
       "    </tr>\n",
       "    <tr>\n",
       "      <th>1</th>\n",
       "      <td>2020-08-06 04:21:00.000</td>\n",
       "      <td>1</td>\n",
       "      <td>2</td>\n",
       "      <td>199.99</td>\n",
       "      <td>205.58</td>\n",
       "      <td>102.7951</td>\n",
       "      <td>0.0</td>\n",
       "      <td>205.58</td>\n",
       "    </tr>\n",
       "    <tr>\n",
       "      <th>2</th>\n",
       "      <td>2020-08-07 04:24:00.000</td>\n",
       "      <td>1</td>\n",
       "      <td>1</td>\n",
       "      <td>199.99</td>\n",
       "      <td>205.58</td>\n",
       "      <td>102.7951</td>\n",
       "      <td>0.0</td>\n",
       "      <td>205.58</td>\n",
       "    </tr>\n",
       "    <tr>\n",
       "      <th>3</th>\n",
       "      <td>2020-08-07 04:24:00.000</td>\n",
       "      <td>1</td>\n",
       "      <td>2</td>\n",
       "      <td>199.99</td>\n",
       "      <td>205.58</td>\n",
       "      <td>102.7951</td>\n",
       "      <td>0.0</td>\n",
       "      <td>205.58</td>\n",
       "    </tr>\n",
       "    <tr>\n",
       "      <th>4</th>\n",
       "      <td>2020-08-08 04:22:00.000</td>\n",
       "      <td>1</td>\n",
       "      <td>1</td>\n",
       "      <td>199.99</td>\n",
       "      <td>205.58</td>\n",
       "      <td>102.7951</td>\n",
       "      <td>0.0</td>\n",
       "      <td>205.58</td>\n",
       "    </tr>\n",
       "  </tbody>\n",
       "</table>\n",
       "</div>"
      ],
      "text/plain": [
       "            SCAN_DATE_TIME  SCRUB_ITEM  SCRUB_COMPETITOR  TSC_PRICE  \\\n",
       "0  2020-08-06 04:20:00.000           1                 1     199.99   \n",
       "1  2020-08-06 04:21:00.000           1                 2     199.99   \n",
       "2  2020-08-07 04:24:00.000           1                 1     199.99   \n",
       "3  2020-08-07 04:24:00.000           1                 2     199.99   \n",
       "4  2020-08-08 04:22:00.000           1                 1     199.99   \n",
       "\n",
       "   COMPETITOR_PRICE  CPI_COMPETITIVE_PRICE_INDEX  COMPETITOR_SHIPPING  \\\n",
       "0            205.58                     102.7951                  0.0   \n",
       "1            205.58                     102.7951                  0.0   \n",
       "2            205.58                     102.7951                  0.0   \n",
       "3            205.58                     102.7951                  0.0   \n",
       "4            205.58                     102.7951                  0.0   \n",
       "\n",
       "   COMPETITOR_REG_PRICE  \n",
       "0                205.58  \n",
       "1                205.58  \n",
       "2                205.58  \n",
       "3                205.58  \n",
       "4                205.58  "
      ]
     },
     "execution_count": 8,
     "metadata": {},
     "output_type": "execute_result"
    }
   ],
   "source": [
    "df_comp_price_change.head()"
   ]
  },
  {
   "cell_type": "code",
   "execution_count": 9,
   "id": "0b380918-ad9b-4e3a-869b-4eb518457aa2",
   "metadata": {},
   "outputs": [],
   "source": [
    "df_comp_price_change['TOTAL_PRICE'] = df_comp_price_change['COMPETITOR_PRICE'] + df_comp_price_change['COMPETITOR_SHIPPING']\n",
    "df_comp_price_change['TOTAL_REG_PRICE'] = df_comp_price_change['COMPETITOR_REG_PRICE'] + df_comp_price_change['COMPETITOR_SHIPPING']"
   ]
  },
  {
   "cell_type": "markdown",
   "id": "59533fcd-dad5-4503-8afc-87b3c7a0e974",
   "metadata": {
    "tags": []
   },
   "source": [
    "### TSC Sales"
   ]
  },
  {
   "cell_type": "code",
   "execution_count": 10,
   "id": "b5303cef-40d5-4b01-8c9d-033c096fc620",
   "metadata": {},
   "outputs": [],
   "source": [
    "df_tsc_sales = pd.read_csv('data/TSC_Sales_Data.csv')"
   ]
  },
  {
   "cell_type": "code",
   "execution_count": 11,
   "id": "ac450361-4e8e-4c6d-a121-d1c02c2ea51c",
   "metadata": {},
   "outputs": [
    {
     "name": "stdout",
     "output_type": "stream",
     "text": [
      "<class 'pandas.core.frame.DataFrame'>\n",
      "RangeIndex: 70829 entries, 0 to 70828\n",
      "Data columns (total 7 columns):\n",
      " #   Column          Non-Null Count  Dtype  \n",
      "---  ------          --------------  -----  \n",
      " 0   SCRUB_ITEM      70829 non-null  int64  \n",
      " 1   TIME_DIM_KEY    70829 non-null  int64  \n",
      " 2   SCRUB_TRANS_NO  70829 non-null  int64  \n",
      " 3   TRANS_SEQ_NO    70829 non-null  int64  \n",
      " 4   UNIT_QTY        70829 non-null  float64\n",
      " 5   UNIT_PRICE      70829 non-null  float64\n",
      " 6   UNIT_COST       70829 non-null  float64\n",
      "dtypes: float64(3), int64(4)\n",
      "memory usage: 3.8 MB\n"
     ]
    }
   ],
   "source": [
    "df_tsc_sales.info()"
   ]
  },
  {
   "cell_type": "code",
   "execution_count": 12,
   "id": "b642f75b-4307-4175-9c3b-721f47846046",
   "metadata": {
    "tags": []
   },
   "outputs": [
    {
     "data": {
      "text/html": [
       "<div>\n",
       "<style scoped>\n",
       "    .dataframe tbody tr th:only-of-type {\n",
       "        vertical-align: middle;\n",
       "    }\n",
       "\n",
       "    .dataframe tbody tr th {\n",
       "        vertical-align: top;\n",
       "    }\n",
       "\n",
       "    .dataframe thead th {\n",
       "        text-align: right;\n",
       "    }\n",
       "</style>\n",
       "<table border=\"1\" class=\"dataframe\">\n",
       "  <thead>\n",
       "    <tr style=\"text-align: right;\">\n",
       "      <th></th>\n",
       "      <th>SCRUB_ITEM</th>\n",
       "      <th>TIME_DIM_KEY</th>\n",
       "      <th>SCRUB_TRANS_NO</th>\n",
       "      <th>TRANS_SEQ_NO</th>\n",
       "      <th>UNIT_QTY</th>\n",
       "      <th>UNIT_PRICE</th>\n",
       "      <th>UNIT_COST</th>\n",
       "    </tr>\n",
       "  </thead>\n",
       "  <tbody>\n",
       "    <tr>\n",
       "      <th>0</th>\n",
       "      <td>1</td>\n",
       "      <td>20180402</td>\n",
       "      <td>1296</td>\n",
       "      <td>2</td>\n",
       "      <td>2.0</td>\n",
       "      <td>322.99</td>\n",
       "      <td>132.97</td>\n",
       "    </tr>\n",
       "    <tr>\n",
       "      <th>1</th>\n",
       "      <td>1</td>\n",
       "      <td>20181206</td>\n",
       "      <td>6878</td>\n",
       "      <td>1</td>\n",
       "      <td>1.0</td>\n",
       "      <td>322.99</td>\n",
       "      <td>132.97</td>\n",
       "    </tr>\n",
       "    <tr>\n",
       "      <th>2</th>\n",
       "      <td>1</td>\n",
       "      <td>20181210</td>\n",
       "      <td>7010</td>\n",
       "      <td>2</td>\n",
       "      <td>2.0</td>\n",
       "      <td>322.99</td>\n",
       "      <td>132.97</td>\n",
       "    </tr>\n",
       "    <tr>\n",
       "      <th>3</th>\n",
       "      <td>1</td>\n",
       "      <td>20190214</td>\n",
       "      <td>8380</td>\n",
       "      <td>2</td>\n",
       "      <td>1.0</td>\n",
       "      <td>322.99</td>\n",
       "      <td>132.97</td>\n",
       "    </tr>\n",
       "    <tr>\n",
       "      <th>4</th>\n",
       "      <td>1</td>\n",
       "      <td>20190502</td>\n",
       "      <td>10639</td>\n",
       "      <td>1</td>\n",
       "      <td>2.0</td>\n",
       "      <td>219.99</td>\n",
       "      <td>132.97</td>\n",
       "    </tr>\n",
       "  </tbody>\n",
       "</table>\n",
       "</div>"
      ],
      "text/plain": [
       "   SCRUB_ITEM  TIME_DIM_KEY  SCRUB_TRANS_NO  TRANS_SEQ_NO  UNIT_QTY  \\\n",
       "0           1      20180402            1296             2       2.0   \n",
       "1           1      20181206            6878             1       1.0   \n",
       "2           1      20181210            7010             2       2.0   \n",
       "3           1      20190214            8380             2       1.0   \n",
       "4           1      20190502           10639             1       2.0   \n",
       "\n",
       "   UNIT_PRICE  UNIT_COST  \n",
       "0      322.99     132.97  \n",
       "1      322.99     132.97  \n",
       "2      322.99     132.97  \n",
       "3      322.99     132.97  \n",
       "4      219.99     132.97  "
      ]
     },
     "execution_count": 12,
     "metadata": {},
     "output_type": "execute_result"
    }
   ],
   "source": [
    "df_tsc_sales.head()"
   ]
  },
  {
   "cell_type": "code",
   "execution_count": 13,
   "id": "760edc0b-7720-42e5-ae28-7fa128f0c7c8",
   "metadata": {},
   "outputs": [],
   "source": [
    "df_tsc_sales.drop(['SCRUB_TRANS_NO','TRANS_SEQ_NO'], axis=1, inplace=True)"
   ]
  },
  {
   "cell_type": "markdown",
   "id": "771f064d-44cb-4c9a-afd0-d1f7783b9f64",
   "metadata": {
    "jp-MarkdownHeadingCollapsed": true,
    "tags": []
   },
   "source": [
    "## Converting to Date and Time"
   ]
  },
  {
   "cell_type": "markdown",
   "id": "72b448d2-c61b-4564-aa10-5c190b9a909b",
   "metadata": {
    "jp-MarkdownHeadingCollapsed": true,
    "tags": []
   },
   "source": [
    "### TSC Price Change"
   ]
  },
  {
   "cell_type": "code",
   "execution_count": 14,
   "id": "dd51d32d-1aa9-42e8-bd31-6669754f1788",
   "metadata": {},
   "outputs": [],
   "source": [
    "df_tsc_price_change['PRICE_START_DATE'] = pd.to_datetime(df_tsc_price_change['PRICE_START_DATE'],\n",
    "                                                         format='%Y-%m-%d')"
   ]
  },
  {
   "cell_type": "code",
   "execution_count": 15,
   "id": "b78a93e0-6611-45a1-be21-63b7491d47ea",
   "metadata": {},
   "outputs": [],
   "source": [
    "df_tsc_price_change['PRICE_END_DATE'] = pd.to_datetime(df_tsc_price_change['PRICE_END_DATE'],\n",
    "                                                       errors='coerce', #convert errors for nulls\n",
    "                                                       format='%Y-%m-%d')"
   ]
  },
  {
   "cell_type": "code",
   "execution_count": 16,
   "id": "8b09f9d3-510a-4af4-8807-5de441ccbc50",
   "metadata": {},
   "outputs": [
    {
     "data": {
      "text/plain": [
       "0"
      ]
     },
     "execution_count": 16,
     "metadata": {},
     "output_type": "execute_result"
    }
   ],
   "source": [
    "df_tsc_price_change.duplicated(subset=['PRICE_START_DATE','SCRUB_ITEM']).sum()"
   ]
  },
  {
   "cell_type": "code",
   "execution_count": 17,
   "id": "e8b0adb1-a18f-4242-99ba-686476750409",
   "metadata": {},
   "outputs": [],
   "source": [
    "df_tsc_price_change.set_index('PRICE_START_DATE', inplace=True)"
   ]
  },
  {
   "cell_type": "markdown",
   "id": "95cb564e-1091-430d-8421-8116029422d4",
   "metadata": {},
   "source": [
    "Some of the end dates have errors because the year is 9999 for items that do not have a price_end_date. Therefore, when we convert the data to date and time, we used 'errors=coerce', converting errors to nulls."
   ]
  },
  {
   "cell_type": "code",
   "execution_count": 18,
   "id": "91068d86-546d-4d40-96f7-6b137c247501",
   "metadata": {},
   "outputs": [
    {
     "name": "stdout",
     "output_type": "stream",
     "text": [
      "<class 'pandas.core.frame.DataFrame'>\n",
      "DatetimeIndex: 3886 entries, 2019-08-26 to 2020-12-25\n",
      "Data columns (total 3 columns):\n",
      " #   Column          Non-Null Count  Dtype         \n",
      "---  ------          --------------  -----         \n",
      " 0   SCRUB_ITEM      3886 non-null   int64         \n",
      " 1   PRICE_END_DATE  3815 non-null   datetime64[ns]\n",
      " 2   TSC_PRICE       3886 non-null   float64       \n",
      "dtypes: datetime64[ns](1), float64(1), int64(1)\n",
      "memory usage: 121.4 KB\n"
     ]
    }
   ],
   "source": [
    "df_tsc_price_change.info()"
   ]
  },
  {
   "cell_type": "markdown",
   "id": "ef6cdc45-ec0e-47da-8fa0-30225be55162",
   "metadata": {
    "jp-MarkdownHeadingCollapsed": true,
    "tags": []
   },
   "source": [
    "### Competitor Price"
   ]
  },
  {
   "cell_type": "code",
   "execution_count": 19,
   "id": "66a622b6-44f1-4632-946a-67385237dfb9",
   "metadata": {},
   "outputs": [],
   "source": [
    "#getting the first 10 characters of the date to get the Y-m-d\n",
    "df_comp_price_change['SCAN_DATE_TIME'] = df_comp_price_change['SCAN_DATE_TIME'].str[:10]"
   ]
  },
  {
   "cell_type": "code",
   "execution_count": 20,
   "id": "35a02489-eb1b-4093-9e8c-7fe0f4d7082b",
   "metadata": {},
   "outputs": [],
   "source": [
    "df_comp_price_change['SCAN_DATE_TIME'] = pd.to_datetime(df_comp_price_change['SCAN_DATE_TIME'],format='%Y-%m-%d')"
   ]
  },
  {
   "cell_type": "code",
   "execution_count": 21,
   "id": "dc4a8cec-831e-4fa1-b2e4-50692f0f85c5",
   "metadata": {},
   "outputs": [
    {
     "data": {
      "text/html": [
       "<div>\n",
       "<style scoped>\n",
       "    .dataframe tbody tr th:only-of-type {\n",
       "        vertical-align: middle;\n",
       "    }\n",
       "\n",
       "    .dataframe tbody tr th {\n",
       "        vertical-align: top;\n",
       "    }\n",
       "\n",
       "    .dataframe thead th {\n",
       "        text-align: right;\n",
       "    }\n",
       "</style>\n",
       "<table border=\"1\" class=\"dataframe\">\n",
       "  <thead>\n",
       "    <tr style=\"text-align: right;\">\n",
       "      <th></th>\n",
       "      <th>SCAN_DATE_TIME</th>\n",
       "      <th>SCRUB_ITEM</th>\n",
       "      <th>SCRUB_COMPETITOR</th>\n",
       "      <th>TSC_PRICE</th>\n",
       "      <th>COMPETITOR_PRICE</th>\n",
       "      <th>CPI_COMPETITIVE_PRICE_INDEX</th>\n",
       "      <th>COMPETITOR_SHIPPING</th>\n",
       "      <th>COMPETITOR_REG_PRICE</th>\n",
       "      <th>TOTAL_PRICE</th>\n",
       "      <th>TOTAL_REG_PRICE</th>\n",
       "    </tr>\n",
       "  </thead>\n",
       "  <tbody>\n",
       "    <tr>\n",
       "      <th>0</th>\n",
       "      <td>2020-08-06</td>\n",
       "      <td>1</td>\n",
       "      <td>1</td>\n",
       "      <td>199.99</td>\n",
       "      <td>205.58</td>\n",
       "      <td>102.7951</td>\n",
       "      <td>0.0</td>\n",
       "      <td>205.58</td>\n",
       "      <td>205.58</td>\n",
       "      <td>205.58</td>\n",
       "    </tr>\n",
       "    <tr>\n",
       "      <th>1</th>\n",
       "      <td>2020-08-06</td>\n",
       "      <td>1</td>\n",
       "      <td>2</td>\n",
       "      <td>199.99</td>\n",
       "      <td>205.58</td>\n",
       "      <td>102.7951</td>\n",
       "      <td>0.0</td>\n",
       "      <td>205.58</td>\n",
       "      <td>205.58</td>\n",
       "      <td>205.58</td>\n",
       "    </tr>\n",
       "    <tr>\n",
       "      <th>2</th>\n",
       "      <td>2020-08-07</td>\n",
       "      <td>1</td>\n",
       "      <td>1</td>\n",
       "      <td>199.99</td>\n",
       "      <td>205.58</td>\n",
       "      <td>102.7951</td>\n",
       "      <td>0.0</td>\n",
       "      <td>205.58</td>\n",
       "      <td>205.58</td>\n",
       "      <td>205.58</td>\n",
       "    </tr>\n",
       "    <tr>\n",
       "      <th>3</th>\n",
       "      <td>2020-08-07</td>\n",
       "      <td>1</td>\n",
       "      <td>2</td>\n",
       "      <td>199.99</td>\n",
       "      <td>205.58</td>\n",
       "      <td>102.7951</td>\n",
       "      <td>0.0</td>\n",
       "      <td>205.58</td>\n",
       "      <td>205.58</td>\n",
       "      <td>205.58</td>\n",
       "    </tr>\n",
       "    <tr>\n",
       "      <th>4</th>\n",
       "      <td>2020-08-08</td>\n",
       "      <td>1</td>\n",
       "      <td>1</td>\n",
       "      <td>199.99</td>\n",
       "      <td>205.58</td>\n",
       "      <td>102.7951</td>\n",
       "      <td>0.0</td>\n",
       "      <td>205.58</td>\n",
       "      <td>205.58</td>\n",
       "      <td>205.58</td>\n",
       "    </tr>\n",
       "    <tr>\n",
       "      <th>...</th>\n",
       "      <td>...</td>\n",
       "      <td>...</td>\n",
       "      <td>...</td>\n",
       "      <td>...</td>\n",
       "      <td>...</td>\n",
       "      <td>...</td>\n",
       "      <td>...</td>\n",
       "      <td>...</td>\n",
       "      <td>...</td>\n",
       "      <td>...</td>\n",
       "    </tr>\n",
       "    <tr>\n",
       "      <th>90948</th>\n",
       "      <td>2021-08-02</td>\n",
       "      <td>97</td>\n",
       "      <td>2</td>\n",
       "      <td>19.99</td>\n",
       "      <td>27.16</td>\n",
       "      <td>135.8679</td>\n",
       "      <td>0.0</td>\n",
       "      <td>27.16</td>\n",
       "      <td>27.16</td>\n",
       "      <td>27.16</td>\n",
       "    </tr>\n",
       "    <tr>\n",
       "      <th>90949</th>\n",
       "      <td>2021-08-03</td>\n",
       "      <td>97</td>\n",
       "      <td>2</td>\n",
       "      <td>19.99</td>\n",
       "      <td>27.16</td>\n",
       "      <td>135.8679</td>\n",
       "      <td>0.0</td>\n",
       "      <td>27.16</td>\n",
       "      <td>27.16</td>\n",
       "      <td>27.16</td>\n",
       "    </tr>\n",
       "    <tr>\n",
       "      <th>90950</th>\n",
       "      <td>2021-08-04</td>\n",
       "      <td>97</td>\n",
       "      <td>2</td>\n",
       "      <td>19.99</td>\n",
       "      <td>27.16</td>\n",
       "      <td>135.8679</td>\n",
       "      <td>0.0</td>\n",
       "      <td>27.16</td>\n",
       "      <td>27.16</td>\n",
       "      <td>27.16</td>\n",
       "    </tr>\n",
       "    <tr>\n",
       "      <th>90951</th>\n",
       "      <td>2021-08-05</td>\n",
       "      <td>97</td>\n",
       "      <td>2</td>\n",
       "      <td>19.99</td>\n",
       "      <td>36.92</td>\n",
       "      <td>184.6923</td>\n",
       "      <td>0.0</td>\n",
       "      <td>36.92</td>\n",
       "      <td>36.92</td>\n",
       "      <td>36.92</td>\n",
       "    </tr>\n",
       "    <tr>\n",
       "      <th>90952</th>\n",
       "      <td>2021-08-06</td>\n",
       "      <td>97</td>\n",
       "      <td>2</td>\n",
       "      <td>19.99</td>\n",
       "      <td>36.92</td>\n",
       "      <td>184.6923</td>\n",
       "      <td>0.0</td>\n",
       "      <td>36.92</td>\n",
       "      <td>36.92</td>\n",
       "      <td>36.92</td>\n",
       "    </tr>\n",
       "  </tbody>\n",
       "</table>\n",
       "<p>90953 rows × 10 columns</p>\n",
       "</div>"
      ],
      "text/plain": [
       "      SCAN_DATE_TIME  SCRUB_ITEM  SCRUB_COMPETITOR  TSC_PRICE  \\\n",
       "0         2020-08-06           1                 1     199.99   \n",
       "1         2020-08-06           1                 2     199.99   \n",
       "2         2020-08-07           1                 1     199.99   \n",
       "3         2020-08-07           1                 2     199.99   \n",
       "4         2020-08-08           1                 1     199.99   \n",
       "...              ...         ...               ...        ...   \n",
       "90948     2021-08-02          97                 2      19.99   \n",
       "90949     2021-08-03          97                 2      19.99   \n",
       "90950     2021-08-04          97                 2      19.99   \n",
       "90951     2021-08-05          97                 2      19.99   \n",
       "90952     2021-08-06          97                 2      19.99   \n",
       "\n",
       "       COMPETITOR_PRICE  CPI_COMPETITIVE_PRICE_INDEX  COMPETITOR_SHIPPING  \\\n",
       "0                205.58                     102.7951                  0.0   \n",
       "1                205.58                     102.7951                  0.0   \n",
       "2                205.58                     102.7951                  0.0   \n",
       "3                205.58                     102.7951                  0.0   \n",
       "4                205.58                     102.7951                  0.0   \n",
       "...                 ...                          ...                  ...   \n",
       "90948             27.16                     135.8679                  0.0   \n",
       "90949             27.16                     135.8679                  0.0   \n",
       "90950             27.16                     135.8679                  0.0   \n",
       "90951             36.92                     184.6923                  0.0   \n",
       "90952             36.92                     184.6923                  0.0   \n",
       "\n",
       "       COMPETITOR_REG_PRICE  TOTAL_PRICE  TOTAL_REG_PRICE  \n",
       "0                    205.58       205.58           205.58  \n",
       "1                    205.58       205.58           205.58  \n",
       "2                    205.58       205.58           205.58  \n",
       "3                    205.58       205.58           205.58  \n",
       "4                    205.58       205.58           205.58  \n",
       "...                     ...          ...              ...  \n",
       "90948                 27.16        27.16            27.16  \n",
       "90949                 27.16        27.16            27.16  \n",
       "90950                 27.16        27.16            27.16  \n",
       "90951                 36.92        36.92            36.92  \n",
       "90952                 36.92        36.92            36.92  \n",
       "\n",
       "[90953 rows x 10 columns]"
      ]
     },
     "execution_count": 21,
     "metadata": {},
     "output_type": "execute_result"
    }
   ],
   "source": [
    "df_comp_price_change"
   ]
  },
  {
   "cell_type": "code",
   "execution_count": 22,
   "id": "bd761082-64a2-49a7-8019-fe3ed105d809",
   "metadata": {},
   "outputs": [
    {
     "data": {
      "text/plain": [
       "41244"
      ]
     },
     "execution_count": 22,
     "metadata": {},
     "output_type": "execute_result"
    }
   ],
   "source": [
    "df_comp_price_change.duplicated(subset=['SCAN_DATE_TIME','SCRUB_ITEM','SCRUB_COMPETITOR']).sum()"
   ]
  },
  {
   "cell_type": "code",
   "execution_count": 23,
   "id": "6e344d89-b844-4051-afa0-ede1d87ebb0f",
   "metadata": {},
   "outputs": [],
   "source": [
    "df_comp_price_change = df_comp_price_change.groupby(['SCAN_DATE_TIME','SCRUB_ITEM','SCRUB_COMPETITOR']).mean().reset_index()"
   ]
  },
  {
   "cell_type": "code",
   "execution_count": 24,
   "id": "8e3c586d-93ca-47fd-a8c8-13c02d240a4f",
   "metadata": {},
   "outputs": [
    {
     "data": {
      "text/html": [
       "<div>\n",
       "<style scoped>\n",
       "    .dataframe tbody tr th:only-of-type {\n",
       "        vertical-align: middle;\n",
       "    }\n",
       "\n",
       "    .dataframe tbody tr th {\n",
       "        vertical-align: top;\n",
       "    }\n",
       "\n",
       "    .dataframe thead th {\n",
       "        text-align: right;\n",
       "    }\n",
       "</style>\n",
       "<table border=\"1\" class=\"dataframe\">\n",
       "  <thead>\n",
       "    <tr style=\"text-align: right;\">\n",
       "      <th></th>\n",
       "      <th>SCAN_DATE_TIME</th>\n",
       "      <th>SCRUB_ITEM</th>\n",
       "      <th>SCRUB_COMPETITOR</th>\n",
       "      <th>TSC_PRICE</th>\n",
       "      <th>COMPETITOR_PRICE</th>\n",
       "      <th>CPI_COMPETITIVE_PRICE_INDEX</th>\n",
       "      <th>COMPETITOR_SHIPPING</th>\n",
       "      <th>COMPETITOR_REG_PRICE</th>\n",
       "      <th>TOTAL_PRICE</th>\n",
       "      <th>TOTAL_REG_PRICE</th>\n",
       "    </tr>\n",
       "  </thead>\n",
       "  <tbody>\n",
       "    <tr>\n",
       "      <th>0</th>\n",
       "      <td>2020-08-06</td>\n",
       "      <td>1</td>\n",
       "      <td>1</td>\n",
       "      <td>199.99</td>\n",
       "      <td>205.58</td>\n",
       "      <td>102.7951</td>\n",
       "      <td>0.00</td>\n",
       "      <td>205.58</td>\n",
       "      <td>205.58</td>\n",
       "      <td>205.58</td>\n",
       "    </tr>\n",
       "    <tr>\n",
       "      <th>1</th>\n",
       "      <td>2020-08-06</td>\n",
       "      <td>1</td>\n",
       "      <td>2</td>\n",
       "      <td>199.99</td>\n",
       "      <td>205.58</td>\n",
       "      <td>102.7951</td>\n",
       "      <td>0.00</td>\n",
       "      <td>205.58</td>\n",
       "      <td>205.58</td>\n",
       "      <td>205.58</td>\n",
       "    </tr>\n",
       "    <tr>\n",
       "      <th>2</th>\n",
       "      <td>2020-08-06</td>\n",
       "      <td>2</td>\n",
       "      <td>1</td>\n",
       "      <td>14.99</td>\n",
       "      <td>19.58</td>\n",
       "      <td>130.6204</td>\n",
       "      <td>5.99</td>\n",
       "      <td>19.58</td>\n",
       "      <td>25.57</td>\n",
       "      <td>25.57</td>\n",
       "    </tr>\n",
       "    <tr>\n",
       "      <th>3</th>\n",
       "      <td>2020-08-06</td>\n",
       "      <td>2</td>\n",
       "      <td>3</td>\n",
       "      <td>14.99</td>\n",
       "      <td>19.58</td>\n",
       "      <td>130.6204</td>\n",
       "      <td>NaN</td>\n",
       "      <td>19.58</td>\n",
       "      <td>NaN</td>\n",
       "      <td>NaN</td>\n",
       "    </tr>\n",
       "    <tr>\n",
       "      <th>4</th>\n",
       "      <td>2020-08-06</td>\n",
       "      <td>3</td>\n",
       "      <td>1</td>\n",
       "      <td>179.99</td>\n",
       "      <td>170.10</td>\n",
       "      <td>94.5052</td>\n",
       "      <td>0.00</td>\n",
       "      <td>170.10</td>\n",
       "      <td>170.10</td>\n",
       "      <td>170.10</td>\n",
       "    </tr>\n",
       "    <tr>\n",
       "      <th>...</th>\n",
       "      <td>...</td>\n",
       "      <td>...</td>\n",
       "      <td>...</td>\n",
       "      <td>...</td>\n",
       "      <td>...</td>\n",
       "      <td>...</td>\n",
       "      <td>...</td>\n",
       "      <td>...</td>\n",
       "      <td>...</td>\n",
       "      <td>...</td>\n",
       "    </tr>\n",
       "    <tr>\n",
       "      <th>49704</th>\n",
       "      <td>2021-08-06</td>\n",
       "      <td>94</td>\n",
       "      <td>2</td>\n",
       "      <td>319.99</td>\n",
       "      <td>316.58</td>\n",
       "      <td>98.9343</td>\n",
       "      <td>0.00</td>\n",
       "      <td>316.58</td>\n",
       "      <td>316.58</td>\n",
       "      <td>316.58</td>\n",
       "    </tr>\n",
       "    <tr>\n",
       "      <th>49705</th>\n",
       "      <td>2021-08-06</td>\n",
       "      <td>95</td>\n",
       "      <td>1</td>\n",
       "      <td>249.99</td>\n",
       "      <td>271.01</td>\n",
       "      <td>108.4083</td>\n",
       "      <td>0.00</td>\n",
       "      <td>271.01</td>\n",
       "      <td>271.01</td>\n",
       "      <td>271.01</td>\n",
       "    </tr>\n",
       "    <tr>\n",
       "      <th>49706</th>\n",
       "      <td>2021-08-06</td>\n",
       "      <td>95</td>\n",
       "      <td>2</td>\n",
       "      <td>249.99</td>\n",
       "      <td>271.01</td>\n",
       "      <td>108.4083</td>\n",
       "      <td>0.00</td>\n",
       "      <td>271.01</td>\n",
       "      <td>271.01</td>\n",
       "      <td>271.01</td>\n",
       "    </tr>\n",
       "    <tr>\n",
       "      <th>49707</th>\n",
       "      <td>2021-08-06</td>\n",
       "      <td>96</td>\n",
       "      <td>1</td>\n",
       "      <td>499.99</td>\n",
       "      <td>461.76</td>\n",
       "      <td>92.3538</td>\n",
       "      <td>0.00</td>\n",
       "      <td>461.76</td>\n",
       "      <td>461.76</td>\n",
       "      <td>461.76</td>\n",
       "    </tr>\n",
       "    <tr>\n",
       "      <th>49708</th>\n",
       "      <td>2021-08-06</td>\n",
       "      <td>97</td>\n",
       "      <td>2</td>\n",
       "      <td>19.99</td>\n",
       "      <td>36.92</td>\n",
       "      <td>184.6923</td>\n",
       "      <td>0.00</td>\n",
       "      <td>36.92</td>\n",
       "      <td>36.92</td>\n",
       "      <td>36.92</td>\n",
       "    </tr>\n",
       "  </tbody>\n",
       "</table>\n",
       "<p>49709 rows × 10 columns</p>\n",
       "</div>"
      ],
      "text/plain": [
       "      SCAN_DATE_TIME  SCRUB_ITEM  SCRUB_COMPETITOR  TSC_PRICE  \\\n",
       "0         2020-08-06           1                 1     199.99   \n",
       "1         2020-08-06           1                 2     199.99   \n",
       "2         2020-08-06           2                 1      14.99   \n",
       "3         2020-08-06           2                 3      14.99   \n",
       "4         2020-08-06           3                 1     179.99   \n",
       "...              ...         ...               ...        ...   \n",
       "49704     2021-08-06          94                 2     319.99   \n",
       "49705     2021-08-06          95                 1     249.99   \n",
       "49706     2021-08-06          95                 2     249.99   \n",
       "49707     2021-08-06          96                 1     499.99   \n",
       "49708     2021-08-06          97                 2      19.99   \n",
       "\n",
       "       COMPETITOR_PRICE  CPI_COMPETITIVE_PRICE_INDEX  COMPETITOR_SHIPPING  \\\n",
       "0                205.58                     102.7951                 0.00   \n",
       "1                205.58                     102.7951                 0.00   \n",
       "2                 19.58                     130.6204                 5.99   \n",
       "3                 19.58                     130.6204                  NaN   \n",
       "4                170.10                      94.5052                 0.00   \n",
       "...                 ...                          ...                  ...   \n",
       "49704            316.58                      98.9343                 0.00   \n",
       "49705            271.01                     108.4083                 0.00   \n",
       "49706            271.01                     108.4083                 0.00   \n",
       "49707            461.76                      92.3538                 0.00   \n",
       "49708             36.92                     184.6923                 0.00   \n",
       "\n",
       "       COMPETITOR_REG_PRICE  TOTAL_PRICE  TOTAL_REG_PRICE  \n",
       "0                    205.58       205.58           205.58  \n",
       "1                    205.58       205.58           205.58  \n",
       "2                     19.58        25.57            25.57  \n",
       "3                     19.58          NaN              NaN  \n",
       "4                    170.10       170.10           170.10  \n",
       "...                     ...          ...              ...  \n",
       "49704                316.58       316.58           316.58  \n",
       "49705                271.01       271.01           271.01  \n",
       "49706                271.01       271.01           271.01  \n",
       "49707                461.76       461.76           461.76  \n",
       "49708                 36.92        36.92            36.92  \n",
       "\n",
       "[49709 rows x 10 columns]"
      ]
     },
     "execution_count": 24,
     "metadata": {},
     "output_type": "execute_result"
    }
   ],
   "source": [
    "df_comp_price_change"
   ]
  },
  {
   "cell_type": "code",
   "execution_count": 25,
   "id": "6d063acd-e004-489d-ad49-7c78be38b075",
   "metadata": {},
   "outputs": [],
   "source": [
    "df_comp_price_change.set_index('SCAN_DATE_TIME',inplace=True)"
   ]
  },
  {
   "cell_type": "code",
   "execution_count": 26,
   "id": "c6bad69c-477b-466c-a619-c3a7cf445288",
   "metadata": {},
   "outputs": [
    {
     "name": "stdout",
     "output_type": "stream",
     "text": [
      "<class 'pandas.core.frame.DataFrame'>\n",
      "DatetimeIndex: 49709 entries, 2020-08-06 to 2021-08-06\n",
      "Data columns (total 9 columns):\n",
      " #   Column                       Non-Null Count  Dtype  \n",
      "---  ------                       --------------  -----  \n",
      " 0   SCRUB_ITEM                   49709 non-null  int64  \n",
      " 1   SCRUB_COMPETITOR             49709 non-null  int64  \n",
      " 2   TSC_PRICE                    49709 non-null  float64\n",
      " 3   COMPETITOR_PRICE             49709 non-null  float64\n",
      " 4   CPI_COMPETITIVE_PRICE_INDEX  49709 non-null  float64\n",
      " 5   COMPETITOR_SHIPPING          32353 non-null  float64\n",
      " 6   COMPETITOR_REG_PRICE         49709 non-null  float64\n",
      " 7   TOTAL_PRICE                  32353 non-null  float64\n",
      " 8   TOTAL_REG_PRICE              32353 non-null  float64\n",
      "dtypes: float64(7), int64(2)\n",
      "memory usage: 3.8 MB\n"
     ]
    }
   ],
   "source": [
    "df_comp_price_change.info()"
   ]
  },
  {
   "cell_type": "markdown",
   "id": "913a4516-ad12-4be7-9e41-913afbf48bec",
   "metadata": {
    "tags": []
   },
   "source": [
    "### TSC Sales"
   ]
  },
  {
   "cell_type": "code",
   "execution_count": 27,
   "id": "075233ec-9b78-4bd7-a408-088ecac7993c",
   "metadata": {},
   "outputs": [
    {
     "name": "stdout",
     "output_type": "stream",
     "text": [
      "<class 'pandas.core.frame.DataFrame'>\n",
      "RangeIndex: 70829 entries, 0 to 70828\n",
      "Data columns (total 5 columns):\n",
      " #   Column        Non-Null Count  Dtype  \n",
      "---  ------        --------------  -----  \n",
      " 0   SCRUB_ITEM    70829 non-null  int64  \n",
      " 1   TIME_DIM_KEY  70829 non-null  int64  \n",
      " 2   UNIT_QTY      70829 non-null  float64\n",
      " 3   UNIT_PRICE    70829 non-null  float64\n",
      " 4   UNIT_COST     70829 non-null  float64\n",
      "dtypes: float64(3), int64(2)\n",
      "memory usage: 2.7 MB\n"
     ]
    }
   ],
   "source": [
    "df_tsc_sales.info()"
   ]
  },
  {
   "cell_type": "code",
   "execution_count": 28,
   "id": "6400e5aa-a1a1-4109-9281-44d3bd4941ea",
   "metadata": {},
   "outputs": [
    {
     "data": {
      "text/plain": [
       "50351"
      ]
     },
     "execution_count": 28,
     "metadata": {},
     "output_type": "execute_result"
    }
   ],
   "source": [
    "df_tsc_sales.duplicated(subset=['SCRUB_ITEM','TIME_DIM_KEY']).sum()"
   ]
  },
  {
   "cell_type": "code",
   "execution_count": 29,
   "id": "a92ae56c-78e5-485d-a296-dd04bec6ee98",
   "metadata": {},
   "outputs": [],
   "source": [
    "df_tsc_sales = df_tsc_sales.groupby(['SCRUB_ITEM','TIME_DIM_KEY']).agg({'UNIT_QTY':'sum',\n",
    "                                                         'UNIT_PRICE':'mean',\n",
    "                                                         'UNIT_COST':'mean'}).reset_index()"
   ]
  },
  {
   "cell_type": "code",
   "execution_count": 30,
   "id": "553bcc0f-8f23-4875-af63-cced7ef570ce",
   "metadata": {},
   "outputs": [],
   "source": [
    "df_tsc_sales['TIME_DIM_KEY'] = pd.to_datetime(df_tsc_sales['TIME_DIM_KEY'],format='%Y%m%d')"
   ]
  },
  {
   "cell_type": "code",
   "execution_count": 31,
   "id": "dabb82b0-c902-43f1-b34a-4000ab536fd3",
   "metadata": {},
   "outputs": [],
   "source": [
    "df_tsc_sales.set_index('TIME_DIM_KEY', inplace=True)"
   ]
  },
  {
   "cell_type": "code",
   "execution_count": 32,
   "id": "0c120969-1a0f-4e06-8a0b-dfe9acc318ce",
   "metadata": {},
   "outputs": [
    {
     "name": "stdout",
     "output_type": "stream",
     "text": [
      "<class 'pandas.core.frame.DataFrame'>\n",
      "DatetimeIndex: 20478 entries, 2018-04-02 to 2021-08-05\n",
      "Data columns (total 4 columns):\n",
      " #   Column      Non-Null Count  Dtype  \n",
      "---  ------      --------------  -----  \n",
      " 0   SCRUB_ITEM  20478 non-null  int64  \n",
      " 1   UNIT_QTY    20478 non-null  float64\n",
      " 2   UNIT_PRICE  20478 non-null  float64\n",
      " 3   UNIT_COST   20478 non-null  float64\n",
      "dtypes: float64(3), int64(1)\n",
      "memory usage: 799.9 KB\n"
     ]
    }
   ],
   "source": [
    "df_tsc_sales.info()"
   ]
  },
  {
   "cell_type": "markdown",
   "id": "d866143d-09d1-4637-95a4-df1f43f6b30b",
   "metadata": {
    "jp-MarkdownHeadingCollapsed": true,
    "tags": []
   },
   "source": [
    "## Resampling"
   ]
  },
  {
   "cell_type": "markdown",
   "id": "d4f0fa92-bf66-4e5d-b1a6-a99ac97dbd7d",
   "metadata": {
    "tags": []
   },
   "source": [
    "### TSC Price Change"
   ]
  },
  {
   "cell_type": "code",
   "execution_count": 33,
   "id": "92aaaf26-77db-4e66-a8b7-c4c1e9bd2a4c",
   "metadata": {},
   "outputs": [],
   "source": [
    "newdf = df_tsc_price_change.groupby(['SCRUB_ITEM']).resample('D').asfreq().ffill()"
   ]
  },
  {
   "cell_type": "code",
   "execution_count": 34,
   "id": "2c93fcae-5d21-4a61-9272-0bcf55ed7e05",
   "metadata": {},
   "outputs": [
    {
     "data": {
      "text/html": [
       "<div>\n",
       "<style scoped>\n",
       "    .dataframe tbody tr th:only-of-type {\n",
       "        vertical-align: middle;\n",
       "    }\n",
       "\n",
       "    .dataframe tbody tr th {\n",
       "        vertical-align: top;\n",
       "    }\n",
       "\n",
       "    .dataframe thead th {\n",
       "        text-align: right;\n",
       "    }\n",
       "</style>\n",
       "<table border=\"1\" class=\"dataframe\">\n",
       "  <thead>\n",
       "    <tr style=\"text-align: right;\">\n",
       "      <th></th>\n",
       "      <th></th>\n",
       "      <th>SCRUB_ITEM</th>\n",
       "      <th>PRICE_END_DATE</th>\n",
       "      <th>TSC_PRICE</th>\n",
       "    </tr>\n",
       "    <tr>\n",
       "      <th>SCRUB_ITEM</th>\n",
       "      <th>PRICE_START_DATE</th>\n",
       "      <th></th>\n",
       "      <th></th>\n",
       "      <th></th>\n",
       "    </tr>\n",
       "  </thead>\n",
       "  <tbody>\n",
       "    <tr>\n",
       "      <th rowspan=\"5\" valign=\"top\">1</th>\n",
       "      <th>2019-08-26</th>\n",
       "      <td>1.0</td>\n",
       "      <td>2019-10-03</td>\n",
       "      <td>199.99</td>\n",
       "    </tr>\n",
       "    <tr>\n",
       "      <th>2019-08-27</th>\n",
       "      <td>1.0</td>\n",
       "      <td>2019-10-03</td>\n",
       "      <td>199.99</td>\n",
       "    </tr>\n",
       "    <tr>\n",
       "      <th>2019-08-28</th>\n",
       "      <td>1.0</td>\n",
       "      <td>2019-10-03</td>\n",
       "      <td>199.99</td>\n",
       "    </tr>\n",
       "    <tr>\n",
       "      <th>2019-08-29</th>\n",
       "      <td>1.0</td>\n",
       "      <td>2019-10-03</td>\n",
       "      <td>199.99</td>\n",
       "    </tr>\n",
       "    <tr>\n",
       "      <th>2019-08-30</th>\n",
       "      <td>1.0</td>\n",
       "      <td>2019-10-03</td>\n",
       "      <td>199.99</td>\n",
       "    </tr>\n",
       "    <tr>\n",
       "      <th>...</th>\n",
       "      <th>...</th>\n",
       "      <td>...</td>\n",
       "      <td>...</td>\n",
       "      <td>...</td>\n",
       "    </tr>\n",
       "    <tr>\n",
       "      <th rowspan=\"5\" valign=\"top\">97</th>\n",
       "      <th>2020-12-21</th>\n",
       "      <td>97.0</td>\n",
       "      <td>2020-12-24</td>\n",
       "      <td>15.99</td>\n",
       "    </tr>\n",
       "    <tr>\n",
       "      <th>2020-12-22</th>\n",
       "      <td>97.0</td>\n",
       "      <td>2020-12-24</td>\n",
       "      <td>15.99</td>\n",
       "    </tr>\n",
       "    <tr>\n",
       "      <th>2020-12-23</th>\n",
       "      <td>97.0</td>\n",
       "      <td>2020-12-24</td>\n",
       "      <td>15.99</td>\n",
       "    </tr>\n",
       "    <tr>\n",
       "      <th>2020-12-24</th>\n",
       "      <td>97.0</td>\n",
       "      <td>2020-12-24</td>\n",
       "      <td>15.99</td>\n",
       "    </tr>\n",
       "    <tr>\n",
       "      <th>2020-12-25</th>\n",
       "      <td>97.0</td>\n",
       "      <td>2021-08-18</td>\n",
       "      <td>19.99</td>\n",
       "    </tr>\n",
       "  </tbody>\n",
       "</table>\n",
       "<p>62650 rows × 3 columns</p>\n",
       "</div>"
      ],
      "text/plain": [
       "                             SCRUB_ITEM PRICE_END_DATE  TSC_PRICE\n",
       "SCRUB_ITEM PRICE_START_DATE                                      \n",
       "1          2019-08-26               1.0     2019-10-03     199.99\n",
       "           2019-08-27               1.0     2019-10-03     199.99\n",
       "           2019-08-28               1.0     2019-10-03     199.99\n",
       "           2019-08-29               1.0     2019-10-03     199.99\n",
       "           2019-08-30               1.0     2019-10-03     199.99\n",
       "...                                 ...            ...        ...\n",
       "97         2020-12-21              97.0     2020-12-24      15.99\n",
       "           2020-12-22              97.0     2020-12-24      15.99\n",
       "           2020-12-23              97.0     2020-12-24      15.99\n",
       "           2020-12-24              97.0     2020-12-24      15.99\n",
       "           2020-12-25              97.0     2021-08-18      19.99\n",
       "\n",
       "[62650 rows x 3 columns]"
      ]
     },
     "execution_count": 34,
     "metadata": {},
     "output_type": "execute_result"
    }
   ],
   "source": [
    "newdf"
   ]
  },
  {
   "cell_type": "code",
   "execution_count": 35,
   "id": "263b4ab1-248f-415c-857b-0903fd23fc19",
   "metadata": {},
   "outputs": [],
   "source": [
    "newdf2 = newdf.drop(['SCRUB_ITEM','PRICE_END_DATE'], axis=1)"
   ]
  },
  {
   "cell_type": "code",
   "execution_count": 36,
   "id": "1d0b23cf-2d4e-471d-ace6-d01127ec51bc",
   "metadata": {},
   "outputs": [],
   "source": [
    "tsc_price = newdf2.reset_index()"
   ]
  },
  {
   "cell_type": "code",
   "execution_count": 37,
   "id": "4609e25a-8f0a-46df-be40-28537efe6aad",
   "metadata": {},
   "outputs": [
    {
     "data": {
      "text/html": [
       "<div>\n",
       "<style scoped>\n",
       "    .dataframe tbody tr th:only-of-type {\n",
       "        vertical-align: middle;\n",
       "    }\n",
       "\n",
       "    .dataframe tbody tr th {\n",
       "        vertical-align: top;\n",
       "    }\n",
       "\n",
       "    .dataframe thead th {\n",
       "        text-align: right;\n",
       "    }\n",
       "</style>\n",
       "<table border=\"1\" class=\"dataframe\">\n",
       "  <thead>\n",
       "    <tr style=\"text-align: right;\">\n",
       "      <th></th>\n",
       "      <th>SCRUB_ITEM</th>\n",
       "      <th>PRICE_START_DATE</th>\n",
       "      <th>TSC_PRICE</th>\n",
       "    </tr>\n",
       "  </thead>\n",
       "  <tbody>\n",
       "    <tr>\n",
       "      <th>0</th>\n",
       "      <td>1</td>\n",
       "      <td>2019-08-26</td>\n",
       "      <td>199.99</td>\n",
       "    </tr>\n",
       "    <tr>\n",
       "      <th>1</th>\n",
       "      <td>1</td>\n",
       "      <td>2019-08-27</td>\n",
       "      <td>199.99</td>\n",
       "    </tr>\n",
       "    <tr>\n",
       "      <th>2</th>\n",
       "      <td>1</td>\n",
       "      <td>2019-08-28</td>\n",
       "      <td>199.99</td>\n",
       "    </tr>\n",
       "    <tr>\n",
       "      <th>3</th>\n",
       "      <td>1</td>\n",
       "      <td>2019-08-29</td>\n",
       "      <td>199.99</td>\n",
       "    </tr>\n",
       "    <tr>\n",
       "      <th>4</th>\n",
       "      <td>1</td>\n",
       "      <td>2019-08-30</td>\n",
       "      <td>199.99</td>\n",
       "    </tr>\n",
       "    <tr>\n",
       "      <th>...</th>\n",
       "      <td>...</td>\n",
       "      <td>...</td>\n",
       "      <td>...</td>\n",
       "    </tr>\n",
       "    <tr>\n",
       "      <th>62645</th>\n",
       "      <td>97</td>\n",
       "      <td>2020-12-21</td>\n",
       "      <td>15.99</td>\n",
       "    </tr>\n",
       "    <tr>\n",
       "      <th>62646</th>\n",
       "      <td>97</td>\n",
       "      <td>2020-12-22</td>\n",
       "      <td>15.99</td>\n",
       "    </tr>\n",
       "    <tr>\n",
       "      <th>62647</th>\n",
       "      <td>97</td>\n",
       "      <td>2020-12-23</td>\n",
       "      <td>15.99</td>\n",
       "    </tr>\n",
       "    <tr>\n",
       "      <th>62648</th>\n",
       "      <td>97</td>\n",
       "      <td>2020-12-24</td>\n",
       "      <td>15.99</td>\n",
       "    </tr>\n",
       "    <tr>\n",
       "      <th>62649</th>\n",
       "      <td>97</td>\n",
       "      <td>2020-12-25</td>\n",
       "      <td>19.99</td>\n",
       "    </tr>\n",
       "  </tbody>\n",
       "</table>\n",
       "<p>62650 rows × 3 columns</p>\n",
       "</div>"
      ],
      "text/plain": [
       "       SCRUB_ITEM PRICE_START_DATE  TSC_PRICE\n",
       "0               1       2019-08-26     199.99\n",
       "1               1       2019-08-27     199.99\n",
       "2               1       2019-08-28     199.99\n",
       "3               1       2019-08-29     199.99\n",
       "4               1       2019-08-30     199.99\n",
       "...           ...              ...        ...\n",
       "62645          97       2020-12-21      15.99\n",
       "62646          97       2020-12-22      15.99\n",
       "62647          97       2020-12-23      15.99\n",
       "62648          97       2020-12-24      15.99\n",
       "62649          97       2020-12-25      19.99\n",
       "\n",
       "[62650 rows x 3 columns]"
      ]
     },
     "execution_count": 37,
     "metadata": {},
     "output_type": "execute_result"
    }
   ],
   "source": [
    "tsc_price"
   ]
  },
  {
   "cell_type": "markdown",
   "id": "2a9ce551-66ed-470e-b80d-b9210eddd39d",
   "metadata": {
    "tags": []
   },
   "source": [
    "### Competitor Price"
   ]
  },
  {
   "cell_type": "code",
   "execution_count": 38,
   "id": "c2e89316-e67b-4d37-ae55-6ead2b00fe7c",
   "metadata": {},
   "outputs": [],
   "source": [
    "newdf = df_comp_price_change.groupby(['SCRUB_ITEM', 'SCRUB_COMPETITOR']).resample('D').asfreq().ffill()"
   ]
  },
  {
   "cell_type": "code",
   "execution_count": 39,
   "id": "e1a0abda-c3bd-459c-8e8e-4d11e5fa6182",
   "metadata": {},
   "outputs": [],
   "source": [
    "newdf.drop(['SCRUB_ITEM','SCRUB_COMPETITOR'], axis=1, inplace=True)"
   ]
  },
  {
   "cell_type": "code",
   "execution_count": 40,
   "id": "1ba4f94a-6726-46e5-a06e-50b6f44f15c8",
   "metadata": {},
   "outputs": [],
   "source": [
    "comp_price_change_mod = newdf.reset_index()"
   ]
  },
  {
   "cell_type": "code",
   "execution_count": 41,
   "id": "d3234133-6866-4faf-8a1e-98ffd7d9288d",
   "metadata": {},
   "outputs": [],
   "source": [
    "comp1 = comp_price_change_mod[comp_price_change_mod['SCRUB_COMPETITOR']==1]\n",
    "comp2 = comp_price_change_mod[comp_price_change_mod['SCRUB_COMPETITOR']==2]\n",
    "comp3 = comp_price_change_mod[comp_price_change_mod['SCRUB_COMPETITOR']==3]"
   ]
  },
  {
   "cell_type": "code",
   "execution_count": 42,
   "id": "f5ac155c-d80c-4484-9d12-987ec82be8f0",
   "metadata": {},
   "outputs": [],
   "source": [
    "comp_mod = comp1.merge(comp2,how='outer', on=['SCRUB_ITEM','SCAN_DATE_TIME'], suffixes=['_comp1','_comp2'])"
   ]
  },
  {
   "cell_type": "code",
   "execution_count": 43,
   "id": "1859214e-1c8e-46a1-bdef-3f2e4594fba9",
   "metadata": {},
   "outputs": [],
   "source": [
    "comp_price = comp_mod.merge(comp3, how='outer', on=['SCRUB_ITEM','SCAN_DATE_TIME'])"
   ]
  },
  {
   "cell_type": "code",
   "execution_count": 44,
   "id": "3b07968d-567e-450f-9b88-1d32a041074b",
   "metadata": {},
   "outputs": [
    {
     "name": "stdout",
     "output_type": "stream",
     "text": [
      "<class 'pandas.core.frame.DataFrame'>\n",
      "Int64Index: 34957 entries, 0 to 34956\n",
      "Data columns (total 26 columns):\n",
      " #   Column                             Non-Null Count  Dtype         \n",
      "---  ------                             --------------  -----         \n",
      " 0   SCRUB_ITEM                         34957 non-null  int64         \n",
      " 1   SCRUB_COMPETITOR_comp1             27856 non-null  float64       \n",
      " 2   SCAN_DATE_TIME                     34957 non-null  datetime64[ns]\n",
      " 3   TSC_PRICE_comp1                    27856 non-null  float64       \n",
      " 4   COMPETITOR_PRICE_comp1             27856 non-null  float64       \n",
      " 5   CPI_COMPETITIVE_PRICE_INDEX_comp1  27856 non-null  float64       \n",
      " 6   COMPETITOR_SHIPPING_comp1          27856 non-null  float64       \n",
      " 7   COMPETITOR_REG_PRICE_comp1         27856 non-null  float64       \n",
      " 8   TOTAL_PRICE_comp1                  27856 non-null  float64       \n",
      " 9   TOTAL_REG_PRICE_comp1              27856 non-null  float64       \n",
      " 10  SCRUB_COMPETITOR_comp2             22072 non-null  float64       \n",
      " 11  TSC_PRICE_comp2                    22072 non-null  float64       \n",
      " 12  COMPETITOR_PRICE_comp2             22072 non-null  float64       \n",
      " 13  CPI_COMPETITIVE_PRICE_INDEX_comp2  22072 non-null  float64       \n",
      " 14  COMPETITOR_SHIPPING_comp2          22072 non-null  float64       \n",
      " 15  COMPETITOR_REG_PRICE_comp2         22072 non-null  float64       \n",
      " 16  TOTAL_PRICE_comp2                  22072 non-null  float64       \n",
      " 17  TOTAL_REG_PRICE_comp2              22072 non-null  float64       \n",
      " 18  SCRUB_COMPETITOR                   21447 non-null  float64       \n",
      " 19  TSC_PRICE                          21447 non-null  float64       \n",
      " 20  COMPETITOR_PRICE                   21447 non-null  float64       \n",
      " 21  CPI_COMPETITIVE_PRICE_INDEX        21447 non-null  float64       \n",
      " 22  COMPETITOR_SHIPPING                21447 non-null  float64       \n",
      " 23  COMPETITOR_REG_PRICE               21447 non-null  float64       \n",
      " 24  TOTAL_PRICE                        21447 non-null  float64       \n",
      " 25  TOTAL_REG_PRICE                    21447 non-null  float64       \n",
      "dtypes: datetime64[ns](1), float64(24), int64(1)\n",
      "memory usage: 7.2 MB\n"
     ]
    }
   ],
   "source": [
    "comp_price.info()"
   ]
  },
  {
   "cell_type": "code",
   "execution_count": 45,
   "id": "8ff4217c-131e-4bb1-b224-1c433c75adc1",
   "metadata": {},
   "outputs": [],
   "source": [
    "comp_price.drop(['SCRUB_COMPETITOR_comp1','SCRUB_COMPETITOR_comp2','SCRUB_COMPETITOR'],axis=1, inplace=True)"
   ]
  },
  {
   "cell_type": "code",
   "execution_count": 46,
   "id": "1eb1870f-7faa-47df-90cf-175dc09ef7fd",
   "metadata": {},
   "outputs": [],
   "source": [
    "comp_price.rename(columns={'TSC_PRICE':'TSC_PRICE_comp3',\n",
    "                         'COMPETITOR_PRICE':'COMPETITOR_PRICE_comp3',\n",
    "                         'CPI_COMPETITIVE_PRICE_INDEX':'CPI_COMPETITIVE_PRICE_INDEX_comp3',\n",
    "                         'COMPETITOR_SHIPPING':'COMPETITOR_SHIPPING_comp3',\n",
    "                         'COMPETITOR_REG_PRICE':'COMPETITOR_REG_PRICE_comp3',\n",
    "                         'TOTAL_PRICE':'TOTAL_PRICE_comp3',\n",
    "                         'TOTAL_REG_PRICE':'TOTAL_REG_PRICE_comp3'},\n",
    "                inplace=True)"
   ]
  },
  {
   "cell_type": "code",
   "execution_count": 47,
   "id": "751f6633-706f-42ac-ac63-d3cb62fdf525",
   "metadata": {},
   "outputs": [
    {
     "name": "stdout",
     "output_type": "stream",
     "text": [
      "<class 'pandas.core.frame.DataFrame'>\n",
      "Int64Index: 34957 entries, 0 to 34956\n",
      "Data columns (total 23 columns):\n",
      " #   Column                             Non-Null Count  Dtype         \n",
      "---  ------                             --------------  -----         \n",
      " 0   SCRUB_ITEM                         34957 non-null  int64         \n",
      " 1   SCAN_DATE_TIME                     34957 non-null  datetime64[ns]\n",
      " 2   TSC_PRICE_comp1                    27856 non-null  float64       \n",
      " 3   COMPETITOR_PRICE_comp1             27856 non-null  float64       \n",
      " 4   CPI_COMPETITIVE_PRICE_INDEX_comp1  27856 non-null  float64       \n",
      " 5   COMPETITOR_SHIPPING_comp1          27856 non-null  float64       \n",
      " 6   COMPETITOR_REG_PRICE_comp1         27856 non-null  float64       \n",
      " 7   TOTAL_PRICE_comp1                  27856 non-null  float64       \n",
      " 8   TOTAL_REG_PRICE_comp1              27856 non-null  float64       \n",
      " 9   TSC_PRICE_comp2                    22072 non-null  float64       \n",
      " 10  COMPETITOR_PRICE_comp2             22072 non-null  float64       \n",
      " 11  CPI_COMPETITIVE_PRICE_INDEX_comp2  22072 non-null  float64       \n",
      " 12  COMPETITOR_SHIPPING_comp2          22072 non-null  float64       \n",
      " 13  COMPETITOR_REG_PRICE_comp2         22072 non-null  float64       \n",
      " 14  TOTAL_PRICE_comp2                  22072 non-null  float64       \n",
      " 15  TOTAL_REG_PRICE_comp2              22072 non-null  float64       \n",
      " 16  TSC_PRICE_comp3                    21447 non-null  float64       \n",
      " 17  COMPETITOR_PRICE_comp3             21447 non-null  float64       \n",
      " 18  CPI_COMPETITIVE_PRICE_INDEX_comp3  21447 non-null  float64       \n",
      " 19  COMPETITOR_SHIPPING_comp3          21447 non-null  float64       \n",
      " 20  COMPETITOR_REG_PRICE_comp3         21447 non-null  float64       \n",
      " 21  TOTAL_PRICE_comp3                  21447 non-null  float64       \n",
      " 22  TOTAL_REG_PRICE_comp3              21447 non-null  float64       \n",
      "dtypes: datetime64[ns](1), float64(21), int64(1)\n",
      "memory usage: 6.4 MB\n"
     ]
    }
   ],
   "source": [
    "comp_price.info()"
   ]
  },
  {
   "cell_type": "markdown",
   "id": "a82ea157-4a52-40cf-bad4-39d234fc3aaf",
   "metadata": {
    "tags": []
   },
   "source": [
    "### TSC Sales"
   ]
  },
  {
   "cell_type": "code",
   "execution_count": 48,
   "id": "db79eb14-079f-43ba-a59e-10a567549e4e",
   "metadata": {},
   "outputs": [],
   "source": [
    "newdf = df_tsc_sales.groupby(['SCRUB_ITEM']).resample('D').asfreq()"
   ]
  },
  {
   "cell_type": "code",
   "execution_count": 49,
   "id": "03d81a1d-3426-4e0c-8fd7-53f2ef0beff9",
   "metadata": {},
   "outputs": [],
   "source": [
    "newdf.loc[:,'UNIT_COST'].ffill(inplace=True)"
   ]
  },
  {
   "cell_type": "code",
   "execution_count": 50,
   "id": "e0620ebe-9ef2-4783-9917-e3e0c7ee6dd3",
   "metadata": {},
   "outputs": [],
   "source": [
    "newdf.drop('SCRUB_ITEM',axis=1,inplace=True)"
   ]
  },
  {
   "cell_type": "code",
   "execution_count": 51,
   "id": "b162ddbb-6af9-49b8-b35b-c3921d55cb3a",
   "metadata": {},
   "outputs": [],
   "source": [
    "tsc_sales = newdf.reset_index()"
   ]
  },
  {
   "cell_type": "code",
   "execution_count": 52,
   "id": "b71ae730-2433-441c-85f8-c081fbc9a4f1",
   "metadata": {},
   "outputs": [
    {
     "data": {
      "text/html": [
       "<div>\n",
       "<style scoped>\n",
       "    .dataframe tbody tr th:only-of-type {\n",
       "        vertical-align: middle;\n",
       "    }\n",
       "\n",
       "    .dataframe tbody tr th {\n",
       "        vertical-align: top;\n",
       "    }\n",
       "\n",
       "    .dataframe thead th {\n",
       "        text-align: right;\n",
       "    }\n",
       "</style>\n",
       "<table border=\"1\" class=\"dataframe\">\n",
       "  <thead>\n",
       "    <tr style=\"text-align: right;\">\n",
       "      <th></th>\n",
       "      <th>SCRUB_ITEM</th>\n",
       "      <th>TIME_DIM_KEY</th>\n",
       "      <th>UNIT_QTY</th>\n",
       "      <th>UNIT_PRICE</th>\n",
       "      <th>UNIT_COST</th>\n",
       "    </tr>\n",
       "  </thead>\n",
       "  <tbody>\n",
       "    <tr>\n",
       "      <th>0</th>\n",
       "      <td>1</td>\n",
       "      <td>2018-04-02</td>\n",
       "      <td>2.0</td>\n",
       "      <td>322.99</td>\n",
       "      <td>132.97</td>\n",
       "    </tr>\n",
       "    <tr>\n",
       "      <th>1</th>\n",
       "      <td>1</td>\n",
       "      <td>2018-04-03</td>\n",
       "      <td>NaN</td>\n",
       "      <td>NaN</td>\n",
       "      <td>132.97</td>\n",
       "    </tr>\n",
       "    <tr>\n",
       "      <th>2</th>\n",
       "      <td>1</td>\n",
       "      <td>2018-04-04</td>\n",
       "      <td>NaN</td>\n",
       "      <td>NaN</td>\n",
       "      <td>132.97</td>\n",
       "    </tr>\n",
       "    <tr>\n",
       "      <th>3</th>\n",
       "      <td>1</td>\n",
       "      <td>2018-04-05</td>\n",
       "      <td>NaN</td>\n",
       "      <td>NaN</td>\n",
       "      <td>132.97</td>\n",
       "    </tr>\n",
       "    <tr>\n",
       "      <th>4</th>\n",
       "      <td>1</td>\n",
       "      <td>2018-04-06</td>\n",
       "      <td>NaN</td>\n",
       "      <td>NaN</td>\n",
       "      <td>132.97</td>\n",
       "    </tr>\n",
       "    <tr>\n",
       "      <th>...</th>\n",
       "      <td>...</td>\n",
       "      <td>...</td>\n",
       "      <td>...</td>\n",
       "      <td>...</td>\n",
       "      <td>...</td>\n",
       "    </tr>\n",
       "    <tr>\n",
       "      <th>100278</th>\n",
       "      <td>97</td>\n",
       "      <td>2021-08-01</td>\n",
       "      <td>NaN</td>\n",
       "      <td>NaN</td>\n",
       "      <td>11.70</td>\n",
       "    </tr>\n",
       "    <tr>\n",
       "      <th>100279</th>\n",
       "      <td>97</td>\n",
       "      <td>2021-08-02</td>\n",
       "      <td>NaN</td>\n",
       "      <td>NaN</td>\n",
       "      <td>11.70</td>\n",
       "    </tr>\n",
       "    <tr>\n",
       "      <th>100280</th>\n",
       "      <td>97</td>\n",
       "      <td>2021-08-03</td>\n",
       "      <td>NaN</td>\n",
       "      <td>NaN</td>\n",
       "      <td>11.70</td>\n",
       "    </tr>\n",
       "    <tr>\n",
       "      <th>100281</th>\n",
       "      <td>97</td>\n",
       "      <td>2021-08-04</td>\n",
       "      <td>NaN</td>\n",
       "      <td>NaN</td>\n",
       "      <td>11.70</td>\n",
       "    </tr>\n",
       "    <tr>\n",
       "      <th>100282</th>\n",
       "      <td>97</td>\n",
       "      <td>2021-08-05</td>\n",
       "      <td>-3.0</td>\n",
       "      <td>19.99</td>\n",
       "      <td>11.70</td>\n",
       "    </tr>\n",
       "  </tbody>\n",
       "</table>\n",
       "<p>100283 rows × 5 columns</p>\n",
       "</div>"
      ],
      "text/plain": [
       "        SCRUB_ITEM TIME_DIM_KEY  UNIT_QTY  UNIT_PRICE  UNIT_COST\n",
       "0                1   2018-04-02       2.0      322.99     132.97\n",
       "1                1   2018-04-03       NaN         NaN     132.97\n",
       "2                1   2018-04-04       NaN         NaN     132.97\n",
       "3                1   2018-04-05       NaN         NaN     132.97\n",
       "4                1   2018-04-06       NaN         NaN     132.97\n",
       "...            ...          ...       ...         ...        ...\n",
       "100278          97   2021-08-01       NaN         NaN      11.70\n",
       "100279          97   2021-08-02       NaN         NaN      11.70\n",
       "100280          97   2021-08-03       NaN         NaN      11.70\n",
       "100281          97   2021-08-04       NaN         NaN      11.70\n",
       "100282          97   2021-08-05      -3.0       19.99      11.70\n",
       "\n",
       "[100283 rows x 5 columns]"
      ]
     },
     "execution_count": 52,
     "metadata": {},
     "output_type": "execute_result"
    }
   ],
   "source": [
    "tsc_sales"
   ]
  },
  {
   "cell_type": "markdown",
   "id": "1af92450-42ed-426a-85e9-5fea33449aed",
   "metadata": {
    "tags": []
   },
   "source": [
    "## Merging All Datasets"
   ]
  },
  {
   "cell_type": "code",
   "execution_count": 53,
   "id": "79c6d1e2-30a7-4add-9d82-be13439f143a",
   "metadata": {},
   "outputs": [
    {
     "name": "stdout",
     "output_type": "stream",
     "text": [
      "<class 'pandas.core.frame.DataFrame'>\n",
      "RangeIndex: 62650 entries, 0 to 62649\n",
      "Data columns (total 3 columns):\n",
      " #   Column            Non-Null Count  Dtype         \n",
      "---  ------            --------------  -----         \n",
      " 0   SCRUB_ITEM        62650 non-null  int64         \n",
      " 1   PRICE_START_DATE  62650 non-null  datetime64[ns]\n",
      " 2   TSC_PRICE         62650 non-null  float64       \n",
      "dtypes: datetime64[ns](1), float64(1), int64(1)\n",
      "memory usage: 1.4 MB\n"
     ]
    }
   ],
   "source": [
    "tsc_price.info()"
   ]
  },
  {
   "cell_type": "code",
   "execution_count": 54,
   "id": "755dced4-2c5c-4ae9-a476-f5ab279d6ac5",
   "metadata": {},
   "outputs": [],
   "source": [
    "tsc_price.rename(columns={'PRICE_START_DATE':'DATE'},inplace=True)"
   ]
  },
  {
   "cell_type": "code",
   "execution_count": 55,
   "id": "e3615582-1e6f-4701-a042-22399cc89e7f",
   "metadata": {},
   "outputs": [
    {
     "data": {
      "text/html": [
       "<div>\n",
       "<style scoped>\n",
       "    .dataframe tbody tr th:only-of-type {\n",
       "        vertical-align: middle;\n",
       "    }\n",
       "\n",
       "    .dataframe tbody tr th {\n",
       "        vertical-align: top;\n",
       "    }\n",
       "\n",
       "    .dataframe thead th {\n",
       "        text-align: right;\n",
       "    }\n",
       "</style>\n",
       "<table border=\"1\" class=\"dataframe\">\n",
       "  <thead>\n",
       "    <tr style=\"text-align: right;\">\n",
       "      <th></th>\n",
       "      <th>SCRUB_ITEM</th>\n",
       "      <th>DATE</th>\n",
       "      <th>TSC_PRICE</th>\n",
       "    </tr>\n",
       "  </thead>\n",
       "  <tbody>\n",
       "    <tr>\n",
       "      <th>0</th>\n",
       "      <td>1</td>\n",
       "      <td>2019-08-26</td>\n",
       "      <td>199.99</td>\n",
       "    </tr>\n",
       "    <tr>\n",
       "      <th>1</th>\n",
       "      <td>1</td>\n",
       "      <td>2019-08-27</td>\n",
       "      <td>199.99</td>\n",
       "    </tr>\n",
       "    <tr>\n",
       "      <th>2</th>\n",
       "      <td>1</td>\n",
       "      <td>2019-08-28</td>\n",
       "      <td>199.99</td>\n",
       "    </tr>\n",
       "    <tr>\n",
       "      <th>3</th>\n",
       "      <td>1</td>\n",
       "      <td>2019-08-29</td>\n",
       "      <td>199.99</td>\n",
       "    </tr>\n",
       "    <tr>\n",
       "      <th>4</th>\n",
       "      <td>1</td>\n",
       "      <td>2019-08-30</td>\n",
       "      <td>199.99</td>\n",
       "    </tr>\n",
       "    <tr>\n",
       "      <th>...</th>\n",
       "      <td>...</td>\n",
       "      <td>...</td>\n",
       "      <td>...</td>\n",
       "    </tr>\n",
       "    <tr>\n",
       "      <th>62645</th>\n",
       "      <td>97</td>\n",
       "      <td>2020-12-21</td>\n",
       "      <td>15.99</td>\n",
       "    </tr>\n",
       "    <tr>\n",
       "      <th>62646</th>\n",
       "      <td>97</td>\n",
       "      <td>2020-12-22</td>\n",
       "      <td>15.99</td>\n",
       "    </tr>\n",
       "    <tr>\n",
       "      <th>62647</th>\n",
       "      <td>97</td>\n",
       "      <td>2020-12-23</td>\n",
       "      <td>15.99</td>\n",
       "    </tr>\n",
       "    <tr>\n",
       "      <th>62648</th>\n",
       "      <td>97</td>\n",
       "      <td>2020-12-24</td>\n",
       "      <td>15.99</td>\n",
       "    </tr>\n",
       "    <tr>\n",
       "      <th>62649</th>\n",
       "      <td>97</td>\n",
       "      <td>2020-12-25</td>\n",
       "      <td>19.99</td>\n",
       "    </tr>\n",
       "  </tbody>\n",
       "</table>\n",
       "<p>62650 rows × 3 columns</p>\n",
       "</div>"
      ],
      "text/plain": [
       "       SCRUB_ITEM       DATE  TSC_PRICE\n",
       "0               1 2019-08-26     199.99\n",
       "1               1 2019-08-27     199.99\n",
       "2               1 2019-08-28     199.99\n",
       "3               1 2019-08-29     199.99\n",
       "4               1 2019-08-30     199.99\n",
       "...           ...        ...        ...\n",
       "62645          97 2020-12-21      15.99\n",
       "62646          97 2020-12-22      15.99\n",
       "62647          97 2020-12-23      15.99\n",
       "62648          97 2020-12-24      15.99\n",
       "62649          97 2020-12-25      19.99\n",
       "\n",
       "[62650 rows x 3 columns]"
      ]
     },
     "execution_count": 55,
     "metadata": {},
     "output_type": "execute_result"
    }
   ],
   "source": [
    "tsc_price"
   ]
  },
  {
   "cell_type": "code",
   "execution_count": 56,
   "id": "231f221a-4871-4379-9a50-7378182f078e",
   "metadata": {},
   "outputs": [
    {
     "name": "stdout",
     "output_type": "stream",
     "text": [
      "<class 'pandas.core.frame.DataFrame'>\n",
      "Int64Index: 34957 entries, 0 to 34956\n",
      "Data columns (total 23 columns):\n",
      " #   Column                             Non-Null Count  Dtype         \n",
      "---  ------                             --------------  -----         \n",
      " 0   SCRUB_ITEM                         34957 non-null  int64         \n",
      " 1   SCAN_DATE_TIME                     34957 non-null  datetime64[ns]\n",
      " 2   TSC_PRICE_comp1                    27856 non-null  float64       \n",
      " 3   COMPETITOR_PRICE_comp1             27856 non-null  float64       \n",
      " 4   CPI_COMPETITIVE_PRICE_INDEX_comp1  27856 non-null  float64       \n",
      " 5   COMPETITOR_SHIPPING_comp1          27856 non-null  float64       \n",
      " 6   COMPETITOR_REG_PRICE_comp1         27856 non-null  float64       \n",
      " 7   TOTAL_PRICE_comp1                  27856 non-null  float64       \n",
      " 8   TOTAL_REG_PRICE_comp1              27856 non-null  float64       \n",
      " 9   TSC_PRICE_comp2                    22072 non-null  float64       \n",
      " 10  COMPETITOR_PRICE_comp2             22072 non-null  float64       \n",
      " 11  CPI_COMPETITIVE_PRICE_INDEX_comp2  22072 non-null  float64       \n",
      " 12  COMPETITOR_SHIPPING_comp2          22072 non-null  float64       \n",
      " 13  COMPETITOR_REG_PRICE_comp2         22072 non-null  float64       \n",
      " 14  TOTAL_PRICE_comp2                  22072 non-null  float64       \n",
      " 15  TOTAL_REG_PRICE_comp2              22072 non-null  float64       \n",
      " 16  TSC_PRICE_comp3                    21447 non-null  float64       \n",
      " 17  COMPETITOR_PRICE_comp3             21447 non-null  float64       \n",
      " 18  CPI_COMPETITIVE_PRICE_INDEX_comp3  21447 non-null  float64       \n",
      " 19  COMPETITOR_SHIPPING_comp3          21447 non-null  float64       \n",
      " 20  COMPETITOR_REG_PRICE_comp3         21447 non-null  float64       \n",
      " 21  TOTAL_PRICE_comp3                  21447 non-null  float64       \n",
      " 22  TOTAL_REG_PRICE_comp3              21447 non-null  float64       \n",
      "dtypes: datetime64[ns](1), float64(21), int64(1)\n",
      "memory usage: 6.4 MB\n"
     ]
    }
   ],
   "source": [
    "comp_price.info()"
   ]
  },
  {
   "cell_type": "code",
   "execution_count": 57,
   "id": "0bd264f8-5c2e-47db-8e80-10c671f0e408",
   "metadata": {},
   "outputs": [],
   "source": [
    "comp_price.rename(columns={'SCAN_DATE_TIME':'DATE'},inplace=True)"
   ]
  },
  {
   "cell_type": "code",
   "execution_count": 58,
   "id": "552d5e0e-7278-420e-a33d-6a29cf3126bb",
   "metadata": {},
   "outputs": [
    {
     "name": "stdout",
     "output_type": "stream",
     "text": [
      "<class 'pandas.core.frame.DataFrame'>\n",
      "RangeIndex: 100283 entries, 0 to 100282\n",
      "Data columns (total 5 columns):\n",
      " #   Column        Non-Null Count   Dtype         \n",
      "---  ------        --------------   -----         \n",
      " 0   SCRUB_ITEM    100283 non-null  int64         \n",
      " 1   TIME_DIM_KEY  100283 non-null  datetime64[ns]\n",
      " 2   UNIT_QTY      20478 non-null   float64       \n",
      " 3   UNIT_PRICE    20478 non-null   float64       \n",
      " 4   UNIT_COST     100283 non-null  float64       \n",
      "dtypes: datetime64[ns](1), float64(3), int64(1)\n",
      "memory usage: 3.8 MB\n"
     ]
    }
   ],
   "source": [
    "tsc_sales.info()"
   ]
  },
  {
   "cell_type": "code",
   "execution_count": 59,
   "id": "e3c303b5-203c-4539-b4dc-d1483a654261",
   "metadata": {},
   "outputs": [],
   "source": [
    "tsc_sales.rename(columns={'TIME_DIM_KEY':'DATE'},inplace=True)"
   ]
  },
  {
   "cell_type": "code",
   "execution_count": 63,
   "id": "0ae79449-fc59-4846-95a3-cffa44bc4c72",
   "metadata": {},
   "outputs": [],
   "source": [
    "outer_merged_df = tsc_price.merge(comp_price,on=['SCRUB_ITEM','DATE'], how='outer')\n",
    "outer_merged_df = outer_merged_df.merge(tsc_sales,on=['SCRUB_ITEM','DATE'], how='outer')"
   ]
  },
  {
   "cell_type": "code",
   "execution_count": 64,
   "id": "7546b632-0041-4bf3-9907-ecc53826ce6a",
   "metadata": {},
   "outputs": [
    {
     "name": "stdout",
     "output_type": "stream",
     "text": [
      "<class 'pandas.core.frame.DataFrame'>\n",
      "Int64Index: 105359 entries, 0 to 105358\n",
      "Data columns (total 27 columns):\n",
      " #   Column                             Non-Null Count   Dtype         \n",
      "---  ------                             --------------   -----         \n",
      " 0   SCRUB_ITEM                         105359 non-null  int64         \n",
      " 1   DATE                               105359 non-null  datetime64[ns]\n",
      " 2   TSC_PRICE                          62650 non-null   float64       \n",
      " 3   TSC_PRICE_comp1                    27856 non-null   float64       \n",
      " 4   COMPETITOR_PRICE_comp1             27856 non-null   float64       \n",
      " 5   CPI_COMPETITIVE_PRICE_INDEX_comp1  27856 non-null   float64       \n",
      " 6   COMPETITOR_SHIPPING_comp1          27856 non-null   float64       \n",
      " 7   COMPETITOR_REG_PRICE_comp1         27856 non-null   float64       \n",
      " 8   TOTAL_PRICE_comp1                  27856 non-null   float64       \n",
      " 9   TOTAL_REG_PRICE_comp1              27856 non-null   float64       \n",
      " 10  TSC_PRICE_comp2                    22072 non-null   float64       \n",
      " 11  COMPETITOR_PRICE_comp2             22072 non-null   float64       \n",
      " 12  CPI_COMPETITIVE_PRICE_INDEX_comp2  22072 non-null   float64       \n",
      " 13  COMPETITOR_SHIPPING_comp2          22072 non-null   float64       \n",
      " 14  COMPETITOR_REG_PRICE_comp2         22072 non-null   float64       \n",
      " 15  TOTAL_PRICE_comp2                  22072 non-null   float64       \n",
      " 16  TOTAL_REG_PRICE_comp2              22072 non-null   float64       \n",
      " 17  TSC_PRICE_comp3                    21447 non-null   float64       \n",
      " 18  COMPETITOR_PRICE_comp3             21447 non-null   float64       \n",
      " 19  CPI_COMPETITIVE_PRICE_INDEX_comp3  21447 non-null   float64       \n",
      " 20  COMPETITOR_SHIPPING_comp3          21447 non-null   float64       \n",
      " 21  COMPETITOR_REG_PRICE_comp3         21447 non-null   float64       \n",
      " 22  TOTAL_PRICE_comp3                  21447 non-null   float64       \n",
      " 23  TOTAL_REG_PRICE_comp3              21447 non-null   float64       \n",
      " 24  UNIT_QTY                           20478 non-null   float64       \n",
      " 25  UNIT_PRICE                         20478 non-null   float64       \n",
      " 26  UNIT_COST                          100283 non-null  float64       \n",
      "dtypes: datetime64[ns](1), float64(25), int64(1)\n",
      "memory usage: 22.5 MB\n"
     ]
    }
   ],
   "source": [
    "outer_merged_df.info()"
   ]
  },
  {
   "cell_type": "code",
   "execution_count": 65,
   "id": "e232567a-e190-4711-82bd-c9715f8dc16a",
   "metadata": {},
   "outputs": [],
   "source": [
    "inner_merged_df = tsc_price.merge(comp_price,on=['SCRUB_ITEM','DATE'], how='inner')\n",
    "inner_merged_df = inner_merged_df.merge(tsc_sales,on=['SCRUB_ITEM','DATE'], how='inner')"
   ]
  },
  {
   "cell_type": "code",
   "execution_count": 66,
   "id": "c6f69f52-7ffe-43ce-b69f-e33bd41fd380",
   "metadata": {},
   "outputs": [
    {
     "name": "stdout",
     "output_type": "stream",
     "text": [
      "<class 'pandas.core.frame.DataFrame'>\n",
      "Int64Index: 25286 entries, 0 to 25285\n",
      "Data columns (total 27 columns):\n",
      " #   Column                             Non-Null Count  Dtype         \n",
      "---  ------                             --------------  -----         \n",
      " 0   SCRUB_ITEM                         25286 non-null  int64         \n",
      " 1   DATE                               25286 non-null  datetime64[ns]\n",
      " 2   TSC_PRICE                          25286 non-null  float64       \n",
      " 3   TSC_PRICE_comp1                    19806 non-null  float64       \n",
      " 4   COMPETITOR_PRICE_comp1             19806 non-null  float64       \n",
      " 5   CPI_COMPETITIVE_PRICE_INDEX_comp1  19806 non-null  float64       \n",
      " 6   COMPETITOR_SHIPPING_comp1          19806 non-null  float64       \n",
      " 7   COMPETITOR_REG_PRICE_comp1         19806 non-null  float64       \n",
      " 8   TOTAL_PRICE_comp1                  19806 non-null  float64       \n",
      " 9   TOTAL_REG_PRICE_comp1              19806 non-null  float64       \n",
      " 10  TSC_PRICE_comp2                    16066 non-null  float64       \n",
      " 11  COMPETITOR_PRICE_comp2             16066 non-null  float64       \n",
      " 12  CPI_COMPETITIVE_PRICE_INDEX_comp2  16066 non-null  float64       \n",
      " 13  COMPETITOR_SHIPPING_comp2          16066 non-null  float64       \n",
      " 14  COMPETITOR_REG_PRICE_comp2         16066 non-null  float64       \n",
      " 15  TOTAL_PRICE_comp2                  16066 non-null  float64       \n",
      " 16  TOTAL_REG_PRICE_comp2              16066 non-null  float64       \n",
      " 17  TSC_PRICE_comp3                    15686 non-null  float64       \n",
      " 18  COMPETITOR_PRICE_comp3             15686 non-null  float64       \n",
      " 19  CPI_COMPETITIVE_PRICE_INDEX_comp3  15686 non-null  float64       \n",
      " 20  COMPETITOR_SHIPPING_comp3          15686 non-null  float64       \n",
      " 21  COMPETITOR_REG_PRICE_comp3         15686 non-null  float64       \n",
      " 22  TOTAL_PRICE_comp3                  15686 non-null  float64       \n",
      " 23  TOTAL_REG_PRICE_comp3              15686 non-null  float64       \n",
      " 24  UNIT_QTY                           6662 non-null   float64       \n",
      " 25  UNIT_PRICE                         6662 non-null   float64       \n",
      " 26  UNIT_COST                          25286 non-null  float64       \n",
      "dtypes: datetime64[ns](1), float64(25), int64(1)\n",
      "memory usage: 5.4 MB\n"
     ]
    }
   ],
   "source": [
    "inner_merged_df.info()"
   ]
  },
  {
   "cell_type": "code",
   "execution_count": 68,
   "id": "95784c97-754e-489d-aedc-2320b1662328",
   "metadata": {},
   "outputs": [],
   "source": [
    "df1 = outer_merged_df[outer_merged_df['UNIT_QTY'].notna()]"
   ]
  },
  {
   "cell_type": "code",
   "execution_count": 69,
   "id": "beb15b77-30b7-49f4-bb91-1fd5a3cd6e43",
   "metadata": {},
   "outputs": [
    {
     "name": "stdout",
     "output_type": "stream",
     "text": [
      "<class 'pandas.core.frame.DataFrame'>\n",
      "Int64Index: 20478 entries, 0 to 105354\n",
      "Data columns (total 27 columns):\n",
      " #   Column                             Non-Null Count  Dtype         \n",
      "---  ------                             --------------  -----         \n",
      " 0   SCRUB_ITEM                         20478 non-null  int64         \n",
      " 1   DATE                               20478 non-null  datetime64[ns]\n",
      " 2   TSC_PRICE                          12955 non-null  float64       \n",
      " 3   TSC_PRICE_comp1                    7295 non-null   float64       \n",
      " 4   COMPETITOR_PRICE_comp1             7295 non-null   float64       \n",
      " 5   CPI_COMPETITIVE_PRICE_INDEX_comp1  7295 non-null   float64       \n",
      " 6   COMPETITOR_SHIPPING_comp1          7295 non-null   float64       \n",
      " 7   COMPETITOR_REG_PRICE_comp1         7295 non-null   float64       \n",
      " 8   TOTAL_PRICE_comp1                  7295 non-null   float64       \n",
      " 9   TOTAL_REG_PRICE_comp1              7295 non-null   float64       \n",
      " 10  TSC_PRICE_comp2                    5338 non-null   float64       \n",
      " 11  COMPETITOR_PRICE_comp2             5338 non-null   float64       \n",
      " 12  CPI_COMPETITIVE_PRICE_INDEX_comp2  5338 non-null   float64       \n",
      " 13  COMPETITOR_SHIPPING_comp2          5338 non-null   float64       \n",
      " 14  COMPETITOR_REG_PRICE_comp2         5338 non-null   float64       \n",
      " 15  TOTAL_PRICE_comp2                  5338 non-null   float64       \n",
      " 16  TOTAL_REG_PRICE_comp2              5338 non-null   float64       \n",
      " 17  TSC_PRICE_comp3                    5183 non-null   float64       \n",
      " 18  COMPETITOR_PRICE_comp3             5183 non-null   float64       \n",
      " 19  CPI_COMPETITIVE_PRICE_INDEX_comp3  5183 non-null   float64       \n",
      " 20  COMPETITOR_SHIPPING_comp3          5183 non-null   float64       \n",
      " 21  COMPETITOR_REG_PRICE_comp3         5183 non-null   float64       \n",
      " 22  TOTAL_PRICE_comp3                  5183 non-null   float64       \n",
      " 23  TOTAL_REG_PRICE_comp3              5183 non-null   float64       \n",
      " 24  UNIT_QTY                           20478 non-null  float64       \n",
      " 25  UNIT_PRICE                         20478 non-null  float64       \n",
      " 26  UNIT_COST                          20478 non-null  float64       \n",
      "dtypes: datetime64[ns](1), float64(25), int64(1)\n",
      "memory usage: 4.4 MB\n"
     ]
    }
   ],
   "source": [
    "df1.info()"
   ]
  },
  {
   "cell_type": "code",
   "execution_count": 72,
   "id": "3039ce8f-9f18-436b-8a41-3d788583296f",
   "metadata": {},
   "outputs": [
    {
     "name": "stderr",
     "output_type": "stream",
     "text": [
      "<ipython-input-72-e18e78630c14>:1: SettingWithCopyWarning: \n",
      "A value is trying to be set on a copy of a slice from a DataFrame.\n",
      "Try using .loc[row_indexer,col_indexer] = value instead\n",
      "\n",
      "See the caveats in the documentation: https://pandas.pydata.org/pandas-docs/stable/user_guide/indexing.html#returning-a-view-versus-a-copy\n",
      "  df1['AVG_COMPETITOR_PRICE'] = df1[['COMPETITOR_PRICE_comp1','COMPETITOR_PRICE_comp2','COMPETITOR_PRICE_comp3']].mean(axis=1)\n",
      "<ipython-input-72-e18e78630c14>:2: SettingWithCopyWarning: \n",
      "A value is trying to be set on a copy of a slice from a DataFrame.\n",
      "Try using .loc[row_indexer,col_indexer] = value instead\n",
      "\n",
      "See the caveats in the documentation: https://pandas.pydata.org/pandas-docs/stable/user_guide/indexing.html#returning-a-view-versus-a-copy\n",
      "  df1['AVG_CPI_COMPETITIVE_PRICE_INDEX'] = df1[['CPI_COMPETITIVE_PRICE_INDEX_comp1','CPI_COMPETITIVE_PRICE_INDEX_comp2','CPI_COMPETITIVE_PRICE_INDEX_comp3']].mean(axis=1)\n",
      "<ipython-input-72-e18e78630c14>:3: SettingWithCopyWarning: \n",
      "A value is trying to be set on a copy of a slice from a DataFrame.\n",
      "Try using .loc[row_indexer,col_indexer] = value instead\n",
      "\n",
      "See the caveats in the documentation: https://pandas.pydata.org/pandas-docs/stable/user_guide/indexing.html#returning-a-view-versus-a-copy\n",
      "  df1['AVG_COMPETITOR_SHIPPING'] = df1[['COMPETITOR_SHIPPING_comp1','COMPETITOR_SHIPPING_comp2','COMPETITOR_SHIPPING_comp3']].mean(axis=1)\n",
      "<ipython-input-72-e18e78630c14>:4: SettingWithCopyWarning: \n",
      "A value is trying to be set on a copy of a slice from a DataFrame.\n",
      "Try using .loc[row_indexer,col_indexer] = value instead\n",
      "\n",
      "See the caveats in the documentation: https://pandas.pydata.org/pandas-docs/stable/user_guide/indexing.html#returning-a-view-versus-a-copy\n",
      "  df1['AVG_COMPETITOR_REG_PRICE'] = df1[['COMPETITOR_REG_PRICE_comp1','COMPETITOR_REG_PRICE_comp2','COMPETITOR_REG_PRICE_comp3']].mean(axis=1)\n",
      "<ipython-input-72-e18e78630c14>:5: SettingWithCopyWarning: \n",
      "A value is trying to be set on a copy of a slice from a DataFrame.\n",
      "Try using .loc[row_indexer,col_indexer] = value instead\n",
      "\n",
      "See the caveats in the documentation: https://pandas.pydata.org/pandas-docs/stable/user_guide/indexing.html#returning-a-view-versus-a-copy\n",
      "  df1['AVG_COMPETITOR_TOTAL_PRICE'] = df1[['TOTAL_PRICE_comp1','TOTAL_PRICE_comp2','TOTAL_PRICE_comp3']].mean(axis=1)\n",
      "<ipython-input-72-e18e78630c14>:6: SettingWithCopyWarning: \n",
      "A value is trying to be set on a copy of a slice from a DataFrame.\n",
      "Try using .loc[row_indexer,col_indexer] = value instead\n",
      "\n",
      "See the caveats in the documentation: https://pandas.pydata.org/pandas-docs/stable/user_guide/indexing.html#returning-a-view-versus-a-copy\n",
      "  df1['AVG_COMPETITOR_TOTAL_REG_PRICE'] = df1[['TOTAL_REG_PRICE_comp1','TOTAL_REG_PRICE_comp2','TOTAL_REG_PRICE_comp3']].mean(axis=1)\n"
     ]
    }
   ],
   "source": [
    "df1['AVG_COMPETITOR_PRICE'] = df1[['COMPETITOR_PRICE_comp1','COMPETITOR_PRICE_comp2','COMPETITOR_PRICE_comp3']].mean(axis=1)\n",
    "df1['AVG_CPI_COMPETITIVE_PRICE_INDEX'] = df1[['CPI_COMPETITIVE_PRICE_INDEX_comp1','CPI_COMPETITIVE_PRICE_INDEX_comp2','CPI_COMPETITIVE_PRICE_INDEX_comp3']].mean(axis=1)\n",
    "df1['AVG_COMPETITOR_SHIPPING'] = df1[['COMPETITOR_SHIPPING_comp1','COMPETITOR_SHIPPING_comp2','COMPETITOR_SHIPPING_comp3']].mean(axis=1)\n",
    "df1['AVG_COMPETITOR_REG_PRICE'] = df1[['COMPETITOR_REG_PRICE_comp1','COMPETITOR_REG_PRICE_comp2','COMPETITOR_REG_PRICE_comp3']].mean(axis=1)\n",
    "df1['AVG_COMPETITOR_TOTAL_PRICE'] = df1[['TOTAL_PRICE_comp1','TOTAL_PRICE_comp2','TOTAL_PRICE_comp3']].mean(axis=1)\n",
    "df1['AVG_COMPETITOR_TOTAL_REG_PRICE'] = df1[['TOTAL_REG_PRICE_comp1','TOTAL_REG_PRICE_comp2','TOTAL_REG_PRICE_comp3']].mean(axis=1)"
   ]
  },
  {
   "cell_type": "code",
   "execution_count": 77,
   "id": "2d94e6d2-e7e6-401f-9f39-713f680b19aa",
   "metadata": {},
   "outputs": [],
   "source": [
    "df2 = df1[['SCRUB_ITEM','DATE','UNIT_QTY','UNIT_PRICE','UNIT_COST','AVG_COMPETITOR_PRICE',\n",
    "           'AVG_CPI_COMPETITIVE_PRICE_INDEX','AVG_COMPETITOR_SHIPPING','AVG_COMPETITOR_REG_PRICE',\n",
    "           'AVG_COMPETITOR_TOTAL_PRICE','AVG_COMPETITOR_TOTAL_REG_PRICE']]"
   ]
  },
  {
   "cell_type": "code",
   "execution_count": 82,
   "id": "d8392574-663a-4fd7-b21f-dc26c71f9ec9",
   "metadata": {},
   "outputs": [],
   "source": [
    "df3 = df2.dropna()"
   ]
  },
  {
   "cell_type": "code",
   "execution_count": 83,
   "id": "b841ef46-3abc-42ed-8af2-3834fbd0566c",
   "metadata": {},
   "outputs": [
    {
     "name": "stdout",
     "output_type": "stream",
     "text": [
      "<class 'pandas.core.frame.DataFrame'>\n",
      "Int64Index: 8799 entries, 346 to 71648\n",
      "Data columns (total 11 columns):\n",
      " #   Column                           Non-Null Count  Dtype         \n",
      "---  ------                           --------------  -----         \n",
      " 0   SCRUB_ITEM                       8799 non-null   int64         \n",
      " 1   DATE                             8799 non-null   datetime64[ns]\n",
      " 2   UNIT_QTY                         8799 non-null   float64       \n",
      " 3   UNIT_PRICE                       8799 non-null   float64       \n",
      " 4   UNIT_COST                        8799 non-null   float64       \n",
      " 5   AVG_COMPETITOR_PRICE             8799 non-null   float64       \n",
      " 6   AVG_CPI_COMPETITIVE_PRICE_INDEX  8799 non-null   float64       \n",
      " 7   AVG_COMPETITOR_SHIPPING          8799 non-null   float64       \n",
      " 8   AVG_COMPETITOR_REG_PRICE         8799 non-null   float64       \n",
      " 9   AVG_COMPETITOR_TOTAL_PRICE       8799 non-null   float64       \n",
      " 10  AVG_COMPETITOR_TOTAL_REG_PRICE   8799 non-null   float64       \n",
      "dtypes: datetime64[ns](1), float64(9), int64(1)\n",
      "memory usage: 824.9 KB\n"
     ]
    }
   ],
   "source": [
    "df3.info()"
   ]
  },
  {
   "cell_type": "code",
   "execution_count": 92,
   "id": "17a293e3-aa97-4cc3-8c3e-7cc1fcc641bd",
   "metadata": {},
   "outputs": [
    {
     "name": "stderr",
     "output_type": "stream",
     "text": [
      "<ipython-input-92-f4986bbd3939>:1: SettingWithCopyWarning: \n",
      "A value is trying to be set on a copy of a slice from a DataFrame.\n",
      "Try using .loc[row_indexer,col_indexer] = value instead\n",
      "\n",
      "See the caveats in the documentation: https://pandas.pydata.org/pandas-docs/stable/user_guide/indexing.html#returning-a-view-versus-a-copy\n",
      "  df3['MONTH'] = df3['DATE'].dt.month\n",
      "<ipython-input-92-f4986bbd3939>:2: SettingWithCopyWarning: \n",
      "A value is trying to be set on a copy of a slice from a DataFrame.\n",
      "Try using .loc[row_indexer,col_indexer] = value instead\n",
      "\n",
      "See the caveats in the documentation: https://pandas.pydata.org/pandas-docs/stable/user_guide/indexing.html#returning-a-view-versus-a-copy\n",
      "  df3['YEAR'] = df3['DATE'].dt.year\n"
     ]
    }
   ],
   "source": [
    "df3['MONTH'] = df3['DATE'].dt.month\n",
    "df3['YEAR'] = df3['DATE'].dt.year"
   ]
  },
  {
   "cell_type": "code",
   "execution_count": 95,
   "id": "e70603e4-a1f6-4ce2-b4c8-32a1185d0cc4",
   "metadata": {},
   "outputs": [],
   "source": [
    "df4 = df3.drop('DATE',axis=1)"
   ]
  },
  {
   "cell_type": "code",
   "execution_count": 96,
   "id": "7fb0e909-005b-47b8-85ed-7883ab575252",
   "metadata": {},
   "outputs": [
    {
     "name": "stdout",
     "output_type": "stream",
     "text": [
      "<class 'pandas.core.frame.DataFrame'>\n",
      "Int64Index: 8799 entries, 346 to 71648\n",
      "Data columns (total 12 columns):\n",
      " #   Column                           Non-Null Count  Dtype  \n",
      "---  ------                           --------------  -----  \n",
      " 0   SCRUB_ITEM                       8799 non-null   int64  \n",
      " 1   UNIT_QTY                         8799 non-null   float64\n",
      " 2   UNIT_PRICE                       8799 non-null   float64\n",
      " 3   UNIT_COST                        8799 non-null   float64\n",
      " 4   AVG_COMPETITOR_PRICE             8799 non-null   float64\n",
      " 5   AVG_CPI_COMPETITIVE_PRICE_INDEX  8799 non-null   float64\n",
      " 6   AVG_COMPETITOR_SHIPPING          8799 non-null   float64\n",
      " 7   AVG_COMPETITOR_REG_PRICE         8799 non-null   float64\n",
      " 8   AVG_COMPETITOR_TOTAL_PRICE       8799 non-null   float64\n",
      " 9   AVG_COMPETITOR_TOTAL_REG_PRICE   8799 non-null   float64\n",
      " 10  MONTH                            8799 non-null   int64  \n",
      " 11  YEAR                             8799 non-null   int64  \n",
      "dtypes: float64(9), int64(3)\n",
      "memory usage: 1.1 MB\n"
     ]
    }
   ],
   "source": [
    "df4.info()"
   ]
  },
  {
   "cell_type": "code",
   "execution_count": 111,
   "id": "a0f18676-713c-47db-93f8-4940d3deda6d",
   "metadata": {},
   "outputs": [],
   "source": [
    "df4.reset_index(inplace=True, drop=True)"
   ]
  },
  {
   "cell_type": "markdown",
   "id": "fb7f4862-740e-44d0-9eb9-ee0b99ffd6eb",
   "metadata": {},
   "source": [
    "## Modeling"
   ]
  },
  {
   "cell_type": "code",
   "execution_count": 112,
   "id": "4dadc34c-6386-4125-a3f0-63d9aa94915e",
   "metadata": {},
   "outputs": [],
   "source": [
    "X = df4.drop('UNIT_QTY', axis=1)\n",
    "y = df4['UNIT_QTY']"
   ]
  },
  {
   "cell_type": "code",
   "execution_count": 113,
   "id": "3e88c950-8b70-42aa-819f-21b7e08894d0",
   "metadata": {},
   "outputs": [],
   "source": [
    "X_train, X_v_t, y_train, y_v_t = train_test_split(X, y, test_size=0.30, random_state=42)"
   ]
  },
  {
   "cell_type": "code",
   "execution_count": 114,
   "id": "bb45c08d-ffee-4564-b29a-13877407d71e",
   "metadata": {},
   "outputs": [],
   "source": [
    "X_val, X_test, y_val, y_test = train_test_split(X_v_t, y_v_t, test_size=0.50, random_state=42)"
   ]
  },
  {
   "cell_type": "code",
   "execution_count": 116,
   "id": "54883ac8-c124-4da1-88f1-b40319dcf95e",
   "metadata": {},
   "outputs": [],
   "source": [
    "X_cat = ['SCRUB_ITEM', 'MONTH']\n",
    "X_num = X.drop(X_cat,axis=1).columns"
   ]
  },
  {
   "cell_type": "code",
   "execution_count": 117,
   "id": "f8a31e8b-5ce2-45e6-a6f3-a76f99a7122e",
   "metadata": {},
   "outputs": [],
   "source": [
    "#set up the column transfomer part of the pipeline\n",
    "numTrans = Pipeline(steps=[\n",
    "    ('scaler', StandardScaler())\n",
    "    ])\n",
    "catTrans = Pipeline(steps=[\n",
    "    ('ohe', OneHotEncoder(sparse=False,\n",
    "                          handle_unknown='ignore'))\n",
    "    ])\n",
    "\n",
    "c_transform = ColumnTransformer(transformers=[\n",
    "    ('num', numTrans, X_num),\n",
    "    ('cat', catTrans, X_cat)\n",
    "    ])"
   ]
  },
  {
   "cell_type": "markdown",
   "id": "3dfce994-a9b2-4731-99d9-39d716379100",
   "metadata": {},
   "source": [
    "## Linear Regression"
   ]
  },
  {
   "cell_type": "code",
   "execution_count": 118,
   "id": "18db64e9-81f2-4642-a814-606e38ab5355",
   "metadata": {},
   "outputs": [],
   "source": [
    "model1 = Pipeline(steps=[\n",
    "    ('c_trans', c_transform),\n",
    "    ('linreg', LinearRegression()) \n",
    "    ])"
   ]
  },
  {
   "cell_type": "code",
   "execution_count": 119,
   "id": "f68347d2-60e6-477f-ad3f-bddcb3e3d1a3",
   "metadata": {},
   "outputs": [
    {
     "data": {
      "text/plain": [
       "Pipeline(steps=[('c_trans',\n",
       "                 ColumnTransformer(transformers=[('num',\n",
       "                                                  Pipeline(steps=[('scaler',\n",
       "                                                                   StandardScaler())]),\n",
       "                                                  Index(['UNIT_PRICE', 'UNIT_COST', 'AVG_COMPETITOR_PRICE',\n",
       "       'AVG_CPI_COMPETITIVE_PRICE_INDEX', 'AVG_COMPETITOR_SHIPPING',\n",
       "       'AVG_COMPETITOR_REG_PRICE', 'AVG_COMPETITOR_TOTAL_PRICE',\n",
       "       'AVG_COMPETITOR_TOTAL_REG_PRICE', 'YEAR'],\n",
       "      dtype='object')),\n",
       "                                                 ('cat',\n",
       "                                                  Pipeline(steps=[('ohe',\n",
       "                                                                   OneHotEncoder(handle_unknown='ignore',\n",
       "                                                                                 sparse=False))]),\n",
       "                                                  ['SCRUB_ITEM', 'MONTH'])])),\n",
       "                ('linreg', LinearRegression())])"
      ]
     },
     "execution_count": 119,
     "metadata": {},
     "output_type": "execute_result"
    }
   ],
   "source": [
    "model1.fit(X_train, y_train)"
   ]
  },
  {
   "cell_type": "code",
   "execution_count": 120,
   "id": "f1ca9802-dee1-41eb-bbb0-2acdb87d4e07",
   "metadata": {},
   "outputs": [
    {
     "data": {
      "text/plain": [
       "'The median R-squared values for the train sets were 0.246, the median R-squared values for the test sets were 0.221. These values resulted in a differential of 0.02497'"
      ]
     },
     "execution_count": 120,
     "metadata": {},
     "output_type": "execute_result"
    }
   ],
   "source": [
    "#setting up cross validation for price in a different way \n",
    "model1_cval = cross_val(model1,\n",
    "                        X= X_train,\n",
    "                        y=y_train,\n",
    "                        random_state=0)\n",
    "\n",
    "model1_cval_summary = cval_summary(model1_cval[0],\n",
    "                                   model1_cval[1],\n",
    "                                   abs(model1_cval[0]-model1_cval[1]))\n",
    "model1_cval_summary"
   ]
  },
  {
   "cell_type": "code",
   "execution_count": 121,
   "id": "c1c932e0-153e-4d78-aa62-1c87ef6de0d4",
   "metadata": {},
   "outputs": [
    {
     "data": {
      "text/plain": [
       "'The R-squared value for the train set was 0.243, and the R-squared value for the test set was 0.2. These values resulted in a differential of 0.04314. The RMSE of our model predicitons was 7.72'"
      ]
     },
     "execution_count": 121,
     "metadata": {},
     "output_type": "execute_result"
    }
   ],
   "source": [
    "model1_scores = score_model(model1,\n",
    "                            X_train,\n",
    "                            X_test,\n",
    "                            y_train,\n",
    "                            y_test)\n",
    "\n",
    "model1_summary = model_summary(model1_scores[0],\n",
    "                               model1_scores[1],\n",
    "                               abs(model1_scores[0]-model1_scores[1]),\n",
    "                               model1_scores[2])\n",
    "model1_summary"
   ]
  },
  {
   "cell_type": "code",
   "execution_count": 49,
   "id": "ddfd8d83-2cb4-48e7-80af-963119639132",
   "metadata": {},
   "outputs": [
    {
     "data": {
      "image/png": "[encoded data removed]",
      "text/plain": [
       "<Figure size 720x720 with 1 Axes>"
      ]
     },
     "metadata": {
      "needs_background": "light"
     },
     "output_type": "display_data"
    }
   ],
   "source": [
    "actual_vs_predicted(model1, X_test, y_test)"
   ]
  },
  {
   "cell_type": "code",
   "execution_count": 50,
   "id": "1d4bf3e1-810c-4b12-9c28-c910408486dd",
   "metadata": {},
   "outputs": [],
   "source": [
    "model1.fit(X,y)\n",
    "y_preds_comp = model1.predict(newdf1)"
   ]
  },
  {
   "cell_type": "markdown",
   "id": "a4454d47-ef03-47b2-b3bc-22e8ad447826",
   "metadata": {},
   "source": [
    "## Random Forest Regressor"
   ]
  },
  {
   "cell_type": "code",
   "execution_count": 123,
   "id": "780a1c11-47d1-419a-a65d-4e7ce3fd42c4",
   "metadata": {},
   "outputs": [],
   "source": [
    "model1 = Pipeline(steps=[\n",
    "    ('c_trans', c_transform),\n",
    "    ('randomforest', RandomForestRegressor()) \n",
    "    ])"
   ]
  },
  {
   "cell_type": "code",
   "execution_count": 124,
   "id": "842656ab-2f3b-4b1c-9598-c6c6fa317601",
   "metadata": {},
   "outputs": [
    {
     "data": {
      "text/plain": [
       "Pipeline(steps=[('c_trans',\n",
       "                 ColumnTransformer(transformers=[('num',\n",
       "                                                  Pipeline(steps=[('scaler',\n",
       "                                                                   StandardScaler())]),\n",
       "                                                  Index(['UNIT_PRICE', 'UNIT_COST', 'AVG_COMPETITOR_PRICE',\n",
       "       'AVG_CPI_COMPETITIVE_PRICE_INDEX', 'AVG_COMPETITOR_SHIPPING',\n",
       "       'AVG_COMPETITOR_REG_PRICE', 'AVG_COMPETITOR_TOTAL_PRICE',\n",
       "       'AVG_COMPETITOR_TOTAL_REG_PRICE', 'YEAR'],\n",
       "      dtype='object')),\n",
       "                                                 ('cat',\n",
       "                                                  Pipeline(steps=[('ohe',\n",
       "                                                                   OneHotEncoder(handle_unknown='ignore',\n",
       "                                                                                 sparse=False))]),\n",
       "                                                  ['SCRUB_ITEM', 'MONTH'])])),\n",
       "                ('randomforest', RandomForestRegressor())])"
      ]
     },
     "execution_count": 124,
     "metadata": {},
     "output_type": "execute_result"
    }
   ],
   "source": [
    "model1.fit(X_train, y_train)"
   ]
  },
  {
   "cell_type": "code",
   "execution_count": 125,
   "id": "57a9086f-8f4b-40cb-8cdc-9896b17b2f63",
   "metadata": {},
   "outputs": [
    {
     "data": {
      "text/plain": [
       "'The median R-squared values for the train sets were 0.695, the median R-squared values for the test sets were 0.308. These values resulted in a differential of 0.38727'"
      ]
     },
     "execution_count": 125,
     "metadata": {},
     "output_type": "execute_result"
    }
   ],
   "source": [
    "#setting up cross validation for price in a different way \n",
    "model1_cval = cross_val(model1,\n",
    "                        X= X_train,\n",
    "                        y=y_train,\n",
    "                        random_state=0)\n",
    "\n",
    "model1_cval_summary = cval_summary(model1_cval[0],\n",
    "                                   model1_cval[1],\n",
    "                                   abs(model1_cval[0]-model1_cval[1]))\n",
    "model1_cval_summary"
   ]
  },
  {
   "cell_type": "code",
   "execution_count": 126,
   "id": "c6d2ae52-e624-41b2-82ae-c227c1bce505",
   "metadata": {},
   "outputs": [
    {
     "data": {
      "text/plain": [
       "'The R-squared value for the train set was 0.672, and the R-squared value for the test set was 0.326. These values resulted in a differential of 0.34583. The RMSE of our model predicitons was 7.08'"
      ]
     },
     "execution_count": 126,
     "metadata": {},
     "output_type": "execute_result"
    }
   ],
   "source": [
    "model1_scores = score_model(model1,\n",
    "                            X_train,\n",
    "                            X_test,\n",
    "                            y_train,\n",
    "                            y_test)\n",
    "\n",
    "model1_summary = model_summary(model1_scores[0],\n",
    "                               model1_scores[1],\n",
    "                               abs(model1_scores[0]-model1_scores[1]),\n",
    "                               model1_scores[2])\n",
    "model1_summary"
   ]
  },
  {
   "cell_type": "code",
   "execution_count": 127,
   "id": "cd0a7579-087a-4f3e-9582-1479aacd7230",
   "metadata": {},
   "outputs": [
    {
     "data": {
      "image/png": "[encoded data removed]",
      "text/plain": [
       "<Figure size 720x720 with 1 Axes>"
      ]
     },
     "metadata": {
      "needs_background": "light"
     },
     "output_type": "display_data"
    }
   ],
   "source": [
    "actual_vs_predicted(model1, X_test, y_test)"
   ]
  },
  {
   "cell_type": "code",
   "execution_count": 50,
   "id": "30209c27-3b79-4d3b-80af-765f10d8f914",
   "metadata": {},
   "outputs": [],
   "source": [
    "model1.fit(X,y)\n",
    "y_preds_comp = model1.predict(newdf1)"
   ]
  }
 ],
 "metadata": {
  "kernelspec": {
   "display_name": "main_env",
   "language": "python",
   "name": "main_env"
  },
  "language_info": {
   "codemirror_mode": {
    "name": "ipython",
    "version": 3
   },
   "file_extension": ".py",
   "mimetype": "text/x-python",
   "name": "python",
   "nbconvert_exporter": "python",
   "pygments_lexer": "ipython3",
   "version": "3.8.11"
  }
 },
 "nbformat": 4,
 "nbformat_minor": 5
}
