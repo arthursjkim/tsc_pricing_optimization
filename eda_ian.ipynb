{
 "cells": [
  {
   "cell_type": "code",
   "execution_count": 38,
   "id": "0ae8282e-cba9-420f-9865-5c32f4d22c27",
   "metadata": {},
   "outputs": [],
   "source": [
    "import os\n",
    "import pickle\n",
    "\n",
    "import pandas as pd\n",
    "import numpy as np\n",
    "\n",
    "import matplotlib as mpl\n",
    "import matplotlib.pyplot as plt\n",
    "import seaborn as sns\n",
    "%matplotlib inline"
   ]
  },
  {
   "cell_type": "code",
   "execution_count": 3,
   "id": "e5824184-76b2-4cc3-a51d-058273e5d7b3",
   "metadata": {},
   "outputs": [
    {
     "data": {
      "text/plain": [
       "['TSC_Price_Changes.csv',\n",
       " 'Competitors_Price_Changes.csv',\n",
       " 'TSC_Sales_Data.csv']"
      ]
     },
     "execution_count": 3,
     "metadata": {},
     "output_type": "execute_result"
    }
   ],
   "source": [
    "os.listdir('data')"
   ]
  },
  {
   "cell_type": "code",
   "execution_count": 12,
   "id": "9f381272-bcbe-46ee-ac5d-f9b68219d204",
   "metadata": {},
   "outputs": [],
   "source": [
    "def to_date(string):\n",
    "    try:\n",
    "        converted = pd.to_datetime(string)\n",
    "    except:\n",
    "        converted = np.NaN\n",
    "    return converted"
   ]
  },
  {
   "cell_type": "code",
   "execution_count": 19,
   "id": "a8c3e3e5-f6eb-4132-977f-21a80dc17932",
   "metadata": {},
   "outputs": [],
   "source": [
    "price_changes = pd.read_csv(\n",
    "    'data/TSC_Price_Changes.csv',\n",
    "    converters={\n",
    "        1: to_date,\n",
    "        2: to_date\n",
    "    }\n",
    "    \n",
    ")\n",
    "competitors_changes = pd.read_csv(\n",
    "    'data/Competitors_Price_Changes.csv',\n",
    "    converters = {\n",
    "        0: to_date\n",
    "    }\n",
    ")\n",
    "tsc_sales = pd.read_csv(\n",
    "    'data/TSC_Sales_Data.csv',\n",
    "    converters = {\n",
    "        1: to_date\n",
    "    },\n",
    "\n",
    ")"
   ]
  },
  {
   "cell_type": "code",
   "execution_count": 21,
   "id": "755ac233-e50f-4114-b3ea-b1f12c320c98",
   "metadata": {},
   "outputs": [
    {
     "name": "stdout",
     "output_type": "stream",
     "text": [
      "<class 'pandas.core.frame.DataFrame'>\n",
      "RangeIndex: 3886 entries, 0 to 3885\n",
      "Data columns (total 4 columns):\n",
      " #   Column            Non-Null Count  Dtype         \n",
      "---  ------            --------------  -----         \n",
      " 0   SCRUB_ITEM        3886 non-null   int64         \n",
      " 1   PRICE_START_DATE  3886 non-null   datetime64[ns]\n",
      " 2   PRICE_END_DATE    3815 non-null   datetime64[ns]\n",
      " 3   TSC_PRICE         3886 non-null   float64       \n",
      "dtypes: datetime64[ns](2), float64(1), int64(1)\n",
      "memory usage: 121.6 KB\n"
     ]
    },
    {
     "data": {
      "text/plain": [
       "None"
      ]
     },
     "metadata": {},
     "output_type": "display_data"
    },
    {
     "name": "stdout",
     "output_type": "stream",
     "text": [
      "\n",
      "<class 'pandas.core.frame.DataFrame'>\n",
      "RangeIndex: 90953 entries, 0 to 90952\n",
      "Data columns (total 8 columns):\n",
      " #   Column                       Non-Null Count  Dtype         \n",
      "---  ------                       --------------  -----         \n",
      " 0   SCAN_DATE_TIME               90953 non-null  datetime64[ns]\n",
      " 1   SCRUB_ITEM                   90953 non-null  int64         \n",
      " 2   SCRUB_COMPETITOR             90953 non-null  int64         \n",
      " 3   TSC_PRICE                    90953 non-null  float64       \n",
      " 4   COMPETITOR_PRICE             90953 non-null  float64       \n",
      " 5   CPI_COMPETITIVE_PRICE_INDEX  90953 non-null  float64       \n",
      " 6   COMPETITOR_SHIPPING          51396 non-null  float64       \n",
      " 7   COMPETITOR_REG_PRICE         90953 non-null  float64       \n",
      "dtypes: datetime64[ns](1), float64(5), int64(2)\n",
      "memory usage: 5.6 MB\n"
     ]
    },
    {
     "data": {
      "text/plain": [
       "None"
      ]
     },
     "metadata": {},
     "output_type": "display_data"
    },
    {
     "name": "stdout",
     "output_type": "stream",
     "text": [
      "\n",
      "<class 'pandas.core.frame.DataFrame'>\n",
      "RangeIndex: 70829 entries, 0 to 70828\n",
      "Data columns (total 7 columns):\n",
      " #   Column          Non-Null Count  Dtype         \n",
      "---  ------          --------------  -----         \n",
      " 0   SCRUB_ITEM      70829 non-null  int64         \n",
      " 1   TIME_DIM_KEY    70829 non-null  datetime64[ns]\n",
      " 2   SCRUB_TRANS_NO  70829 non-null  int64         \n",
      " 3   TRANS_SEQ_NO    70829 non-null  int64         \n",
      " 4   UNIT_QTY        70829 non-null  float64       \n",
      " 5   UNIT_PRICE      70829 non-null  float64       \n",
      " 6   UNIT_COST       70829 non-null  float64       \n",
      "dtypes: datetime64[ns](1), float64(3), int64(3)\n",
      "memory usage: 3.8 MB\n"
     ]
    },
    {
     "data": {
      "text/plain": [
       "None"
      ]
     },
     "metadata": {},
     "output_type": "display_data"
    }
   ],
   "source": [
    "display(price_changes.info())\n",
    "print()\n",
    "display(competitors_changes.info())\n",
    "print()\n",
    "display(tsc_sales.info())"
   ]
  },
  {
   "cell_type": "code",
   "execution_count": 22,
   "id": "4e2e48ba-967f-40c3-9bd1-b2bd47f14443",
   "metadata": {},
   "outputs": [
    {
     "data": {
      "text/html": [
       "<div>\n",
       "<style scoped>\n",
       "    .dataframe tbody tr th:only-of-type {\n",
       "        vertical-align: middle;\n",
       "    }\n",
       "\n",
       "    .dataframe tbody tr th {\n",
       "        vertical-align: top;\n",
       "    }\n",
       "\n",
       "    .dataframe thead th {\n",
       "        text-align: right;\n",
       "    }\n",
       "</style>\n",
       "<table border=\"1\" class=\"dataframe\">\n",
       "  <thead>\n",
       "    <tr style=\"text-align: right;\">\n",
       "      <th></th>\n",
       "      <th>SCRUB_ITEM</th>\n",
       "      <th>PRICE_START_DATE</th>\n",
       "      <th>PRICE_END_DATE</th>\n",
       "      <th>TSC_PRICE</th>\n",
       "    </tr>\n",
       "  </thead>\n",
       "  <tbody>\n",
       "    <tr>\n",
       "      <th>0</th>\n",
       "      <td>1</td>\n",
       "      <td>2019-08-26</td>\n",
       "      <td>2019-10-03</td>\n",
       "      <td>199.99</td>\n",
       "    </tr>\n",
       "    <tr>\n",
       "      <th>1</th>\n",
       "      <td>1</td>\n",
       "      <td>2019-10-04</td>\n",
       "      <td>2019-10-08</td>\n",
       "      <td>179.99</td>\n",
       "    </tr>\n",
       "    <tr>\n",
       "      <th>2</th>\n",
       "      <td>1</td>\n",
       "      <td>2019-10-09</td>\n",
       "      <td>2019-10-27</td>\n",
       "      <td>199.99</td>\n",
       "    </tr>\n",
       "    <tr>\n",
       "      <th>3</th>\n",
       "      <td>1</td>\n",
       "      <td>2019-10-28</td>\n",
       "      <td>2019-10-29</td>\n",
       "      <td>179.99</td>\n",
       "    </tr>\n",
       "    <tr>\n",
       "      <th>4</th>\n",
       "      <td>1</td>\n",
       "      <td>2019-10-30</td>\n",
       "      <td>2019-11-05</td>\n",
       "      <td>199.99</td>\n",
       "    </tr>\n",
       "  </tbody>\n",
       "</table>\n",
       "</div>"
      ],
      "text/plain": [
       "   SCRUB_ITEM PRICE_START_DATE PRICE_END_DATE  TSC_PRICE\n",
       "0           1       2019-08-26     2019-10-03     199.99\n",
       "1           1       2019-10-04     2019-10-08     179.99\n",
       "2           1       2019-10-09     2019-10-27     199.99\n",
       "3           1       2019-10-28     2019-10-29     179.99\n",
       "4           1       2019-10-30     2019-11-05     199.99"
      ]
     },
     "execution_count": 22,
     "metadata": {},
     "output_type": "execute_result"
    }
   ],
   "source": [
    "price_changes.head()"
   ]
  },
  {
   "cell_type": "code",
   "execution_count": 23,
   "id": "87cc9903-76ec-4366-bde0-757e0c724acb",
   "metadata": {},
   "outputs": [
    {
     "data": {
      "text/html": [
       "<div>\n",
       "<style scoped>\n",
       "    .dataframe tbody tr th:only-of-type {\n",
       "        vertical-align: middle;\n",
       "    }\n",
       "\n",
       "    .dataframe tbody tr th {\n",
       "        vertical-align: top;\n",
       "    }\n",
       "\n",
       "    .dataframe thead th {\n",
       "        text-align: right;\n",
       "    }\n",
       "</style>\n",
       "<table border=\"1\" class=\"dataframe\">\n",
       "  <thead>\n",
       "    <tr style=\"text-align: right;\">\n",
       "      <th></th>\n",
       "      <th>SCAN_DATE_TIME</th>\n",
       "      <th>SCRUB_ITEM</th>\n",
       "      <th>SCRUB_COMPETITOR</th>\n",
       "      <th>TSC_PRICE</th>\n",
       "      <th>COMPETITOR_PRICE</th>\n",
       "      <th>CPI_COMPETITIVE_PRICE_INDEX</th>\n",
       "      <th>COMPETITOR_SHIPPING</th>\n",
       "      <th>COMPETITOR_REG_PRICE</th>\n",
       "    </tr>\n",
       "  </thead>\n",
       "  <tbody>\n",
       "    <tr>\n",
       "      <th>0</th>\n",
       "      <td>2020-08-06 04:20:00</td>\n",
       "      <td>1</td>\n",
       "      <td>1</td>\n",
       "      <td>199.99</td>\n",
       "      <td>205.58</td>\n",
       "      <td>102.7951</td>\n",
       "      <td>0.0</td>\n",
       "      <td>205.58</td>\n",
       "    </tr>\n",
       "    <tr>\n",
       "      <th>1</th>\n",
       "      <td>2020-08-06 04:21:00</td>\n",
       "      <td>1</td>\n",
       "      <td>2</td>\n",
       "      <td>199.99</td>\n",
       "      <td>205.58</td>\n",
       "      <td>102.7951</td>\n",
       "      <td>0.0</td>\n",
       "      <td>205.58</td>\n",
       "    </tr>\n",
       "    <tr>\n",
       "      <th>2</th>\n",
       "      <td>2020-08-07 04:24:00</td>\n",
       "      <td>1</td>\n",
       "      <td>1</td>\n",
       "      <td>199.99</td>\n",
       "      <td>205.58</td>\n",
       "      <td>102.7951</td>\n",
       "      <td>0.0</td>\n",
       "      <td>205.58</td>\n",
       "    </tr>\n",
       "    <tr>\n",
       "      <th>3</th>\n",
       "      <td>2020-08-07 04:24:00</td>\n",
       "      <td>1</td>\n",
       "      <td>2</td>\n",
       "      <td>199.99</td>\n",
       "      <td>205.58</td>\n",
       "      <td>102.7951</td>\n",
       "      <td>0.0</td>\n",
       "      <td>205.58</td>\n",
       "    </tr>\n",
       "    <tr>\n",
       "      <th>4</th>\n",
       "      <td>2020-08-08 04:22:00</td>\n",
       "      <td>1</td>\n",
       "      <td>1</td>\n",
       "      <td>199.99</td>\n",
       "      <td>205.58</td>\n",
       "      <td>102.7951</td>\n",
       "      <td>0.0</td>\n",
       "      <td>205.58</td>\n",
       "    </tr>\n",
       "  </tbody>\n",
       "</table>\n",
       "</div>"
      ],
      "text/plain": [
       "       SCAN_DATE_TIME  SCRUB_ITEM  SCRUB_COMPETITOR  TSC_PRICE  \\\n",
       "0 2020-08-06 04:20:00           1                 1     199.99   \n",
       "1 2020-08-06 04:21:00           1                 2     199.99   \n",
       "2 2020-08-07 04:24:00           1                 1     199.99   \n",
       "3 2020-08-07 04:24:00           1                 2     199.99   \n",
       "4 2020-08-08 04:22:00           1                 1     199.99   \n",
       "\n",
       "   COMPETITOR_PRICE  CPI_COMPETITIVE_PRICE_INDEX  COMPETITOR_SHIPPING  \\\n",
       "0            205.58                     102.7951                  0.0   \n",
       "1            205.58                     102.7951                  0.0   \n",
       "2            205.58                     102.7951                  0.0   \n",
       "3            205.58                     102.7951                  0.0   \n",
       "4            205.58                     102.7951                  0.0   \n",
       "\n",
       "   COMPETITOR_REG_PRICE  \n",
       "0                205.58  \n",
       "1                205.58  \n",
       "2                205.58  \n",
       "3                205.58  \n",
       "4                205.58  "
      ]
     },
     "execution_count": 23,
     "metadata": {},
     "output_type": "execute_result"
    }
   ],
   "source": [
    "competitors_changes.head()"
   ]
  },
  {
   "cell_type": "code",
   "execution_count": 24,
   "id": "7212b820-5b2d-4f1a-82a4-ca7fffb59e31",
   "metadata": {},
   "outputs": [
    {
     "data": {
      "text/plain": [
       "1    52705\n",
       "3    25683\n",
       "2    12565\n",
       "Name: SCRUB_COMPETITOR, dtype: int64"
      ]
     },
     "execution_count": 24,
     "metadata": {},
     "output_type": "execute_result"
    }
   ],
   "source": [
    "competitors_changes['SCRUB_COMPETITOR'].value_counts()"
   ]
  },
  {
   "cell_type": "code",
   "execution_count": 25,
   "id": "e1c9ebd5-82b5-4033-841d-bf6d9a471ed7",
   "metadata": {},
   "outputs": [],
   "source": [
    "competitors = competitors_changes.groupby('SCRUB_COMPETITOR')"
   ]
  },
  {
   "cell_type": "code",
   "execution_count": 26,
   "id": "0c5d7cc8-4871-49da-9e36-19eda9a53dac",
   "metadata": {},
   "outputs": [
    {
     "data": {
      "text/html": [
       "<div>\n",
       "<style scoped>\n",
       "    .dataframe tbody tr th:only-of-type {\n",
       "        vertical-align: middle;\n",
       "    }\n",
       "\n",
       "    .dataframe tbody tr th {\n",
       "        vertical-align: top;\n",
       "    }\n",
       "\n",
       "    .dataframe thead th {\n",
       "        text-align: right;\n",
       "    }\n",
       "</style>\n",
       "<table border=\"1\" class=\"dataframe\">\n",
       "  <thead>\n",
       "    <tr style=\"text-align: right;\">\n",
       "      <th></th>\n",
       "      <th>SCRUB_ITEM</th>\n",
       "      <th>TIME_DIM_KEY</th>\n",
       "      <th>SCRUB_TRANS_NO</th>\n",
       "      <th>TRANS_SEQ_NO</th>\n",
       "      <th>UNIT_QTY</th>\n",
       "      <th>UNIT_PRICE</th>\n",
       "      <th>UNIT_COST</th>\n",
       "    </tr>\n",
       "  </thead>\n",
       "  <tbody>\n",
       "    <tr>\n",
       "      <th>0</th>\n",
       "      <td>1</td>\n",
       "      <td>2018-04-02</td>\n",
       "      <td>1296</td>\n",
       "      <td>2</td>\n",
       "      <td>2.0</td>\n",
       "      <td>322.99</td>\n",
       "      <td>132.97</td>\n",
       "    </tr>\n",
       "    <tr>\n",
       "      <th>1</th>\n",
       "      <td>1</td>\n",
       "      <td>2018-12-06</td>\n",
       "      <td>6878</td>\n",
       "      <td>1</td>\n",
       "      <td>1.0</td>\n",
       "      <td>322.99</td>\n",
       "      <td>132.97</td>\n",
       "    </tr>\n",
       "    <tr>\n",
       "      <th>2</th>\n",
       "      <td>1</td>\n",
       "      <td>2018-12-10</td>\n",
       "      <td>7010</td>\n",
       "      <td>2</td>\n",
       "      <td>2.0</td>\n",
       "      <td>322.99</td>\n",
       "      <td>132.97</td>\n",
       "    </tr>\n",
       "    <tr>\n",
       "      <th>3</th>\n",
       "      <td>1</td>\n",
       "      <td>2019-02-14</td>\n",
       "      <td>8380</td>\n",
       "      <td>2</td>\n",
       "      <td>1.0</td>\n",
       "      <td>322.99</td>\n",
       "      <td>132.97</td>\n",
       "    </tr>\n",
       "    <tr>\n",
       "      <th>4</th>\n",
       "      <td>1</td>\n",
       "      <td>2019-05-02</td>\n",
       "      <td>10639</td>\n",
       "      <td>1</td>\n",
       "      <td>2.0</td>\n",
       "      <td>219.99</td>\n",
       "      <td>132.97</td>\n",
       "    </tr>\n",
       "  </tbody>\n",
       "</table>\n",
       "</div>"
      ],
      "text/plain": [
       "   SCRUB_ITEM TIME_DIM_KEY  SCRUB_TRANS_NO  TRANS_SEQ_NO  UNIT_QTY  \\\n",
       "0           1   2018-04-02            1296             2       2.0   \n",
       "1           1   2018-12-06            6878             1       1.0   \n",
       "2           1   2018-12-10            7010             2       2.0   \n",
       "3           1   2019-02-14            8380             2       1.0   \n",
       "4           1   2019-05-02           10639             1       2.0   \n",
       "\n",
       "   UNIT_PRICE  UNIT_COST  \n",
       "0      322.99     132.97  \n",
       "1      322.99     132.97  \n",
       "2      322.99     132.97  \n",
       "3      322.99     132.97  \n",
       "4      219.99     132.97  "
      ]
     },
     "execution_count": 26,
     "metadata": {},
     "output_type": "execute_result"
    }
   ],
   "source": [
    "tsc_sales.head()"
   ]
  },
  {
   "cell_type": "code",
   "execution_count": 18,
   "id": "73103ca6-ea14-4d5a-8f02-a8c60632e282",
   "metadata": {},
   "outputs": [
    {
     "data": {
      "text/plain": [
       "40    6448\n",
       "2     4414\n",
       "83    3257\n",
       "94    3036\n",
       "69    2921\n",
       "      ... \n",
       "66      62\n",
       "79      61\n",
       "14      60\n",
       "92      46\n",
       "84      11\n",
       "Name: SCRUB_ITEM, Length: 97, dtype: int64"
      ]
     },
     "execution_count": 18,
     "metadata": {},
     "output_type": "execute_result"
    }
   ],
   "source": [
    "tsc_sales['SCRUB_ITEM'].value_counts()"
   ]
  },
  {
   "cell_type": "code",
   "execution_count": 30,
   "id": "e8426cdb-f44b-4c97-aae2-e26d52209b1f",
   "metadata": {},
   "outputs": [],
   "source": [
    "sales_gross_margins = tsc_sales.eval(\n",
    "    '''\n",
    "    GROSS_MARGIN = (UNIT_QTY * UNIT_PRICE) - (UNIT_QTY * UNIT_COST)\n",
    "    '''\n",
    ")"
   ]
  },
  {
   "cell_type": "code",
   "execution_count": 36,
   "id": "b22481b8-19f6-4161-bf14-aa42455f1cd9",
   "metadata": {},
   "outputs": [],
   "source": [
    "top_ten_gross_margins = sales_gross_margins.groupby('SCRUB_ITEM')[['GROSS_MARGIN']].sum().sort_values('GROSS_MARGIN', ascending=False).head(10)"
   ]
  },
  {
   "cell_type": "code",
   "execution_count": 51,
   "id": "9f680db7-dc6e-49d5-8301-94a5901815a2",
   "metadata": {},
   "outputs": [
    {
     "data": {
      "text/plain": [
       "Text(0, 0.5, 'Product Number')"
      ]
     },
     "execution_count": 51,
     "metadata": {},
     "output_type": "execute_result"
    },
    {
     "data": {
      "image/png": "[encoded data removed]",
      "text/plain": [
       "<Figure size 1080x576 with 1 Axes>"
      ]
     },
     "metadata": {
      "needs_background": "light"
     },
     "output_type": "display_data"
    }
   ],
   "source": [
    "fig, ax = plt.subplots(figsize=(15, 8))\n",
    "top_ten_gross_margins.plot(kind='bar', legend=False, rot=0, ax=ax);\n",
    "ax.set_title('Top 10 Grossing Products')\n",
    "ax.set_xlabel('Gross Margin (USD)')\n",
    "ax.set_ylabel('Product Number')\n",
    "\n"
   ]
  },
  {
   "cell_type": "code",
   "execution_count": null,
   "id": "6f8d5980-f6b5-4823-809d-7b8497d9f98b",
   "metadata": {},
   "outputs": [],
   "source": []
  }
 ],
 "metadata": {
  "kernelspec": {
   "display_name": "general",
   "language": "python",
   "name": "general"
  },
  "language_info": {
   "codemirror_mode": {
    "name": "ipython",
    "version": 3
   },
   "file_extension": ".py",
   "mimetype": "text/x-python",
   "name": "python",
   "nbconvert_exporter": "python",
   "pygments_lexer": "ipython3",
   "version": "3.8.11"
  }
 },
 "nbformat": 4,
 "nbformat_minor": 5
}
